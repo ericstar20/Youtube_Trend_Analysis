{
 "cells": [
  {
   "cell_type": "markdown",
   "metadata": {},
   "source": [
    "# Machine Learning Project 1 - US Trending YouTube Video Regression\n",
    "### Shih-Tien Wang"
   ]
  },
  {
   "cell_type": "markdown",
   "metadata": {},
   "source": [
    "Youtube is the biggest video streaming platform in the world and this platform is my favorite website of all time. Thus, the purpose of this project is to Analyze what factors affect how popular a YouTube video will be in the US."
   ]
  },
  {
   "cell_type": "markdown",
   "metadata": {},
   "source": [
    "<img src=\"files/yt.png\">"
   ]
  },
  {
   "cell_type": "markdown",
   "metadata": {},
   "source": [
    "## The Dataset Introduction"
   ]
  },
  {
   "cell_type": "markdown",
   "metadata": {},
   "source": [
    "* Objective: Classified shot made and shot miss\n",
    "* Data Rows: 40949\n",
    "* Data Columns : 16\n",
    "* Target Variable : \n",
    "* Features Variable :\n",
    "* Kaggle Link : https://www.kaggle.com/datasnaek/youtube-new#US_category_id.json"
   ]
  },
  {
   "cell_type": "code",
   "execution_count": 1,
   "metadata": {},
   "outputs": [],
   "source": [
    "import pandas as pd\n",
    "import numpy as np\n",
    "import matplotlib.pyplot as plt"
   ]
  },
  {
   "cell_type": "code",
   "execution_count": 2,
   "metadata": {},
   "outputs": [
    {
     "data": {
      "text/html": [
       "<div>\n",
       "<style scoped>\n",
       "    .dataframe tbody tr th:only-of-type {\n",
       "        vertical-align: middle;\n",
       "    }\n",
       "\n",
       "    .dataframe tbody tr th {\n",
       "        vertical-align: top;\n",
       "    }\n",
       "\n",
       "    .dataframe thead th {\n",
       "        text-align: right;\n",
       "    }\n",
       "</style>\n",
       "<table border=\"1\" class=\"dataframe\">\n",
       "  <thead>\n",
       "    <tr style=\"text-align: right;\">\n",
       "      <th></th>\n",
       "      <th>video_id</th>\n",
       "      <th>trending_date</th>\n",
       "      <th>title</th>\n",
       "      <th>channel_title</th>\n",
       "      <th>category_id</th>\n",
       "      <th>publish_time</th>\n",
       "      <th>tags</th>\n",
       "      <th>views</th>\n",
       "      <th>likes</th>\n",
       "      <th>dislikes</th>\n",
       "      <th>comment_count</th>\n",
       "      <th>thumbnail_link</th>\n",
       "      <th>comments_disabled</th>\n",
       "      <th>ratings_disabled</th>\n",
       "      <th>video_error_or_removed</th>\n",
       "      <th>description</th>\n",
       "    </tr>\n",
       "  </thead>\n",
       "  <tbody>\n",
       "    <tr>\n",
       "      <th>0</th>\n",
       "      <td>2kyS6SvSYSE</td>\n",
       "      <td>17.14.11</td>\n",
       "      <td>WE WANT TO TALK ABOUT OUR MARRIAGE</td>\n",
       "      <td>CaseyNeistat</td>\n",
       "      <td>22</td>\n",
       "      <td>2017-11-13T17:13:01.000Z</td>\n",
       "      <td>SHANtell martin</td>\n",
       "      <td>748374</td>\n",
       "      <td>57527</td>\n",
       "      <td>2966</td>\n",
       "      <td>15954</td>\n",
       "      <td>https://i.ytimg.com/vi/2kyS6SvSYSE/default.jpg</td>\n",
       "      <td>False</td>\n",
       "      <td>False</td>\n",
       "      <td>False</td>\n",
       "      <td>SHANTELL'S CHANNEL - https://www.youtube.com/s...</td>\n",
       "    </tr>\n",
       "    <tr>\n",
       "      <th>1</th>\n",
       "      <td>1ZAPwfrtAFY</td>\n",
       "      <td>17.14.11</td>\n",
       "      <td>The Trump Presidency: Last Week Tonight with J...</td>\n",
       "      <td>LastWeekTonight</td>\n",
       "      <td>24</td>\n",
       "      <td>2017-11-13T07:30:00.000Z</td>\n",
       "      <td>last week tonight trump presidency|\"last week ...</td>\n",
       "      <td>2418783</td>\n",
       "      <td>97185</td>\n",
       "      <td>6146</td>\n",
       "      <td>12703</td>\n",
       "      <td>https://i.ytimg.com/vi/1ZAPwfrtAFY/default.jpg</td>\n",
       "      <td>False</td>\n",
       "      <td>False</td>\n",
       "      <td>False</td>\n",
       "      <td>One year after the presidential election, John...</td>\n",
       "    </tr>\n",
       "    <tr>\n",
       "      <th>2</th>\n",
       "      <td>5qpjK5DgCt4</td>\n",
       "      <td>17.14.11</td>\n",
       "      <td>Racist Superman | Rudy Mancuso, King Bach &amp; Le...</td>\n",
       "      <td>Rudy Mancuso</td>\n",
       "      <td>23</td>\n",
       "      <td>2017-11-12T19:05:24.000Z</td>\n",
       "      <td>racist superman|\"rudy\"|\"mancuso\"|\"king\"|\"bach\"...</td>\n",
       "      <td>3191434</td>\n",
       "      <td>146033</td>\n",
       "      <td>5339</td>\n",
       "      <td>8181</td>\n",
       "      <td>https://i.ytimg.com/vi/5qpjK5DgCt4/default.jpg</td>\n",
       "      <td>False</td>\n",
       "      <td>False</td>\n",
       "      <td>False</td>\n",
       "      <td>WATCH MY PREVIOUS VIDEO ▶ \\n\\nSUBSCRIBE ► http...</td>\n",
       "    </tr>\n",
       "    <tr>\n",
       "      <th>3</th>\n",
       "      <td>puqaWrEC7tY</td>\n",
       "      <td>17.14.11</td>\n",
       "      <td>Nickelback Lyrics: Real or Fake?</td>\n",
       "      <td>Good Mythical Morning</td>\n",
       "      <td>24</td>\n",
       "      <td>2017-11-13T11:00:04.000Z</td>\n",
       "      <td>rhett and link|\"gmm\"|\"good mythical morning\"|\"...</td>\n",
       "      <td>343168</td>\n",
       "      <td>10172</td>\n",
       "      <td>666</td>\n",
       "      <td>2146</td>\n",
       "      <td>https://i.ytimg.com/vi/puqaWrEC7tY/default.jpg</td>\n",
       "      <td>False</td>\n",
       "      <td>False</td>\n",
       "      <td>False</td>\n",
       "      <td>Today we find out if Link is a Nickelback amat...</td>\n",
       "    </tr>\n",
       "    <tr>\n",
       "      <th>4</th>\n",
       "      <td>d380meD0W0M</td>\n",
       "      <td>17.14.11</td>\n",
       "      <td>I Dare You: GOING BALD!?</td>\n",
       "      <td>nigahiga</td>\n",
       "      <td>24</td>\n",
       "      <td>2017-11-12T18:01:41.000Z</td>\n",
       "      <td>ryan|\"higa\"|\"higatv\"|\"nigahiga\"|\"i dare you\"|\"...</td>\n",
       "      <td>2095731</td>\n",
       "      <td>132235</td>\n",
       "      <td>1989</td>\n",
       "      <td>17518</td>\n",
       "      <td>https://i.ytimg.com/vi/d380meD0W0M/default.jpg</td>\n",
       "      <td>False</td>\n",
       "      <td>False</td>\n",
       "      <td>False</td>\n",
       "      <td>I know it's been a while since we did this sho...</td>\n",
       "    </tr>\n",
       "  </tbody>\n",
       "</table>\n",
       "</div>"
      ],
      "text/plain": [
       "      video_id trending_date  \\\n",
       "0  2kyS6SvSYSE      17.14.11   \n",
       "1  1ZAPwfrtAFY      17.14.11   \n",
       "2  5qpjK5DgCt4      17.14.11   \n",
       "3  puqaWrEC7tY      17.14.11   \n",
       "4  d380meD0W0M      17.14.11   \n",
       "\n",
       "                                               title          channel_title  \\\n",
       "0                 WE WANT TO TALK ABOUT OUR MARRIAGE           CaseyNeistat   \n",
       "1  The Trump Presidency: Last Week Tonight with J...        LastWeekTonight   \n",
       "2  Racist Superman | Rudy Mancuso, King Bach & Le...           Rudy Mancuso   \n",
       "3                   Nickelback Lyrics: Real or Fake?  Good Mythical Morning   \n",
       "4                           I Dare You: GOING BALD!?               nigahiga   \n",
       "\n",
       "   category_id              publish_time  \\\n",
       "0           22  2017-11-13T17:13:01.000Z   \n",
       "1           24  2017-11-13T07:30:00.000Z   \n",
       "2           23  2017-11-12T19:05:24.000Z   \n",
       "3           24  2017-11-13T11:00:04.000Z   \n",
       "4           24  2017-11-12T18:01:41.000Z   \n",
       "\n",
       "                                                tags    views   likes  \\\n",
       "0                                    SHANtell martin   748374   57527   \n",
       "1  last week tonight trump presidency|\"last week ...  2418783   97185   \n",
       "2  racist superman|\"rudy\"|\"mancuso\"|\"king\"|\"bach\"...  3191434  146033   \n",
       "3  rhett and link|\"gmm\"|\"good mythical morning\"|\"...   343168   10172   \n",
       "4  ryan|\"higa\"|\"higatv\"|\"nigahiga\"|\"i dare you\"|\"...  2095731  132235   \n",
       "\n",
       "   dislikes  comment_count                                  thumbnail_link  \\\n",
       "0      2966          15954  https://i.ytimg.com/vi/2kyS6SvSYSE/default.jpg   \n",
       "1      6146          12703  https://i.ytimg.com/vi/1ZAPwfrtAFY/default.jpg   \n",
       "2      5339           8181  https://i.ytimg.com/vi/5qpjK5DgCt4/default.jpg   \n",
       "3       666           2146  https://i.ytimg.com/vi/puqaWrEC7tY/default.jpg   \n",
       "4      1989          17518  https://i.ytimg.com/vi/d380meD0W0M/default.jpg   \n",
       "\n",
       "   comments_disabled  ratings_disabled  video_error_or_removed  \\\n",
       "0              False             False                   False   \n",
       "1              False             False                   False   \n",
       "2              False             False                   False   \n",
       "3              False             False                   False   \n",
       "4              False             False                   False   \n",
       "\n",
       "                                         description  \n",
       "0  SHANTELL'S CHANNEL - https://www.youtube.com/s...  \n",
       "1  One year after the presidential election, John...  \n",
       "2  WATCH MY PREVIOUS VIDEO ▶ \\n\\nSUBSCRIBE ► http...  \n",
       "3  Today we find out if Link is a Nickelback amat...  \n",
       "4  I know it's been a while since we did this sho...  "
      ]
     },
     "execution_count": 2,
     "metadata": {},
     "output_type": "execute_result"
    }
   ],
   "source": [
    "df = pd.read_csv('USvideos.csv')\n",
    "df_org = df.copy() # copy a original dataset\n",
    "df.head()"
   ]
  },
  {
   "cell_type": "code",
   "execution_count": 3,
   "metadata": {},
   "outputs": [
    {
     "data": {
      "text/plain": [
       "(40949, 16)"
      ]
     },
     "execution_count": 3,
     "metadata": {},
     "output_type": "execute_result"
    }
   ],
   "source": [
    "df.shape"
   ]
  },
  {
   "cell_type": "code",
   "execution_count": 4,
   "metadata": {},
   "outputs": [
    {
     "name": "stdout",
     "output_type": "stream",
     "text": [
      "<class 'pandas.core.frame.DataFrame'>\n",
      "RangeIndex: 40949 entries, 0 to 40948\n",
      "Data columns (total 16 columns):\n",
      " #   Column                  Non-Null Count  Dtype \n",
      "---  ------                  --------------  ----- \n",
      " 0   video_id                40949 non-null  object\n",
      " 1   trending_date           40949 non-null  object\n",
      " 2   title                   40949 non-null  object\n",
      " 3   channel_title           40949 non-null  object\n",
      " 4   category_id             40949 non-null  int64 \n",
      " 5   publish_time            40949 non-null  object\n",
      " 6   tags                    40949 non-null  object\n",
      " 7   views                   40949 non-null  int64 \n",
      " 8   likes                   40949 non-null  int64 \n",
      " 9   dislikes                40949 non-null  int64 \n",
      " 10  comment_count           40949 non-null  int64 \n",
      " 11  thumbnail_link          40949 non-null  object\n",
      " 12  comments_disabled       40949 non-null  bool  \n",
      " 13  ratings_disabled        40949 non-null  bool  \n",
      " 14  video_error_or_removed  40949 non-null  bool  \n",
      " 15  description             40379 non-null  object\n",
      "dtypes: bool(3), int64(5), object(8)\n",
      "memory usage: 4.2+ MB\n"
     ]
    }
   ],
   "source": [
    "df.info()"
   ]
  },
  {
   "cell_type": "code",
   "execution_count": 5,
   "metadata": {},
   "outputs": [
    {
     "data": {
      "text/html": [
       "<div>\n",
       "<style scoped>\n",
       "    .dataframe tbody tr th:only-of-type {\n",
       "        vertical-align: middle;\n",
       "    }\n",
       "\n",
       "    .dataframe tbody tr th {\n",
       "        vertical-align: top;\n",
       "    }\n",
       "\n",
       "    .dataframe thead th {\n",
       "        text-align: right;\n",
       "    }\n",
       "</style>\n",
       "<table border=\"1\" class=\"dataframe\">\n",
       "  <thead>\n",
       "    <tr style=\"text-align: right;\">\n",
       "      <th></th>\n",
       "      <th>category_id</th>\n",
       "      <th>views</th>\n",
       "      <th>likes</th>\n",
       "      <th>dislikes</th>\n",
       "      <th>comment_count</th>\n",
       "    </tr>\n",
       "  </thead>\n",
       "  <tbody>\n",
       "    <tr>\n",
       "      <th>count</th>\n",
       "      <td>40949.000000</td>\n",
       "      <td>4.094900e+04</td>\n",
       "      <td>4.094900e+04</td>\n",
       "      <td>4.094900e+04</td>\n",
       "      <td>4.094900e+04</td>\n",
       "    </tr>\n",
       "    <tr>\n",
       "      <th>mean</th>\n",
       "      <td>19.972429</td>\n",
       "      <td>2.360785e+06</td>\n",
       "      <td>7.426670e+04</td>\n",
       "      <td>3.711401e+03</td>\n",
       "      <td>8.446804e+03</td>\n",
       "    </tr>\n",
       "    <tr>\n",
       "      <th>std</th>\n",
       "      <td>7.568327</td>\n",
       "      <td>7.394114e+06</td>\n",
       "      <td>2.288853e+05</td>\n",
       "      <td>2.902971e+04</td>\n",
       "      <td>3.743049e+04</td>\n",
       "    </tr>\n",
       "    <tr>\n",
       "      <th>min</th>\n",
       "      <td>1.000000</td>\n",
       "      <td>5.490000e+02</td>\n",
       "      <td>0.000000e+00</td>\n",
       "      <td>0.000000e+00</td>\n",
       "      <td>0.000000e+00</td>\n",
       "    </tr>\n",
       "    <tr>\n",
       "      <th>25%</th>\n",
       "      <td>17.000000</td>\n",
       "      <td>2.423290e+05</td>\n",
       "      <td>5.424000e+03</td>\n",
       "      <td>2.020000e+02</td>\n",
       "      <td>6.140000e+02</td>\n",
       "    </tr>\n",
       "    <tr>\n",
       "      <th>50%</th>\n",
       "      <td>24.000000</td>\n",
       "      <td>6.818610e+05</td>\n",
       "      <td>1.809100e+04</td>\n",
       "      <td>6.310000e+02</td>\n",
       "      <td>1.856000e+03</td>\n",
       "    </tr>\n",
       "    <tr>\n",
       "      <th>75%</th>\n",
       "      <td>25.000000</td>\n",
       "      <td>1.823157e+06</td>\n",
       "      <td>5.541700e+04</td>\n",
       "      <td>1.938000e+03</td>\n",
       "      <td>5.755000e+03</td>\n",
       "    </tr>\n",
       "    <tr>\n",
       "      <th>max</th>\n",
       "      <td>43.000000</td>\n",
       "      <td>2.252119e+08</td>\n",
       "      <td>5.613827e+06</td>\n",
       "      <td>1.674420e+06</td>\n",
       "      <td>1.361580e+06</td>\n",
       "    </tr>\n",
       "  </tbody>\n",
       "</table>\n",
       "</div>"
      ],
      "text/plain": [
       "        category_id         views         likes      dislikes  comment_count\n",
       "count  40949.000000  4.094900e+04  4.094900e+04  4.094900e+04   4.094900e+04\n",
       "mean      19.972429  2.360785e+06  7.426670e+04  3.711401e+03   8.446804e+03\n",
       "std        7.568327  7.394114e+06  2.288853e+05  2.902971e+04   3.743049e+04\n",
       "min        1.000000  5.490000e+02  0.000000e+00  0.000000e+00   0.000000e+00\n",
       "25%       17.000000  2.423290e+05  5.424000e+03  2.020000e+02   6.140000e+02\n",
       "50%       24.000000  6.818610e+05  1.809100e+04  6.310000e+02   1.856000e+03\n",
       "75%       25.000000  1.823157e+06  5.541700e+04  1.938000e+03   5.755000e+03\n",
       "max       43.000000  2.252119e+08  5.613827e+06  1.674420e+06   1.361580e+06"
      ]
     },
     "execution_count": 5,
     "metadata": {},
     "output_type": "execute_result"
    }
   ],
   "source": [
    "df.describe()"
   ]
  },
  {
   "cell_type": "code",
   "execution_count": 6,
   "metadata": {},
   "outputs": [
    {
     "data": {
      "text/html": [
       "<div>\n",
       "<style scoped>\n",
       "    .dataframe tbody tr th:only-of-type {\n",
       "        vertical-align: middle;\n",
       "    }\n",
       "\n",
       "    .dataframe tbody tr th {\n",
       "        vertical-align: top;\n",
       "    }\n",
       "\n",
       "    .dataframe thead th {\n",
       "        text-align: right;\n",
       "    }\n",
       "</style>\n",
       "<table border=\"1\" class=\"dataframe\">\n",
       "  <thead>\n",
       "    <tr style=\"text-align: right;\">\n",
       "      <th></th>\n",
       "      <th>video_id</th>\n",
       "      <th>trending_date</th>\n",
       "      <th>title</th>\n",
       "      <th>channel_title</th>\n",
       "      <th>publish_time</th>\n",
       "      <th>tags</th>\n",
       "      <th>thumbnail_link</th>\n",
       "      <th>description</th>\n",
       "    </tr>\n",
       "  </thead>\n",
       "  <tbody>\n",
       "    <tr>\n",
       "      <th>count</th>\n",
       "      <td>40949</td>\n",
       "      <td>40949</td>\n",
       "      <td>40949</td>\n",
       "      <td>40949</td>\n",
       "      <td>40949</td>\n",
       "      <td>40949</td>\n",
       "      <td>40949</td>\n",
       "      <td>40379</td>\n",
       "    </tr>\n",
       "    <tr>\n",
       "      <th>unique</th>\n",
       "      <td>6351</td>\n",
       "      <td>205</td>\n",
       "      <td>6455</td>\n",
       "      <td>2207</td>\n",
       "      <td>6269</td>\n",
       "      <td>6055</td>\n",
       "      <td>6352</td>\n",
       "      <td>6901</td>\n",
       "    </tr>\n",
       "    <tr>\n",
       "      <th>top</th>\n",
       "      <td>j4KvrAUjn6c</td>\n",
       "      <td>18.24.02</td>\n",
       "      <td>WE MADE OUR MOM CRY...HER DREAM CAME TRUE!</td>\n",
       "      <td>ESPN</td>\n",
       "      <td>2018-05-18T14:00:04.000Z</td>\n",
       "      <td>[none]</td>\n",
       "      <td>https://i.ytimg.com/vi/j4KvrAUjn6c/default.jpg</td>\n",
       "      <td>► Listen LIVE: http://power1051fm.com/\\n► Face...</td>\n",
       "    </tr>\n",
       "    <tr>\n",
       "      <th>freq</th>\n",
       "      <td>30</td>\n",
       "      <td>200</td>\n",
       "      <td>30</td>\n",
       "      <td>203</td>\n",
       "      <td>50</td>\n",
       "      <td>1535</td>\n",
       "      <td>30</td>\n",
       "      <td>58</td>\n",
       "    </tr>\n",
       "  </tbody>\n",
       "</table>\n",
       "</div>"
      ],
      "text/plain": [
       "           video_id trending_date                                       title  \\\n",
       "count         40949         40949                                       40949   \n",
       "unique         6351           205                                        6455   \n",
       "top     j4KvrAUjn6c      18.24.02  WE MADE OUR MOM CRY...HER DREAM CAME TRUE!   \n",
       "freq             30           200                                          30   \n",
       "\n",
       "       channel_title              publish_time    tags  \\\n",
       "count          40949                     40949   40949   \n",
       "unique          2207                      6269    6055   \n",
       "top             ESPN  2018-05-18T14:00:04.000Z  [none]   \n",
       "freq             203                        50    1535   \n",
       "\n",
       "                                        thumbnail_link  \\\n",
       "count                                            40949   \n",
       "unique                                            6352   \n",
       "top     https://i.ytimg.com/vi/j4KvrAUjn6c/default.jpg   \n",
       "freq                                                30   \n",
       "\n",
       "                                              description  \n",
       "count                                               40379  \n",
       "unique                                               6901  \n",
       "top     ► Listen LIVE: http://power1051fm.com/\\n► Face...  \n",
       "freq                                                   58  "
      ]
     },
     "execution_count": 6,
     "metadata": {},
     "output_type": "execute_result"
    }
   ],
   "source": [
    "df.describe(include='O')"
   ]
  },
  {
   "cell_type": "code",
   "execution_count": 7,
   "metadata": {},
   "outputs": [
    {
     "data": {
      "text/html": [
       "<div>\n",
       "<style scoped>\n",
       "    .dataframe tbody tr th:only-of-type {\n",
       "        vertical-align: middle;\n",
       "    }\n",
       "\n",
       "    .dataframe tbody tr th {\n",
       "        vertical-align: top;\n",
       "    }\n",
       "\n",
       "    .dataframe thead th {\n",
       "        text-align: right;\n",
       "    }\n",
       "</style>\n",
       "<table border=\"1\" class=\"dataframe\">\n",
       "  <thead>\n",
       "    <tr style=\"text-align: right;\">\n",
       "      <th></th>\n",
       "      <th>category_id</th>\n",
       "      <th>views</th>\n",
       "      <th>likes</th>\n",
       "      <th>dislikes</th>\n",
       "      <th>comment_count</th>\n",
       "      <th>comments_disabled</th>\n",
       "      <th>ratings_disabled</th>\n",
       "      <th>video_error_or_removed</th>\n",
       "    </tr>\n",
       "  </thead>\n",
       "  <tbody>\n",
       "    <tr>\n",
       "      <th>category_id</th>\n",
       "      <td>1.000000</td>\n",
       "      <td>-0.168231</td>\n",
       "      <td>-0.173921</td>\n",
       "      <td>-0.033547</td>\n",
       "      <td>-0.076307</td>\n",
       "      <td>0.048949</td>\n",
       "      <td>-0.013506</td>\n",
       "      <td>-0.030011</td>\n",
       "    </tr>\n",
       "    <tr>\n",
       "      <th>views</th>\n",
       "      <td>-0.168231</td>\n",
       "      <td>1.000000</td>\n",
       "      <td>0.849177</td>\n",
       "      <td>0.472213</td>\n",
       "      <td>0.617621</td>\n",
       "      <td>0.002677</td>\n",
       "      <td>0.015355</td>\n",
       "      <td>-0.002256</td>\n",
       "    </tr>\n",
       "    <tr>\n",
       "      <th>likes</th>\n",
       "      <td>-0.173921</td>\n",
       "      <td>0.849177</td>\n",
       "      <td>1.000000</td>\n",
       "      <td>0.447186</td>\n",
       "      <td>0.803057</td>\n",
       "      <td>-0.028918</td>\n",
       "      <td>-0.020888</td>\n",
       "      <td>-0.002641</td>\n",
       "    </tr>\n",
       "    <tr>\n",
       "      <th>dislikes</th>\n",
       "      <td>-0.033547</td>\n",
       "      <td>0.472213</td>\n",
       "      <td>0.447186</td>\n",
       "      <td>1.000000</td>\n",
       "      <td>0.700184</td>\n",
       "      <td>-0.004431</td>\n",
       "      <td>-0.008230</td>\n",
       "      <td>-0.001853</td>\n",
       "    </tr>\n",
       "    <tr>\n",
       "      <th>comment_count</th>\n",
       "      <td>-0.076307</td>\n",
       "      <td>0.617621</td>\n",
       "      <td>0.803057</td>\n",
       "      <td>0.700184</td>\n",
       "      <td>1.000000</td>\n",
       "      <td>-0.028277</td>\n",
       "      <td>-0.013819</td>\n",
       "      <td>-0.003725</td>\n",
       "    </tr>\n",
       "    <tr>\n",
       "      <th>comments_disabled</th>\n",
       "      <td>0.048949</td>\n",
       "      <td>0.002677</td>\n",
       "      <td>-0.028918</td>\n",
       "      <td>-0.004431</td>\n",
       "      <td>-0.028277</td>\n",
       "      <td>1.000000</td>\n",
       "      <td>0.319230</td>\n",
       "      <td>-0.002970</td>\n",
       "    </tr>\n",
       "    <tr>\n",
       "      <th>ratings_disabled</th>\n",
       "      <td>-0.013506</td>\n",
       "      <td>0.015355</td>\n",
       "      <td>-0.020888</td>\n",
       "      <td>-0.008230</td>\n",
       "      <td>-0.013819</td>\n",
       "      <td>0.319230</td>\n",
       "      <td>1.000000</td>\n",
       "      <td>-0.001526</td>\n",
       "    </tr>\n",
       "    <tr>\n",
       "      <th>video_error_or_removed</th>\n",
       "      <td>-0.030011</td>\n",
       "      <td>-0.002256</td>\n",
       "      <td>-0.002641</td>\n",
       "      <td>-0.001853</td>\n",
       "      <td>-0.003725</td>\n",
       "      <td>-0.002970</td>\n",
       "      <td>-0.001526</td>\n",
       "      <td>1.000000</td>\n",
       "    </tr>\n",
       "  </tbody>\n",
       "</table>\n",
       "</div>"
      ],
      "text/plain": [
       "                        category_id     views     likes  dislikes  \\\n",
       "category_id                1.000000 -0.168231 -0.173921 -0.033547   \n",
       "views                     -0.168231  1.000000  0.849177  0.472213   \n",
       "likes                     -0.173921  0.849177  1.000000  0.447186   \n",
       "dislikes                  -0.033547  0.472213  0.447186  1.000000   \n",
       "comment_count             -0.076307  0.617621  0.803057  0.700184   \n",
       "comments_disabled          0.048949  0.002677 -0.028918 -0.004431   \n",
       "ratings_disabled          -0.013506  0.015355 -0.020888 -0.008230   \n",
       "video_error_or_removed    -0.030011 -0.002256 -0.002641 -0.001853   \n",
       "\n",
       "                        comment_count  comments_disabled  ratings_disabled  \\\n",
       "category_id                 -0.076307           0.048949         -0.013506   \n",
       "views                        0.617621           0.002677          0.015355   \n",
       "likes                        0.803057          -0.028918         -0.020888   \n",
       "dislikes                     0.700184          -0.004431         -0.008230   \n",
       "comment_count                1.000000          -0.028277         -0.013819   \n",
       "comments_disabled           -0.028277           1.000000          0.319230   \n",
       "ratings_disabled            -0.013819           0.319230          1.000000   \n",
       "video_error_or_removed      -0.003725          -0.002970         -0.001526   \n",
       "\n",
       "                        video_error_or_removed  \n",
       "category_id                          -0.030011  \n",
       "views                                -0.002256  \n",
       "likes                                -0.002641  \n",
       "dislikes                             -0.001853  \n",
       "comment_count                        -0.003725  \n",
       "comments_disabled                    -0.002970  \n",
       "ratings_disabled                     -0.001526  \n",
       "video_error_or_removed                1.000000  "
      ]
     },
     "execution_count": 7,
     "metadata": {},
     "output_type": "execute_result"
    }
   ],
   "source": [
    "df.corr()"
   ]
  },
  {
   "cell_type": "markdown",
   "metadata": {},
   "source": [
    "## Explore Target Value's missing status\n",
    "In my opinion, trending means many people like, many people see and many people discuss.\\\n",
    "Therefore, I will combine columns \n",
    "* 'likes'\n",
    "* 'views'\n",
    "* 'comment_count'\n",
    "\n",
    "as a new column calls 'trending'\n",
    "\n",
    "And this columns will be my target value"
   ]
  },
  {
   "cell_type": "code",
   "execution_count": 8,
   "metadata": {},
   "outputs": [
    {
     "data": {
      "text/html": [
       "<div>\n",
       "<style scoped>\n",
       "    .dataframe tbody tr th:only-of-type {\n",
       "        vertical-align: middle;\n",
       "    }\n",
       "\n",
       "    .dataframe tbody tr th {\n",
       "        vertical-align: top;\n",
       "    }\n",
       "\n",
       "    .dataframe thead th {\n",
       "        text-align: right;\n",
       "    }\n",
       "</style>\n",
       "<table border=\"1\" class=\"dataframe\">\n",
       "  <thead>\n",
       "    <tr style=\"text-align: right;\">\n",
       "      <th></th>\n",
       "      <th>video_id</th>\n",
       "      <th>trending_date</th>\n",
       "      <th>title</th>\n",
       "      <th>channel_title</th>\n",
       "      <th>category_id</th>\n",
       "      <th>publish_time</th>\n",
       "      <th>tags</th>\n",
       "      <th>views</th>\n",
       "      <th>likes</th>\n",
       "      <th>dislikes</th>\n",
       "      <th>comment_count</th>\n",
       "      <th>thumbnail_link</th>\n",
       "      <th>comments_disabled</th>\n",
       "      <th>ratings_disabled</th>\n",
       "      <th>video_error_or_removed</th>\n",
       "      <th>description</th>\n",
       "      <th>trending</th>\n",
       "    </tr>\n",
       "  </thead>\n",
       "  <tbody>\n",
       "    <tr>\n",
       "      <th>0</th>\n",
       "      <td>2kyS6SvSYSE</td>\n",
       "      <td>17.14.11</td>\n",
       "      <td>WE WANT TO TALK ABOUT OUR MARRIAGE</td>\n",
       "      <td>CaseyNeistat</td>\n",
       "      <td>22</td>\n",
       "      <td>2017-11-13T17:13:01.000Z</td>\n",
       "      <td>SHANtell martin</td>\n",
       "      <td>748374</td>\n",
       "      <td>57527</td>\n",
       "      <td>2966</td>\n",
       "      <td>15954</td>\n",
       "      <td>https://i.ytimg.com/vi/2kyS6SvSYSE/default.jpg</td>\n",
       "      <td>False</td>\n",
       "      <td>False</td>\n",
       "      <td>False</td>\n",
       "      <td>SHANTELL'S CHANNEL - https://www.youtube.com/s...</td>\n",
       "      <td>821855</td>\n",
       "    </tr>\n",
       "    <tr>\n",
       "      <th>1</th>\n",
       "      <td>1ZAPwfrtAFY</td>\n",
       "      <td>17.14.11</td>\n",
       "      <td>The Trump Presidency: Last Week Tonight with J...</td>\n",
       "      <td>LastWeekTonight</td>\n",
       "      <td>24</td>\n",
       "      <td>2017-11-13T07:30:00.000Z</td>\n",
       "      <td>last week tonight trump presidency|\"last week ...</td>\n",
       "      <td>2418783</td>\n",
       "      <td>97185</td>\n",
       "      <td>6146</td>\n",
       "      <td>12703</td>\n",
       "      <td>https://i.ytimg.com/vi/1ZAPwfrtAFY/default.jpg</td>\n",
       "      <td>False</td>\n",
       "      <td>False</td>\n",
       "      <td>False</td>\n",
       "      <td>One year after the presidential election, John...</td>\n",
       "      <td>2528671</td>\n",
       "    </tr>\n",
       "    <tr>\n",
       "      <th>2</th>\n",
       "      <td>5qpjK5DgCt4</td>\n",
       "      <td>17.14.11</td>\n",
       "      <td>Racist Superman | Rudy Mancuso, King Bach &amp; Le...</td>\n",
       "      <td>Rudy Mancuso</td>\n",
       "      <td>23</td>\n",
       "      <td>2017-11-12T19:05:24.000Z</td>\n",
       "      <td>racist superman|\"rudy\"|\"mancuso\"|\"king\"|\"bach\"...</td>\n",
       "      <td>3191434</td>\n",
       "      <td>146033</td>\n",
       "      <td>5339</td>\n",
       "      <td>8181</td>\n",
       "      <td>https://i.ytimg.com/vi/5qpjK5DgCt4/default.jpg</td>\n",
       "      <td>False</td>\n",
       "      <td>False</td>\n",
       "      <td>False</td>\n",
       "      <td>WATCH MY PREVIOUS VIDEO ▶ \\n\\nSUBSCRIBE ► http...</td>\n",
       "      <td>3345648</td>\n",
       "    </tr>\n",
       "    <tr>\n",
       "      <th>3</th>\n",
       "      <td>puqaWrEC7tY</td>\n",
       "      <td>17.14.11</td>\n",
       "      <td>Nickelback Lyrics: Real or Fake?</td>\n",
       "      <td>Good Mythical Morning</td>\n",
       "      <td>24</td>\n",
       "      <td>2017-11-13T11:00:04.000Z</td>\n",
       "      <td>rhett and link|\"gmm\"|\"good mythical morning\"|\"...</td>\n",
       "      <td>343168</td>\n",
       "      <td>10172</td>\n",
       "      <td>666</td>\n",
       "      <td>2146</td>\n",
       "      <td>https://i.ytimg.com/vi/puqaWrEC7tY/default.jpg</td>\n",
       "      <td>False</td>\n",
       "      <td>False</td>\n",
       "      <td>False</td>\n",
       "      <td>Today we find out if Link is a Nickelback amat...</td>\n",
       "      <td>355486</td>\n",
       "    </tr>\n",
       "    <tr>\n",
       "      <th>4</th>\n",
       "      <td>d380meD0W0M</td>\n",
       "      <td>17.14.11</td>\n",
       "      <td>I Dare You: GOING BALD!?</td>\n",
       "      <td>nigahiga</td>\n",
       "      <td>24</td>\n",
       "      <td>2017-11-12T18:01:41.000Z</td>\n",
       "      <td>ryan|\"higa\"|\"higatv\"|\"nigahiga\"|\"i dare you\"|\"...</td>\n",
       "      <td>2095731</td>\n",
       "      <td>132235</td>\n",
       "      <td>1989</td>\n",
       "      <td>17518</td>\n",
       "      <td>https://i.ytimg.com/vi/d380meD0W0M/default.jpg</td>\n",
       "      <td>False</td>\n",
       "      <td>False</td>\n",
       "      <td>False</td>\n",
       "      <td>I know it's been a while since we did this sho...</td>\n",
       "      <td>2245484</td>\n",
       "    </tr>\n",
       "  </tbody>\n",
       "</table>\n",
       "</div>"
      ],
      "text/plain": [
       "      video_id trending_date  \\\n",
       "0  2kyS6SvSYSE      17.14.11   \n",
       "1  1ZAPwfrtAFY      17.14.11   \n",
       "2  5qpjK5DgCt4      17.14.11   \n",
       "3  puqaWrEC7tY      17.14.11   \n",
       "4  d380meD0W0M      17.14.11   \n",
       "\n",
       "                                               title          channel_title  \\\n",
       "0                 WE WANT TO TALK ABOUT OUR MARRIAGE           CaseyNeistat   \n",
       "1  The Trump Presidency: Last Week Tonight with J...        LastWeekTonight   \n",
       "2  Racist Superman | Rudy Mancuso, King Bach & Le...           Rudy Mancuso   \n",
       "3                   Nickelback Lyrics: Real or Fake?  Good Mythical Morning   \n",
       "4                           I Dare You: GOING BALD!?               nigahiga   \n",
       "\n",
       "   category_id              publish_time  \\\n",
       "0           22  2017-11-13T17:13:01.000Z   \n",
       "1           24  2017-11-13T07:30:00.000Z   \n",
       "2           23  2017-11-12T19:05:24.000Z   \n",
       "3           24  2017-11-13T11:00:04.000Z   \n",
       "4           24  2017-11-12T18:01:41.000Z   \n",
       "\n",
       "                                                tags    views   likes  \\\n",
       "0                                    SHANtell martin   748374   57527   \n",
       "1  last week tonight trump presidency|\"last week ...  2418783   97185   \n",
       "2  racist superman|\"rudy\"|\"mancuso\"|\"king\"|\"bach\"...  3191434  146033   \n",
       "3  rhett and link|\"gmm\"|\"good mythical morning\"|\"...   343168   10172   \n",
       "4  ryan|\"higa\"|\"higatv\"|\"nigahiga\"|\"i dare you\"|\"...  2095731  132235   \n",
       "\n",
       "   dislikes  comment_count                                  thumbnail_link  \\\n",
       "0      2966          15954  https://i.ytimg.com/vi/2kyS6SvSYSE/default.jpg   \n",
       "1      6146          12703  https://i.ytimg.com/vi/1ZAPwfrtAFY/default.jpg   \n",
       "2      5339           8181  https://i.ytimg.com/vi/5qpjK5DgCt4/default.jpg   \n",
       "3       666           2146  https://i.ytimg.com/vi/puqaWrEC7tY/default.jpg   \n",
       "4      1989          17518  https://i.ytimg.com/vi/d380meD0W0M/default.jpg   \n",
       "\n",
       "   comments_disabled  ratings_disabled  video_error_or_removed  \\\n",
       "0              False             False                   False   \n",
       "1              False             False                   False   \n",
       "2              False             False                   False   \n",
       "3              False             False                   False   \n",
       "4              False             False                   False   \n",
       "\n",
       "                                         description  trending  \n",
       "0  SHANTELL'S CHANNEL - https://www.youtube.com/s...    821855  \n",
       "1  One year after the presidential election, John...   2528671  \n",
       "2  WATCH MY PREVIOUS VIDEO ▶ \\n\\nSUBSCRIBE ► http...   3345648  \n",
       "3  Today we find out if Link is a Nickelback amat...    355486  \n",
       "4  I know it's been a while since we did this sho...   2245484  "
      ]
     },
     "execution_count": 8,
     "metadata": {},
     "output_type": "execute_result"
    }
   ],
   "source": [
    "df['trending'] = df.likes + df.views + df.comment_count\n",
    "df.head()"
   ]
  },
  {
   "cell_type": "code",
   "execution_count": 9,
   "metadata": {},
   "outputs": [],
   "source": [
    "drop_cols = ['likes','views','comment_count']\n",
    "df.drop(drop_cols, axis=1, inplace=True)"
   ]
  },
  {
   "cell_type": "markdown",
   "metadata": {},
   "source": [
    "## Checking Missing Values"
   ]
  },
  {
   "cell_type": "code",
   "execution_count": 10,
   "metadata": {},
   "outputs": [
    {
     "name": "stdout",
     "output_type": "stream",
     "text": [
      "Missing value count of video_id : 0\n",
      "Missing value count of trending_date : 0\n",
      "Missing value count of title : 0\n",
      "Missing value count of channel_title : 0\n",
      "Missing value count of category_id : 0\n",
      "Missing value count of publish_time : 0\n",
      "Missing value count of tags : 0\n",
      "Missing value count of dislikes : 0\n",
      "Missing value count of thumbnail_link : 0\n",
      "Missing value count of comments_disabled : 0\n",
      "Missing value count of ratings_disabled : 0\n",
      "Missing value count of video_error_or_removed : 0\n",
      "Missing value count of description : 570\n",
      "Missing value count of trending : 0\n"
     ]
    }
   ],
   "source": [
    "for colname in df.columns:\n",
    "    print('Missing value count of {} : {}'.format(colname, df[colname].isnull().sum()))"
   ]
  },
  {
   "cell_type": "markdown",
   "metadata": {},
   "source": [
    "# Assign missing values (10%)"
   ]
  },
  {
   "cell_type": "code",
   "execution_count": 11,
   "metadata": {},
   "outputs": [
    {
     "name": "stdout",
     "output_type": "stream",
     "text": [
      "<class 'pandas.core.frame.DataFrame'>\n",
      "RangeIndex: 40949 entries, 0 to 40948\n",
      "Data columns (total 14 columns):\n",
      " #   Column                  Non-Null Count  Dtype  \n",
      "---  ------                  --------------  -----  \n",
      " 0   video_id                38884 non-null  object \n",
      " 1   trending_date           38991 non-null  object \n",
      " 2   title                   38842 non-null  object \n",
      " 3   channel_title           38879 non-null  object \n",
      " 4   category_id             38911 non-null  float64\n",
      " 5   publish_time            38856 non-null  object \n",
      " 6   tags                    38920 non-null  object \n",
      " 7   dislikes                38886 non-null  float64\n",
      " 8   thumbnail_link          39029 non-null  object \n",
      " 9   comments_disabled       38931 non-null  float64\n",
      " 10  ratings_disabled        38929 non-null  float64\n",
      " 11  video_error_or_removed  38949 non-null  float64\n",
      " 12  description             38346 non-null  object \n",
      " 13  trending                40949 non-null  int64  \n",
      "dtypes: float64(5), int64(1), object(8)\n",
      "memory usage: 4.4+ MB\n"
     ]
    },
    {
     "data": {
      "text/plain": [
       "26984"
      ]
     },
     "execution_count": 11,
     "metadata": {},
     "output_type": "execute_result"
    }
   ],
   "source": [
    "mask = np.random.choice([True, False], size = df.shape, p=[.05,.95])\n",
    "# I will randomly assigne values to all the columns except my target column 'shot_made_flag' and column 'opponent'\n",
    "target_column = df.trending\n",
    "\n",
    "df = df.mask(mask)\n",
    "df = df.assign(trending=target_column)\n",
    "df.info()\n",
    "df.isna().sum().sum()"
   ]
  },
  {
   "cell_type": "code",
   "execution_count": 12,
   "metadata": {},
   "outputs": [
    {
     "name": "stdout",
     "output_type": "stream",
     "text": [
      "Missing value count of video_id : 2065\n",
      "Missing value count of trending_date : 1958\n",
      "Missing value count of title : 2107\n",
      "Missing value count of channel_title : 2070\n",
      "Missing value count of category_id : 2038\n",
      "Missing value count of publish_time : 2093\n",
      "Missing value count of tags : 2029\n",
      "Missing value count of dislikes : 2063\n",
      "Missing value count of thumbnail_link : 1920\n",
      "Missing value count of comments_disabled : 2018\n",
      "Missing value count of ratings_disabled : 2020\n",
      "Missing value count of video_error_or_removed : 2000\n",
      "Missing value count of description : 2603\n",
      "Missing value count of trending : 0\n"
     ]
    }
   ],
   "source": [
    "for colname in df.columns:\n",
    "    print('Missing value count of {} : {}'.format(colname, df[colname].isnull().sum()))"
   ]
  },
  {
   "cell_type": "markdown",
   "metadata": {},
   "source": [
    "## Exploring Features in the dataset"
   ]
  },
  {
   "cell_type": "code",
   "execution_count": 13,
   "metadata": {},
   "outputs": [
    {
     "data": {
      "text/plain": [
       "['video_id',\n",
       " 'trending_date',\n",
       " 'title',\n",
       " 'channel_title',\n",
       " 'category_id',\n",
       " 'publish_time',\n",
       " 'tags',\n",
       " 'dislikes',\n",
       " 'thumbnail_link',\n",
       " 'comments_disabled',\n",
       " 'ratings_disabled',\n",
       " 'video_error_or_removed',\n",
       " 'description',\n",
       " 'trending']"
      ]
     },
     "execution_count": 13,
     "metadata": {},
     "output_type": "execute_result"
    }
   ],
   "source": [
    "df.columns.tolist()"
   ]
  },
  {
   "cell_type": "code",
   "execution_count": 14,
   "metadata": {},
   "outputs": [
    {
     "data": {
      "text/plain": [
       "14"
      ]
     },
     "execution_count": 14,
     "metadata": {},
     "output_type": "execute_result"
    }
   ],
   "source": [
    "df.columns.nunique()"
   ]
  },
  {
   "cell_type": "markdown",
   "metadata": {},
   "source": [
    "Except our target value - 'trending', I have 13 columns and it time to explore them!"
   ]
  },
  {
   "cell_type": "markdown",
   "metadata": {},
   "source": [
    "### 1. video_id"
   ]
  },
  {
   "cell_type": "code",
   "execution_count": 15,
   "metadata": {},
   "outputs": [
    {
     "data": {
      "text/plain": [
       "j4KvrAUjn6c    29\n",
       "MAjY8mCTXWk    29\n",
       "8h--kFui1JA    29\n",
       "NBSAQenU2Bk    28\n",
       "QBL8IRJ5yHU    28\n",
       "               ..\n",
       "0mAS2Gxs08w     1\n",
       "be3BHwNi58A     1\n",
       "9wRQljFNDW8     1\n",
       "6VJYkH1WfKc     1\n",
       "m6lY1GXTu5M     1\n",
       "Name: video_id, Length: 6315, dtype: int64"
      ]
     },
     "execution_count": 15,
     "metadata": {},
     "output_type": "execute_result"
    }
   ],
   "source": [
    "df.video_id.value_counts()"
   ]
  },
  {
   "cell_type": "markdown",
   "metadata": {},
   "source": [
    "Since video_id is a arbitrary number, I will drop this column."
   ]
  },
  {
   "cell_type": "code",
   "execution_count": 16,
   "metadata": {},
   "outputs": [],
   "source": [
    "df.drop(['video_id'],axis=1,inplace= True)"
   ]
  },
  {
   "cell_type": "code",
   "execution_count": 17,
   "metadata": {},
   "outputs": [
    {
     "name": "stdout",
     "output_type": "stream",
     "text": [
      "Missing value count of trending_date : 1958\n",
      "Missing value count of title : 2107\n",
      "Missing value count of channel_title : 2070\n",
      "Missing value count of category_id : 2038\n",
      "Missing value count of publish_time : 2093\n",
      "Missing value count of tags : 2029\n",
      "Missing value count of dislikes : 2063\n",
      "Missing value count of thumbnail_link : 1920\n",
      "Missing value count of comments_disabled : 2018\n",
      "Missing value count of ratings_disabled : 2020\n",
      "Missing value count of video_error_or_removed : 2000\n",
      "Missing value count of description : 2603\n",
      "Missing value count of trending : 0\n"
     ]
    }
   ],
   "source": [
    "for colname in df.columns:\n",
    "    print('Missing value count of {} : {}'.format(colname, df[colname].isnull().sum()))"
   ]
  },
  {
   "cell_type": "markdown",
   "metadata": {},
   "source": [
    "### 2. trending_date\n",
    "format -> yy.dd.mm\\\n",
    "covert to one hot vector"
   ]
  },
  {
   "cell_type": "code",
   "execution_count": 18,
   "metadata": {},
   "outputs": [
    {
     "data": {
      "text/plain": [
       "1958"
      ]
     },
     "execution_count": 18,
     "metadata": {},
     "output_type": "execute_result"
    }
   ],
   "source": [
    "df.trending_date.isnull().sum().sum()"
   ]
  },
  {
   "cell_type": "code",
   "execution_count": 19,
   "metadata": {},
   "outputs": [
    {
     "data": {
      "text/plain": [
       "str"
      ]
     },
     "execution_count": 19,
     "metadata": {},
     "output_type": "execute_result"
    }
   ],
   "source": [
    "type(df.trending_date[1])"
   ]
  },
  {
   "cell_type": "code",
   "execution_count": 20,
   "metadata": {},
   "outputs": [
    {
     "data": {
      "text/plain": [
       "array(['17.14.11', nan, '17.15.11', '17.16.11', '17.17.11', '17.18.11',\n",
       "       '17.19.11', '17.20.11', '17.21.11', '17.22.11', '17.23.11',\n",
       "       '17.24.11', '17.25.11', '17.26.11', '17.27.11', '17.28.11',\n",
       "       '17.29.11', '17.30.11', '17.01.12', '17.02.12', '17.03.12',\n",
       "       '17.04.12', '17.05.12', '17.06.12', '17.07.12', '17.08.12',\n",
       "       '17.09.12', '17.10.12', '17.11.12', '17.12.12', '17.13.12',\n",
       "       '17.14.12', '17.15.12', '17.16.12', '17.17.12', '17.18.12',\n",
       "       '17.19.12', '17.20.12', '17.21.12', '17.22.12', '17.23.12',\n",
       "       '17.24.12', '17.25.12', '17.26.12', '17.27.12', '17.28.12',\n",
       "       '17.29.12', '17.30.12', '17.31.12', '18.01.01', '18.02.01',\n",
       "       '18.03.01', '18.04.01', '18.05.01', '18.06.01', '18.07.01',\n",
       "       '18.08.01', '18.09.01', '18.12.01', '18.13.01', '18.14.01',\n",
       "       '18.15.01', '18.16.01', '18.17.01', '18.18.01', '18.19.01',\n",
       "       '18.20.01', '18.21.01', '18.22.01', '18.23.01', '18.24.01',\n",
       "       '18.25.01', '18.26.01', '18.27.01', '18.28.01', '18.29.01',\n",
       "       '18.30.01', '18.31.01', '18.01.02', '18.02.02', '18.03.02',\n",
       "       '18.04.02', '18.05.02', '18.06.02', '18.07.02', '18.08.02',\n",
       "       '18.09.02', '18.10.02', '18.11.02', '18.12.02', '18.13.02',\n",
       "       '18.14.02', '18.15.02', '18.16.02', '18.17.02', '18.18.02',\n",
       "       '18.19.02', '18.20.02', '18.21.02', '18.22.02', '18.23.02',\n",
       "       '18.24.02', '18.25.02', '18.26.02', '18.27.02', '18.28.02',\n",
       "       '18.01.03', '18.02.03', '18.03.03', '18.04.03', '18.05.03',\n",
       "       '18.06.03', '18.07.03', '18.08.03', '18.09.03', '18.10.03',\n",
       "       '18.11.03', '18.12.03', '18.13.03', '18.14.03', '18.15.03',\n",
       "       '18.16.03', '18.17.03', '18.18.03', '18.19.03', '18.20.03',\n",
       "       '18.21.03', '18.22.03', '18.23.03', '18.24.03', '18.25.03',\n",
       "       '18.26.03', '18.27.03', '18.28.03', '18.29.03', '18.30.03',\n",
       "       '18.31.03', '18.01.04', '18.02.04', '18.03.04', '18.04.04',\n",
       "       '18.05.04', '18.06.04', '18.07.04', '18.14.04', '18.15.04',\n",
       "       '18.16.04', '18.17.04', '18.18.04', '18.19.04', '18.20.04',\n",
       "       '18.21.04', '18.22.04', '18.23.04', '18.24.04', '18.25.04',\n",
       "       '18.26.04', '18.27.04', '18.28.04', '18.29.04', '18.30.04',\n",
       "       '18.01.05', '18.02.05', '18.03.05', '18.04.05', '18.05.05',\n",
       "       '18.06.05', '18.07.05', '18.08.05', '18.09.05', '18.10.05',\n",
       "       '18.11.05', '18.12.05', '18.13.05', '18.14.05', '18.15.05',\n",
       "       '18.16.05', '18.17.05', '18.18.05', '18.19.05', '18.20.05',\n",
       "       '18.21.05', '18.22.05', '18.23.05', '18.24.05', '18.25.05',\n",
       "       '18.26.05', '18.27.05', '18.28.05', '18.29.05', '18.30.05',\n",
       "       '18.31.05', '18.01.06', '18.02.06', '18.03.06', '18.04.06',\n",
       "       '18.05.06', '18.06.06', '18.07.06', '18.08.06', '18.09.06',\n",
       "       '18.10.06', '18.11.06', '18.12.06', '18.13.06', '18.14.06'],\n",
       "      dtype=object)"
      ]
     },
     "execution_count": 20,
     "metadata": {},
     "output_type": "execute_result"
    }
   ],
   "source": [
    "df.trending_date.unique() "
   ]
  },
  {
   "cell_type": "code",
   "execution_count": 21,
   "metadata": {},
   "outputs": [
    {
     "data": {
      "text/plain": [
       "17.21.12    199\n",
       "18.02.01    198\n",
       "18.07.03    197\n",
       "18.31.05    196\n",
       "18.18.02    196\n",
       "           ... \n",
       "18.12.03    183\n",
       "17.11.12    182\n",
       "18.27.04    181\n",
       "18.16.05    181\n",
       "18.20.01    181\n",
       "Name: trending_date, Length: 205, dtype: int64"
      ]
     },
     "execution_count": 21,
     "metadata": {},
     "output_type": "execute_result"
    }
   ],
   "source": [
    "df.trending_date.value_counts()"
   ]
  },
  {
   "cell_type": "markdown",
   "metadata": {},
   "source": [
    "The date format is XX.XX.XX and the type is str.\\\n",
    "Therefore, I will use 00.00.00 to replace nan value."
   ]
  },
  {
   "cell_type": "code",
   "execution_count": 22,
   "metadata": {},
   "outputs": [],
   "source": [
    "df.trending_date.replace(np.nan,'00.00.00',inplace=True)"
   ]
  },
  {
   "cell_type": "code",
   "execution_count": 23,
   "metadata": {},
   "outputs": [
    {
     "data": {
      "text/plain": [
       "0"
      ]
     },
     "execution_count": 23,
     "metadata": {},
     "output_type": "execute_result"
    }
   ],
   "source": [
    "df.trending_date.isnull().sum().sum()"
   ]
  },
  {
   "cell_type": "code",
   "execution_count": 24,
   "metadata": {},
   "outputs": [
    {
     "data": {
      "text/plain": [
       "206"
      ]
     },
     "execution_count": 24,
     "metadata": {},
     "output_type": "execute_result"
    }
   ],
   "source": [
    "df.trending_date.nunique()"
   ]
  },
  {
   "cell_type": "code",
   "execution_count": 25,
   "metadata": {},
   "outputs": [
    {
     "data": {
      "text/plain": [
       "Index(['title', 'channel_title', 'category_id', 'publish_time', 'tags',\n",
       "       'dislikes', 'thumbnail_link', 'comments_disabled', 'ratings_disabled',\n",
       "       'video_error_or_removed',\n",
       "       ...\n",
       "       'trending_date_18.29.03', 'trending_date_18.29.04',\n",
       "       'trending_date_18.29.05', 'trending_date_18.30.01',\n",
       "       'trending_date_18.30.03', 'trending_date_18.30.04',\n",
       "       'trending_date_18.30.05', 'trending_date_18.31.01',\n",
       "       'trending_date_18.31.03', 'trending_date_18.31.05'],\n",
       "      dtype='object', length=218)"
      ]
     },
     "execution_count": 25,
     "metadata": {},
     "output_type": "execute_result"
    }
   ],
   "source": [
    "# Transfer to one hot vector type\n",
    "ohv=pd.get_dummies(df['trending_date'],columns='trending_date',prefix='trending_date')\n",
    "df=pd.concat([df, ohv], axis=1)\n",
    "df.drop(['trending_date'],axis=1,inplace= True)\n",
    "df.columns"
   ]
  },
  {
   "cell_type": "markdown",
   "metadata": {},
   "source": [
    "### 3. title\n",
    "'Title' have 6413 unique value. If I convert it to one hot vector type, the columns will become cumbersome and my computer don't have capability to compute it. Therefore, I use columns value counts to replace the original titile column."
   ]
  },
  {
   "cell_type": "code",
   "execution_count": 26,
   "metadata": {},
   "outputs": [
    {
     "data": {
      "text/plain": [
       "2107"
      ]
     },
     "execution_count": 26,
     "metadata": {},
     "output_type": "execute_result"
    }
   ],
   "source": [
    "df.title.isnull().sum().sum()"
   ]
  },
  {
   "cell_type": "code",
   "execution_count": 27,
   "metadata": {},
   "outputs": [
    {
     "data": {
      "text/plain": [
       "6414"
      ]
     },
     "execution_count": 27,
     "metadata": {},
     "output_type": "execute_result"
    }
   ],
   "source": [
    "df.title.nunique()"
   ]
  },
  {
   "cell_type": "markdown",
   "metadata": {},
   "source": [
    "The title data type is str.\\\n",
    "Therefore, I will use 'UNKNOWN' to replace nan value."
   ]
  },
  {
   "cell_type": "code",
   "execution_count": 28,
   "metadata": {},
   "outputs": [],
   "source": [
    "df.title.replace(np.nan,'UNKNOWN',inplace=True)"
   ]
  },
  {
   "cell_type": "code",
   "execution_count": 29,
   "metadata": {},
   "outputs": [
    {
     "data": {
      "text/plain": [
       "0"
      ]
     },
     "execution_count": 29,
     "metadata": {},
     "output_type": "execute_result"
    }
   ],
   "source": [
    "df.title.isnull().sum().sum()"
   ]
  },
  {
   "cell_type": "code",
   "execution_count": 30,
   "metadata": {},
   "outputs": [
    {
     "data": {
      "text/plain": [
       "UNKNOWN                                                          2107\n",
       "WE MADE OUR MOM CRY...HER DREAM CAME TRUE!                         30\n",
       "YoungBoy Never Broke Again Goes Sneaker Shopping With Complex      28\n",
       "Getting some air, Atlas?                                           28\n",
       "Charlie Puth - BOY [Official Audio]                                28\n",
       "                                                                 ... \n",
       "Titans vs. Chiefs | NFL Wild Card Game Highlights                   1\n",
       "Roger Federer's  20th Grand Slam Victory Tribute                    1\n",
       "A Metal Waterfall                                                   1\n",
       "Melissa Benoist Reveals Best Part About Playing Supergirl           1\n",
       "Family Feud - Jay Z Ft. Beyoncé (Explicit)                          1\n",
       "Name: title, Length: 6415, dtype: int64"
      ]
     },
     "execution_count": 30,
     "metadata": {},
     "output_type": "execute_result"
    }
   ],
   "source": [
    "df.title.value_counts(dropna=False)"
   ]
  },
  {
   "cell_type": "code",
   "execution_count": 31,
   "metadata": {},
   "outputs": [],
   "source": [
    "df['title_count'] = df['title'].map(df['title'].value_counts())"
   ]
  },
  {
   "cell_type": "code",
   "execution_count": 32,
   "metadata": {},
   "outputs": [
    {
     "data": {
      "text/html": [
       "<div>\n",
       "<style scoped>\n",
       "    .dataframe tbody tr th:only-of-type {\n",
       "        vertical-align: middle;\n",
       "    }\n",
       "\n",
       "    .dataframe tbody tr th {\n",
       "        vertical-align: top;\n",
       "    }\n",
       "\n",
       "    .dataframe thead th {\n",
       "        text-align: right;\n",
       "    }\n",
       "</style>\n",
       "<table border=\"1\" class=\"dataframe\">\n",
       "  <thead>\n",
       "    <tr style=\"text-align: right;\">\n",
       "      <th></th>\n",
       "      <th>title</th>\n",
       "      <th>title_count</th>\n",
       "    </tr>\n",
       "  </thead>\n",
       "  <tbody>\n",
       "    <tr>\n",
       "      <th>0</th>\n",
       "      <td>WE WANT TO TALK ABOUT OUR MARRIAGE</td>\n",
       "      <td>7</td>\n",
       "    </tr>\n",
       "    <tr>\n",
       "      <th>1</th>\n",
       "      <td>The Trump Presidency: Last Week Tonight with J...</td>\n",
       "      <td>7</td>\n",
       "    </tr>\n",
       "    <tr>\n",
       "      <th>2</th>\n",
       "      <td>Racist Superman | Rudy Mancuso, King Bach &amp; Le...</td>\n",
       "      <td>6</td>\n",
       "    </tr>\n",
       "    <tr>\n",
       "      <th>3</th>\n",
       "      <td>Nickelback Lyrics: Real or Fake?</td>\n",
       "      <td>7</td>\n",
       "    </tr>\n",
       "    <tr>\n",
       "      <th>4</th>\n",
       "      <td>UNKNOWN</td>\n",
       "      <td>2107</td>\n",
       "    </tr>\n",
       "    <tr>\n",
       "      <th>...</th>\n",
       "      <td>...</td>\n",
       "      <td>...</td>\n",
       "    </tr>\n",
       "    <tr>\n",
       "      <th>40944</th>\n",
       "      <td>The Cat Who Caught the Laser</td>\n",
       "      <td>23</td>\n",
       "    </tr>\n",
       "    <tr>\n",
       "      <th>40945</th>\n",
       "      <td>True Facts : Ant Mutualism</td>\n",
       "      <td>25</td>\n",
       "    </tr>\n",
       "    <tr>\n",
       "      <th>40946</th>\n",
       "      <td>I GAVE SAFIYA NYGAARD A PERFECT HAIR MAKEOVER ...</td>\n",
       "      <td>25</td>\n",
       "    </tr>\n",
       "    <tr>\n",
       "      <th>40947</th>\n",
       "      <td>How Black Panther Should Have Ended</td>\n",
       "      <td>3</td>\n",
       "    </tr>\n",
       "    <tr>\n",
       "      <th>40948</th>\n",
       "      <td>Official Call of Duty®: Black Ops 4 — Multipla...</td>\n",
       "      <td>23</td>\n",
       "    </tr>\n",
       "  </tbody>\n",
       "</table>\n",
       "<p>40949 rows × 2 columns</p>\n",
       "</div>"
      ],
      "text/plain": [
       "                                                   title  title_count\n",
       "0                     WE WANT TO TALK ABOUT OUR MARRIAGE            7\n",
       "1      The Trump Presidency: Last Week Tonight with J...            7\n",
       "2      Racist Superman | Rudy Mancuso, King Bach & Le...            6\n",
       "3                       Nickelback Lyrics: Real or Fake?            7\n",
       "4                                                UNKNOWN         2107\n",
       "...                                                  ...          ...\n",
       "40944                       The Cat Who Caught the Laser           23\n",
       "40945                         True Facts : Ant Mutualism           25\n",
       "40946  I GAVE SAFIYA NYGAARD A PERFECT HAIR MAKEOVER ...           25\n",
       "40947                How Black Panther Should Have Ended            3\n",
       "40948  Official Call of Duty®: Black Ops 4 — Multipla...           23\n",
       "\n",
       "[40949 rows x 2 columns]"
      ]
     },
     "execution_count": 32,
     "metadata": {},
     "output_type": "execute_result"
    }
   ],
   "source": [
    "df[['title','title_count']]"
   ]
  },
  {
   "cell_type": "code",
   "execution_count": 33,
   "metadata": {},
   "outputs": [],
   "source": [
    "# drop the 'title'\n",
    "df.drop('title', axis=1, inplace = True)"
   ]
  },
  {
   "cell_type": "markdown",
   "metadata": {},
   "source": [
    "### 4. channel_title\n",
    "'channel_title' have 2000 unique value. If I convert it to one hot vector type, the columns will become cumbersome and my computer don't have capability to compute it. Therefore, I use columns value counts to replace the original channel_title column.\\\n",
    "The handling method is the same as 'title'."
   ]
  },
  {
   "cell_type": "code",
   "execution_count": 34,
   "metadata": {},
   "outputs": [
    {
     "data": {
      "text/plain": [
       "2070"
      ]
     },
     "execution_count": 34,
     "metadata": {},
     "output_type": "execute_result"
    }
   ],
   "source": [
    "df.channel_title.isnull().sum().sum()"
   ]
  },
  {
   "cell_type": "code",
   "execution_count": 35,
   "metadata": {},
   "outputs": [
    {
     "data": {
      "text/plain": [
       "str"
      ]
     },
     "execution_count": 35,
     "metadata": {},
     "output_type": "execute_result"
    }
   ],
   "source": [
    "type(df.channel_title[1])"
   ]
  },
  {
   "cell_type": "code",
   "execution_count": 36,
   "metadata": {},
   "outputs": [
    {
     "data": {
      "text/plain": [
       "2199"
      ]
     },
     "execution_count": 36,
     "metadata": {},
     "output_type": "execute_result"
    }
   ],
   "source": [
    "df.channel_title.nunique()"
   ]
  },
  {
   "cell_type": "code",
   "execution_count": 37,
   "metadata": {},
   "outputs": [
    {
     "data": {
      "text/plain": [
       "ESPN                                      192\n",
       "The Tonight Show Starring Jimmy Fallon    186\n",
       "Vox                                       185\n",
       "Netflix                                   184\n",
       "TheEllenShow                              183\n",
       "                                         ... \n",
       "Max Joseph                                  1\n",
       "SiggasNation™                               1\n",
       "Thomas Sebastian                            1\n",
       "ClovesVEVO                                  1\n",
       "HiHo Kids                                   1\n",
       "Name: channel_title, Length: 2199, dtype: int64"
      ]
     },
     "execution_count": 37,
     "metadata": {},
     "output_type": "execute_result"
    }
   ],
   "source": [
    "df.channel_title.value_counts()"
   ]
  },
  {
   "cell_type": "markdown",
   "metadata": {},
   "source": [
    "Replace missing values by 'UNKNOWN'"
   ]
  },
  {
   "cell_type": "code",
   "execution_count": 38,
   "metadata": {},
   "outputs": [],
   "source": [
    "df.channel_title.replace(np.nan, 'UNKNOWN', inplace=True)"
   ]
  },
  {
   "cell_type": "code",
   "execution_count": 39,
   "metadata": {},
   "outputs": [
    {
     "data": {
      "text/plain": [
       "0"
      ]
     },
     "execution_count": 39,
     "metadata": {},
     "output_type": "execute_result"
    }
   ],
   "source": [
    "df.channel_title.isnull().sum().sum()"
   ]
  },
  {
   "cell_type": "code",
   "execution_count": 40,
   "metadata": {},
   "outputs": [
    {
     "data": {
      "text/plain": [
       "2200"
      ]
     },
     "execution_count": 40,
     "metadata": {},
     "output_type": "execute_result"
    }
   ],
   "source": [
    "df.channel_title.nunique()"
   ]
  },
  {
   "cell_type": "code",
   "execution_count": 41,
   "metadata": {},
   "outputs": [
    {
     "data": {
      "text/plain": [
       "0         92\n",
       "1         22\n",
       "2         72\n",
       "3        142\n",
       "4         84\n",
       "        ... \n",
       "40944     62\n",
       "40945     48\n",
       "40946     34\n",
       "40947      3\n",
       "40948     39\n",
       "Name: channel_title, Length: 40949, dtype: int64"
      ]
     },
     "execution_count": 41,
     "metadata": {},
     "output_type": "execute_result"
    }
   ],
   "source": [
    "df['channel_title'].map(df['channel_title'].value_counts())"
   ]
  },
  {
   "cell_type": "code",
   "execution_count": 42,
   "metadata": {},
   "outputs": [],
   "source": [
    "df['channel_title_counts'] = df['channel_title'].map(df['channel_title'].value_counts())"
   ]
  },
  {
   "cell_type": "code",
   "execution_count": 43,
   "metadata": {},
   "outputs": [],
   "source": [
    "# drop the 'title'\n",
    "df.drop('channel_title', axis=1, inplace = True)"
   ]
  },
  {
   "cell_type": "code",
   "execution_count": 44,
   "metadata": {},
   "outputs": [
    {
     "data": {
      "text/html": [
       "<div>\n",
       "<style scoped>\n",
       "    .dataframe tbody tr th:only-of-type {\n",
       "        vertical-align: middle;\n",
       "    }\n",
       "\n",
       "    .dataframe tbody tr th {\n",
       "        vertical-align: top;\n",
       "    }\n",
       "\n",
       "    .dataframe thead th {\n",
       "        text-align: right;\n",
       "    }\n",
       "</style>\n",
       "<table border=\"1\" class=\"dataframe\">\n",
       "  <thead>\n",
       "    <tr style=\"text-align: right;\">\n",
       "      <th></th>\n",
       "      <th>category_id</th>\n",
       "      <th>publish_time</th>\n",
       "      <th>tags</th>\n",
       "      <th>dislikes</th>\n",
       "      <th>thumbnail_link</th>\n",
       "      <th>comments_disabled</th>\n",
       "      <th>ratings_disabled</th>\n",
       "      <th>video_error_or_removed</th>\n",
       "      <th>description</th>\n",
       "      <th>trending</th>\n",
       "      <th>...</th>\n",
       "      <th>trending_date_18.29.05</th>\n",
       "      <th>trending_date_18.30.01</th>\n",
       "      <th>trending_date_18.30.03</th>\n",
       "      <th>trending_date_18.30.04</th>\n",
       "      <th>trending_date_18.30.05</th>\n",
       "      <th>trending_date_18.31.01</th>\n",
       "      <th>trending_date_18.31.03</th>\n",
       "      <th>trending_date_18.31.05</th>\n",
       "      <th>title_count</th>\n",
       "      <th>channel_title_counts</th>\n",
       "    </tr>\n",
       "  </thead>\n",
       "  <tbody>\n",
       "    <tr>\n",
       "      <th>0</th>\n",
       "      <td>22.0</td>\n",
       "      <td>2017-11-13T17:13:01.000Z</td>\n",
       "      <td>SHANtell martin</td>\n",
       "      <td>2966.0</td>\n",
       "      <td>https://i.ytimg.com/vi/2kyS6SvSYSE/default.jpg</td>\n",
       "      <td>0.0</td>\n",
       "      <td>0.0</td>\n",
       "      <td>0.0</td>\n",
       "      <td>SHANTELL'S CHANNEL - https://www.youtube.com/s...</td>\n",
       "      <td>821855</td>\n",
       "      <td>...</td>\n",
       "      <td>0</td>\n",
       "      <td>0</td>\n",
       "      <td>0</td>\n",
       "      <td>0</td>\n",
       "      <td>0</td>\n",
       "      <td>0</td>\n",
       "      <td>0</td>\n",
       "      <td>0</td>\n",
       "      <td>7</td>\n",
       "      <td>92</td>\n",
       "    </tr>\n",
       "    <tr>\n",
       "      <th>1</th>\n",
       "      <td>24.0</td>\n",
       "      <td>2017-11-13T07:30:00.000Z</td>\n",
       "      <td>last week tonight trump presidency|\"last week ...</td>\n",
       "      <td>6146.0</td>\n",
       "      <td>https://i.ytimg.com/vi/1ZAPwfrtAFY/default.jpg</td>\n",
       "      <td>0.0</td>\n",
       "      <td>0.0</td>\n",
       "      <td>0.0</td>\n",
       "      <td>One year after the presidential election, John...</td>\n",
       "      <td>2528671</td>\n",
       "      <td>...</td>\n",
       "      <td>0</td>\n",
       "      <td>0</td>\n",
       "      <td>0</td>\n",
       "      <td>0</td>\n",
       "      <td>0</td>\n",
       "      <td>0</td>\n",
       "      <td>0</td>\n",
       "      <td>0</td>\n",
       "      <td>7</td>\n",
       "      <td>22</td>\n",
       "    </tr>\n",
       "    <tr>\n",
       "      <th>2</th>\n",
       "      <td>23.0</td>\n",
       "      <td>2017-11-12T19:05:24.000Z</td>\n",
       "      <td>NaN</td>\n",
       "      <td>5339.0</td>\n",
       "      <td>https://i.ytimg.com/vi/5qpjK5DgCt4/default.jpg</td>\n",
       "      <td>0.0</td>\n",
       "      <td>0.0</td>\n",
       "      <td>0.0</td>\n",
       "      <td>WATCH MY PREVIOUS VIDEO ▶ \\n\\nSUBSCRIBE ► http...</td>\n",
       "      <td>3345648</td>\n",
       "      <td>...</td>\n",
       "      <td>0</td>\n",
       "      <td>0</td>\n",
       "      <td>0</td>\n",
       "      <td>0</td>\n",
       "      <td>0</td>\n",
       "      <td>0</td>\n",
       "      <td>0</td>\n",
       "      <td>0</td>\n",
       "      <td>6</td>\n",
       "      <td>72</td>\n",
       "    </tr>\n",
       "    <tr>\n",
       "      <th>3</th>\n",
       "      <td>24.0</td>\n",
       "      <td>2017-11-13T11:00:04.000Z</td>\n",
       "      <td>rhett and link|\"gmm\"|\"good mythical morning\"|\"...</td>\n",
       "      <td>666.0</td>\n",
       "      <td>https://i.ytimg.com/vi/puqaWrEC7tY/default.jpg</td>\n",
       "      <td>0.0</td>\n",
       "      <td>0.0</td>\n",
       "      <td>0.0</td>\n",
       "      <td>Today we find out if Link is a Nickelback amat...</td>\n",
       "      <td>355486</td>\n",
       "      <td>...</td>\n",
       "      <td>0</td>\n",
       "      <td>0</td>\n",
       "      <td>0</td>\n",
       "      <td>0</td>\n",
       "      <td>0</td>\n",
       "      <td>0</td>\n",
       "      <td>0</td>\n",
       "      <td>0</td>\n",
       "      <td>7</td>\n",
       "      <td>142</td>\n",
       "    </tr>\n",
       "    <tr>\n",
       "      <th>4</th>\n",
       "      <td>24.0</td>\n",
       "      <td>2017-11-12T18:01:41.000Z</td>\n",
       "      <td>ryan|\"higa\"|\"higatv\"|\"nigahiga\"|\"i dare you\"|\"...</td>\n",
       "      <td>1989.0</td>\n",
       "      <td>https://i.ytimg.com/vi/d380meD0W0M/default.jpg</td>\n",
       "      <td>0.0</td>\n",
       "      <td>0.0</td>\n",
       "      <td>0.0</td>\n",
       "      <td>I know it's been a while since we did this sho...</td>\n",
       "      <td>2245484</td>\n",
       "      <td>...</td>\n",
       "      <td>0</td>\n",
       "      <td>0</td>\n",
       "      <td>0</td>\n",
       "      <td>0</td>\n",
       "      <td>0</td>\n",
       "      <td>0</td>\n",
       "      <td>0</td>\n",
       "      <td>0</td>\n",
       "      <td>2107</td>\n",
       "      <td>84</td>\n",
       "    </tr>\n",
       "  </tbody>\n",
       "</table>\n",
       "<p>5 rows × 218 columns</p>\n",
       "</div>"
      ],
      "text/plain": [
       "   category_id              publish_time  \\\n",
       "0         22.0  2017-11-13T17:13:01.000Z   \n",
       "1         24.0  2017-11-13T07:30:00.000Z   \n",
       "2         23.0  2017-11-12T19:05:24.000Z   \n",
       "3         24.0  2017-11-13T11:00:04.000Z   \n",
       "4         24.0  2017-11-12T18:01:41.000Z   \n",
       "\n",
       "                                                tags  dislikes  \\\n",
       "0                                    SHANtell martin    2966.0   \n",
       "1  last week tonight trump presidency|\"last week ...    6146.0   \n",
       "2                                                NaN    5339.0   \n",
       "3  rhett and link|\"gmm\"|\"good mythical morning\"|\"...     666.0   \n",
       "4  ryan|\"higa\"|\"higatv\"|\"nigahiga\"|\"i dare you\"|\"...    1989.0   \n",
       "\n",
       "                                   thumbnail_link  comments_disabled  \\\n",
       "0  https://i.ytimg.com/vi/2kyS6SvSYSE/default.jpg                0.0   \n",
       "1  https://i.ytimg.com/vi/1ZAPwfrtAFY/default.jpg                0.0   \n",
       "2  https://i.ytimg.com/vi/5qpjK5DgCt4/default.jpg                0.0   \n",
       "3  https://i.ytimg.com/vi/puqaWrEC7tY/default.jpg                0.0   \n",
       "4  https://i.ytimg.com/vi/d380meD0W0M/default.jpg                0.0   \n",
       "\n",
       "   ratings_disabled  video_error_or_removed  \\\n",
       "0               0.0                     0.0   \n",
       "1               0.0                     0.0   \n",
       "2               0.0                     0.0   \n",
       "3               0.0                     0.0   \n",
       "4               0.0                     0.0   \n",
       "\n",
       "                                         description  trending  ...  \\\n",
       "0  SHANTELL'S CHANNEL - https://www.youtube.com/s...    821855  ...   \n",
       "1  One year after the presidential election, John...   2528671  ...   \n",
       "2  WATCH MY PREVIOUS VIDEO ▶ \\n\\nSUBSCRIBE ► http...   3345648  ...   \n",
       "3  Today we find out if Link is a Nickelback amat...    355486  ...   \n",
       "4  I know it's been a while since we did this sho...   2245484  ...   \n",
       "\n",
       "   trending_date_18.29.05  trending_date_18.30.01  trending_date_18.30.03  \\\n",
       "0                       0                       0                       0   \n",
       "1                       0                       0                       0   \n",
       "2                       0                       0                       0   \n",
       "3                       0                       0                       0   \n",
       "4                       0                       0                       0   \n",
       "\n",
       "   trending_date_18.30.04  trending_date_18.30.05  trending_date_18.31.01  \\\n",
       "0                       0                       0                       0   \n",
       "1                       0                       0                       0   \n",
       "2                       0                       0                       0   \n",
       "3                       0                       0                       0   \n",
       "4                       0                       0                       0   \n",
       "\n",
       "   trending_date_18.31.03  trending_date_18.31.05  title_count  \\\n",
       "0                       0                       0            7   \n",
       "1                       0                       0            7   \n",
       "2                       0                       0            6   \n",
       "3                       0                       0            7   \n",
       "4                       0                       0         2107   \n",
       "\n",
       "   channel_title_counts  \n",
       "0                    92  \n",
       "1                    22  \n",
       "2                    72  \n",
       "3                   142  \n",
       "4                    84  \n",
       "\n",
       "[5 rows x 218 columns]"
      ]
     },
     "execution_count": 44,
     "metadata": {},
     "output_type": "execute_result"
    }
   ],
   "source": [
    "df.head()"
   ]
  },
  {
   "cell_type": "code",
   "execution_count": 45,
   "metadata": {},
   "outputs": [
    {
     "data": {
      "text/plain": [
       "['category_id',\n",
       " 'publish_time',\n",
       " 'tags',\n",
       " 'dislikes',\n",
       " 'thumbnail_link',\n",
       " 'comments_disabled',\n",
       " 'ratings_disabled',\n",
       " 'video_error_or_removed',\n",
       " 'description',\n",
       " 'trending',\n",
       " 'trending_date_00.00.00',\n",
       " 'trending_date_17.01.12',\n",
       " 'trending_date_17.02.12',\n",
       " 'trending_date_17.03.12',\n",
       " 'trending_date_17.04.12',\n",
       " 'trending_date_17.05.12',\n",
       " 'trending_date_17.06.12',\n",
       " 'trending_date_17.07.12',\n",
       " 'trending_date_17.08.12',\n",
       " 'trending_date_17.09.12',\n",
       " 'trending_date_17.10.12',\n",
       " 'trending_date_17.11.12',\n",
       " 'trending_date_17.12.12',\n",
       " 'trending_date_17.13.12',\n",
       " 'trending_date_17.14.11',\n",
       " 'trending_date_17.14.12',\n",
       " 'trending_date_17.15.11',\n",
       " 'trending_date_17.15.12',\n",
       " 'trending_date_17.16.11',\n",
       " 'trending_date_17.16.12',\n",
       " 'trending_date_17.17.11',\n",
       " 'trending_date_17.17.12',\n",
       " 'trending_date_17.18.11',\n",
       " 'trending_date_17.18.12',\n",
       " 'trending_date_17.19.11',\n",
       " 'trending_date_17.19.12',\n",
       " 'trending_date_17.20.11',\n",
       " 'trending_date_17.20.12',\n",
       " 'trending_date_17.21.11',\n",
       " 'trending_date_17.21.12',\n",
       " 'trending_date_17.22.11',\n",
       " 'trending_date_17.22.12',\n",
       " 'trending_date_17.23.11',\n",
       " 'trending_date_17.23.12',\n",
       " 'trending_date_17.24.11',\n",
       " 'trending_date_17.24.12',\n",
       " 'trending_date_17.25.11',\n",
       " 'trending_date_17.25.12',\n",
       " 'trending_date_17.26.11',\n",
       " 'trending_date_17.26.12',\n",
       " 'trending_date_17.27.11',\n",
       " 'trending_date_17.27.12',\n",
       " 'trending_date_17.28.11',\n",
       " 'trending_date_17.28.12',\n",
       " 'trending_date_17.29.11',\n",
       " 'trending_date_17.29.12',\n",
       " 'trending_date_17.30.11',\n",
       " 'trending_date_17.30.12',\n",
       " 'trending_date_17.31.12',\n",
       " 'trending_date_18.01.01',\n",
       " 'trending_date_18.01.02',\n",
       " 'trending_date_18.01.03',\n",
       " 'trending_date_18.01.04',\n",
       " 'trending_date_18.01.05',\n",
       " 'trending_date_18.01.06',\n",
       " 'trending_date_18.02.01',\n",
       " 'trending_date_18.02.02',\n",
       " 'trending_date_18.02.03',\n",
       " 'trending_date_18.02.04',\n",
       " 'trending_date_18.02.05',\n",
       " 'trending_date_18.02.06',\n",
       " 'trending_date_18.03.01',\n",
       " 'trending_date_18.03.02',\n",
       " 'trending_date_18.03.03',\n",
       " 'trending_date_18.03.04',\n",
       " 'trending_date_18.03.05',\n",
       " 'trending_date_18.03.06',\n",
       " 'trending_date_18.04.01',\n",
       " 'trending_date_18.04.02',\n",
       " 'trending_date_18.04.03',\n",
       " 'trending_date_18.04.04',\n",
       " 'trending_date_18.04.05',\n",
       " 'trending_date_18.04.06',\n",
       " 'trending_date_18.05.01',\n",
       " 'trending_date_18.05.02',\n",
       " 'trending_date_18.05.03',\n",
       " 'trending_date_18.05.04',\n",
       " 'trending_date_18.05.05',\n",
       " 'trending_date_18.05.06',\n",
       " 'trending_date_18.06.01',\n",
       " 'trending_date_18.06.02',\n",
       " 'trending_date_18.06.03',\n",
       " 'trending_date_18.06.04',\n",
       " 'trending_date_18.06.05',\n",
       " 'trending_date_18.06.06',\n",
       " 'trending_date_18.07.01',\n",
       " 'trending_date_18.07.02',\n",
       " 'trending_date_18.07.03',\n",
       " 'trending_date_18.07.04',\n",
       " 'trending_date_18.07.05',\n",
       " 'trending_date_18.07.06',\n",
       " 'trending_date_18.08.01',\n",
       " 'trending_date_18.08.02',\n",
       " 'trending_date_18.08.03',\n",
       " 'trending_date_18.08.05',\n",
       " 'trending_date_18.08.06',\n",
       " 'trending_date_18.09.01',\n",
       " 'trending_date_18.09.02',\n",
       " 'trending_date_18.09.03',\n",
       " 'trending_date_18.09.05',\n",
       " 'trending_date_18.09.06',\n",
       " 'trending_date_18.10.02',\n",
       " 'trending_date_18.10.03',\n",
       " 'trending_date_18.10.05',\n",
       " 'trending_date_18.10.06',\n",
       " 'trending_date_18.11.02',\n",
       " 'trending_date_18.11.03',\n",
       " 'trending_date_18.11.05',\n",
       " 'trending_date_18.11.06',\n",
       " 'trending_date_18.12.01',\n",
       " 'trending_date_18.12.02',\n",
       " 'trending_date_18.12.03',\n",
       " 'trending_date_18.12.05',\n",
       " 'trending_date_18.12.06',\n",
       " 'trending_date_18.13.01',\n",
       " 'trending_date_18.13.02',\n",
       " 'trending_date_18.13.03',\n",
       " 'trending_date_18.13.05',\n",
       " 'trending_date_18.13.06',\n",
       " 'trending_date_18.14.01',\n",
       " 'trending_date_18.14.02',\n",
       " 'trending_date_18.14.03',\n",
       " 'trending_date_18.14.04',\n",
       " 'trending_date_18.14.05',\n",
       " 'trending_date_18.14.06',\n",
       " 'trending_date_18.15.01',\n",
       " 'trending_date_18.15.02',\n",
       " 'trending_date_18.15.03',\n",
       " 'trending_date_18.15.04',\n",
       " 'trending_date_18.15.05',\n",
       " 'trending_date_18.16.01',\n",
       " 'trending_date_18.16.02',\n",
       " 'trending_date_18.16.03',\n",
       " 'trending_date_18.16.04',\n",
       " 'trending_date_18.16.05',\n",
       " 'trending_date_18.17.01',\n",
       " 'trending_date_18.17.02',\n",
       " 'trending_date_18.17.03',\n",
       " 'trending_date_18.17.04',\n",
       " 'trending_date_18.17.05',\n",
       " 'trending_date_18.18.01',\n",
       " 'trending_date_18.18.02',\n",
       " 'trending_date_18.18.03',\n",
       " 'trending_date_18.18.04',\n",
       " 'trending_date_18.18.05',\n",
       " 'trending_date_18.19.01',\n",
       " 'trending_date_18.19.02',\n",
       " 'trending_date_18.19.03',\n",
       " 'trending_date_18.19.04',\n",
       " 'trending_date_18.19.05',\n",
       " 'trending_date_18.20.01',\n",
       " 'trending_date_18.20.02',\n",
       " 'trending_date_18.20.03',\n",
       " 'trending_date_18.20.04',\n",
       " 'trending_date_18.20.05',\n",
       " 'trending_date_18.21.01',\n",
       " 'trending_date_18.21.02',\n",
       " 'trending_date_18.21.03',\n",
       " 'trending_date_18.21.04',\n",
       " 'trending_date_18.21.05',\n",
       " 'trending_date_18.22.01',\n",
       " 'trending_date_18.22.02',\n",
       " 'trending_date_18.22.03',\n",
       " 'trending_date_18.22.04',\n",
       " 'trending_date_18.22.05',\n",
       " 'trending_date_18.23.01',\n",
       " 'trending_date_18.23.02',\n",
       " 'trending_date_18.23.03',\n",
       " 'trending_date_18.23.04',\n",
       " 'trending_date_18.23.05',\n",
       " 'trending_date_18.24.01',\n",
       " 'trending_date_18.24.02',\n",
       " 'trending_date_18.24.03',\n",
       " 'trending_date_18.24.04',\n",
       " 'trending_date_18.24.05',\n",
       " 'trending_date_18.25.01',\n",
       " 'trending_date_18.25.02',\n",
       " 'trending_date_18.25.03',\n",
       " 'trending_date_18.25.04',\n",
       " 'trending_date_18.25.05',\n",
       " 'trending_date_18.26.01',\n",
       " 'trending_date_18.26.02',\n",
       " 'trending_date_18.26.03',\n",
       " 'trending_date_18.26.04',\n",
       " 'trending_date_18.26.05',\n",
       " 'trending_date_18.27.01',\n",
       " 'trending_date_18.27.02',\n",
       " 'trending_date_18.27.03',\n",
       " 'trending_date_18.27.04',\n",
       " 'trending_date_18.27.05',\n",
       " 'trending_date_18.28.01',\n",
       " 'trending_date_18.28.02',\n",
       " 'trending_date_18.28.03',\n",
       " 'trending_date_18.28.04',\n",
       " 'trending_date_18.28.05',\n",
       " 'trending_date_18.29.01',\n",
       " 'trending_date_18.29.03',\n",
       " 'trending_date_18.29.04',\n",
       " 'trending_date_18.29.05',\n",
       " 'trending_date_18.30.01',\n",
       " 'trending_date_18.30.03',\n",
       " 'trending_date_18.30.04',\n",
       " 'trending_date_18.30.05',\n",
       " 'trending_date_18.31.01',\n",
       " 'trending_date_18.31.03',\n",
       " 'trending_date_18.31.05',\n",
       " 'title_count',\n",
       " 'channel_title_counts']"
      ]
     },
     "execution_count": 45,
     "metadata": {},
     "output_type": "execute_result"
    }
   ],
   "source": [
    "df.columns.tolist()"
   ]
  },
  {
   "cell_type": "markdown",
   "metadata": {},
   "source": [
    "### 5. category_id\n",
    "\n",
    "ID intoduction:\n",
    "* 1\tFilm & Animation\n",
    "* 2\tAutos & Vehicles\n",
    "* 10\tMusic\n",
    "* 15\tPets & Animals\n",
    "* 17\tSports\n",
    "* 18\tShort Movies\n",
    "* 19\tTravel & Events\n",
    "* 20\tGaming\n",
    "* 21\tVideoblogging\n",
    "* 22\tPeople & Blogs\n",
    "* 23\tComedy\n",
    "* 24\tEntertainment\n",
    "* 25\tNews & Politics\n",
    "* 26\tHowto & Style\n",
    "* 27\tEducation\n",
    "* 28\tScience & Technology\n",
    "* 29\tNonprofits & Activism\n",
    "* 30\tMovies\n",
    "* 31\tAnime/Animation\n",
    "* 32\tAction/Adventure\n",
    "* 33\tClassics\n",
    "* 34\tComedy\n",
    "* 35\tDocumentary\n",
    "* 36\tDrama\n",
    "* 37\tFamily\n",
    "* 38\tForeign\n",
    "* 39\tHorror\n",
    "* 40\tSci-Fi/Fantasy\n",
    "* 41\tThriller\n",
    "* 42\tShorts\n",
    "* 43\tShows\n",
    "* 44\tTrailers"
   ]
  },
  {
   "cell_type": "code",
   "execution_count": 46,
   "metadata": {},
   "outputs": [
    {
     "data": {
      "text/plain": [
       "24.0    9434\n",
       "10.0    6163\n",
       "26.0    3943\n",
       "23.0    3281\n",
       "22.0    3057\n",
       "25.0    2379\n",
       "28.0    2291\n",
       "1.0     2222\n",
       "17.0    2075\n",
       "NaN     2038\n",
       "27.0    1563\n",
       "15.0     874\n",
       "20.0     771\n",
       "19.0     386\n",
       "2.0      362\n",
       "43.0      56\n",
       "29.0      54\n",
       "Name: category_id, dtype: int64"
      ]
     },
     "execution_count": 46,
     "metadata": {},
     "output_type": "execute_result"
    }
   ],
   "source": [
    "df.category_id.value_counts(dropna=False)"
   ]
  },
  {
   "cell_type": "code",
   "execution_count": 47,
   "metadata": {},
   "outputs": [],
   "source": [
    "id_dic={1:\t'Film & Animation',\n",
    "2:\t'Autos & Vehicles',\n",
    "10:\t'Music',\n",
    "15:\t'Pets & Animals',\n",
    "17:\t'Sports',\n",
    "18:\t'Short Movies',\n",
    "19:\t'Travel & Events',\n",
    "20:\t'Gaming',\n",
    "21:\t'Videoblogging',\n",
    "22:\t'People & Blogs',\n",
    "23:\t'Comedy',\n",
    "24:\t'Entertainment',\n",
    "25:\t'News & Politics',\n",
    "26:\t'Howto & Style',\n",
    "27:\t'Education',\n",
    "28:\t'Science & Technology',\n",
    "29:\t'Nonprofits & Activism',\n",
    "30:\t'Movies',\n",
    "31:\t'Anime/Animation',\n",
    "32:\t'Action/Adventure',\n",
    "33:\t'Classics',\n",
    "34:\t'Comedy',\n",
    "35:\t'Documentary',\n",
    "36:\t'Drama',\n",
    "37:\t'Family',\n",
    "38:\t'Foreign',\n",
    "39:\t'Horror',\n",
    "40:\t'Sci-Fi/Fantasy',\n",
    "41:\t'Thriller',\n",
    "42:\t'Shorts',\n",
    "43:\t'Shows',\n",
    "44:\t'Trailers'}\n",
    "\n",
    "df.category_id = df.category_id.map(id_dic)"
   ]
  },
  {
   "cell_type": "code",
   "execution_count": 48,
   "metadata": {},
   "outputs": [
    {
     "data": {
      "text/plain": [
       "Entertainment            9434\n",
       "Music                    6163\n",
       "Howto & Style            3943\n",
       "Comedy                   3281\n",
       "People & Blogs           3057\n",
       "News & Politics          2379\n",
       "Science & Technology     2291\n",
       "Film & Animation         2222\n",
       "Sports                   2075\n",
       "NaN                      2038\n",
       "Education                1563\n",
       "Pets & Animals            874\n",
       "Gaming                    771\n",
       "Travel & Events           386\n",
       "Autos & Vehicles          362\n",
       "Shows                      56\n",
       "Nonprofits & Activism      54\n",
       "Name: category_id, dtype: int64"
      ]
     },
     "execution_count": 48,
     "metadata": {},
     "output_type": "execute_result"
    }
   ],
   "source": [
    "df.category_id.value_counts(dropna=False)"
   ]
  },
  {
   "cell_type": "code",
   "execution_count": 49,
   "metadata": {},
   "outputs": [
    {
     "data": {
      "text/plain": [
       "0"
      ]
     },
     "execution_count": 49,
     "metadata": {},
     "output_type": "execute_result"
    }
   ],
   "source": [
    "# replace nan values by 'UNKNOWN'\n",
    "df.category_id.replace(np.nan, 'UNKNOWN', inplace=True)\n",
    "df.category_id.isnull().sum()"
   ]
  },
  {
   "cell_type": "code",
   "execution_count": 50,
   "metadata": {},
   "outputs": [
    {
     "data": {
      "text/plain": [
       "Index(['publish_time', 'tags', 'dislikes', 'thumbnail_link',\n",
       "       'comments_disabled', 'ratings_disabled', 'video_error_or_removed',\n",
       "       'description', 'trending', 'trending_date_00.00.00',\n",
       "       ...\n",
       "       'category_id_Music', 'category_id_News & Politics',\n",
       "       'category_id_Nonprofits & Activism', 'category_id_People & Blogs',\n",
       "       'category_id_Pets & Animals', 'category_id_Science & Technology',\n",
       "       'category_id_Shows', 'category_id_Sports',\n",
       "       'category_id_Travel & Events', 'category_id_UNKNOWN'],\n",
       "      dtype='object', length=234)"
      ]
     },
     "execution_count": 50,
     "metadata": {},
     "output_type": "execute_result"
    }
   ],
   "source": [
    "# convert to one hot vector\n",
    "ohv=pd.get_dummies(df['category_id'],columns='category_id',prefix='category_id')\n",
    "df=pd.concat([df, ohv], axis=1)\n",
    "df.drop(['category_id'],axis=1,inplace= True)\n",
    "df.columns"
   ]
  },
  {
   "cell_type": "code",
   "execution_count": 51,
   "metadata": {},
   "outputs": [
    {
     "data": {
      "text/plain": [
       "234"
      ]
     },
     "execution_count": 51,
     "metadata": {},
     "output_type": "execute_result"
    }
   ],
   "source": [
    "df.columns.nunique()"
   ]
  },
  {
   "cell_type": "markdown",
   "metadata": {},
   "source": [
    "### 6. publish_time"
   ]
  },
  {
   "cell_type": "code",
   "execution_count": 52,
   "metadata": {},
   "outputs": [
    {
     "data": {
      "text/plain": [
       "2018-05-18T14:00:04.000Z    47\n",
       "2018-05-06T13:00:05.000Z    32\n",
       "2018-05-14T15:59:47.000Z    29\n",
       "2018-05-09T17:00:00.000Z    29\n",
       "2018-05-11T04:00:34.000Z    28\n",
       "                            ..\n",
       "2017-12-13T14:01:32.000Z     1\n",
       "2018-04-14T13:00:07.000Z     1\n",
       "2017-11-13T13:45:16.000Z     1\n",
       "2018-01-25T13:00:06.000Z     1\n",
       "2018-02-21T02:48:23.000Z     1\n",
       "Name: publish_time, Length: 6225, dtype: int64"
      ]
     },
     "execution_count": 52,
     "metadata": {},
     "output_type": "execute_result"
    }
   ],
   "source": [
    "df.publish_time.value_counts()"
   ]
  },
  {
   "cell_type": "code",
   "execution_count": 53,
   "metadata": {},
   "outputs": [
    {
     "data": {
      "text/plain": [
       "6225"
      ]
     },
     "execution_count": 53,
     "metadata": {},
     "output_type": "execute_result"
    }
   ],
   "source": [
    "df.publish_time.nunique()"
   ]
  },
  {
   "cell_type": "code",
   "execution_count": 54,
   "metadata": {},
   "outputs": [
    {
     "data": {
      "text/plain": [
       "0        2017-11\n",
       "1        2017-11\n",
       "2        2017-11\n",
       "3        2017-11\n",
       "4        2017-11\n",
       "          ...   \n",
       "40944    2018-05\n",
       "40945    2018-05\n",
       "40946    2018-05\n",
       "40947    2018-05\n",
       "40948    2018-05\n",
       "Name: publish_time, Length: 40949, dtype: object"
      ]
     },
     "execution_count": 54,
     "metadata": {},
     "output_type": "execute_result"
    }
   ],
   "source": [
    "df.publish_time = [x[0:7] if isinstance(x, str) else np.nan for x in df.publish_time]\n",
    "df.publish_time"
   ]
  },
  {
   "cell_type": "code",
   "execution_count": 55,
   "metadata": {},
   "outputs": [
    {
     "data": {
      "text/plain": [
       "0"
      ]
     },
     "execution_count": 55,
     "metadata": {},
     "output_type": "execute_result"
    }
   ],
   "source": [
    "# use 0000-00-00 to replace missing values\n",
    "df.publish_time.fillna('0000-00', inplace=True)\n",
    "df.publish_time.isnull().sum().sum()"
   ]
  },
  {
   "cell_type": "code",
   "execution_count": 56,
   "metadata": {},
   "outputs": [
    {
     "data": {
      "text/plain": [
       "Index(['tags', 'dislikes', 'thumbnail_link', 'comments_disabled',\n",
       "       'ratings_disabled', 'video_error_or_removed', 'description', 'trending',\n",
       "       'trending_date_00.00.00', 'trending_date_17.01.12',\n",
       "       ...\n",
       "       'publish_time_2017-09', 'publish_time_2017-10', 'publish_time_2017-11',\n",
       "       'publish_time_2017-12', 'publish_time_2018-01', 'publish_time_2018-02',\n",
       "       'publish_time_2018-03', 'publish_time_2018-04', 'publish_time_2018-05',\n",
       "       'publish_time_2018-06'],\n",
       "      dtype='object', length=297)"
      ]
     },
     "execution_count": 56,
     "metadata": {},
     "output_type": "execute_result"
    }
   ],
   "source": [
    "# Transfer to one hot vector type\n",
    "ohv=pd.get_dummies(df['publish_time'],columns='publish_time',prefix='publish_time')\n",
    "df=pd.concat([df, ohv], axis=1)\n",
    "df.drop(['publish_time'],axis=1,inplace= True)\n",
    "df.columns"
   ]
  },
  {
   "cell_type": "markdown",
   "metadata": {},
   "source": [
    "### 7. tags"
   ]
  },
  {
   "cell_type": "code",
   "execution_count": 57,
   "metadata": {},
   "outputs": [
    {
     "data": {
      "text/plain": [
       "[none]                                                                                                                                                                                                                                                                                                                                                                                                                                                                                                         1450\n",
       "ABC|\"americanidol\"|\"idol\"|\"american idol\"|\"ryan\"|\"seacrest\"|\"ryan seacrest\"|\"katy\"|\"perry\"|\"katy perry\"|\"luke\"|\"bryan\"|\"luke bryan\"|\"lionel\"|\"richie\"|\"lionel richie\"|\"season 16\"|\"american idol XVI\"|\"television\"|\"ad\"|\"spring\"|\"2018\"|\"music\"|\"reality\"|\"competition\"|\"song\"|\"sing\"|\"audition\"|\"auditions\"|\"performance\"|\"live\"|\"fox\"|\"AI\"|\"hollywood\"|\"contestant\"|\"official\"|\"american\"|\"official american idol\"|\"hollywood week\"|\"hometown audition\"                                                        83\n",
       "Jacksfilms|\"Jack Douglass\"|\"YGS\"|\"YGS 100\"|\"YGS 50\"|\"The Best of Your Grammar Sucks\"|\"Your Grammar Sucks\"|\"YIAY\"|\"Yesterday I Asked You\"|\"Fidget Spinners\"|\"Emoji Movie\"|\"Kermit Sings\"|\"JackAsk\"|\"Jack Ask\"|\"Dubstep Solves Everything\"|\"Frozen 2\"|\"iPhone Parody\"|\"Apple Parody\"                                                                                                                                                                                                                               78\n",
       "James Corden|\"The Late Late Show\"|\"Colbert\"|\"late night\"|\"late night show\"|\"Stephen Colbert\"|\"Comedy\"|\"monologue\"|\"comedian\"|\"impressions\"|\"celebrities\"|\"carpool\"|\"karaoke\"|\"CBS\"|\"Late Late Show\"|\"Corden\"|\"joke\"|\"jokes\"|\"funny\"|\"funny video\"|\"funny videos\"|\"humor\"|\"celebrity\"|\"celeb\"|\"hollywood\"|\"famous\"                                                                                                                                                                                                66\n",
       "The Late Show|\"Stephen Colbert\"|\"Colbert\"|\"Late Show\"|\"celebrities\"|\"late night\"|\"talk show\"|\"skits\"|\"bit\"|\"monologue\"|\"The Late Late Show\"|\"Late Late Show\"|\"letterman\"|\"david letterman\"|\"comedian\"|\"impressions\"|\"CBS\"|\"joke\"|\"jokes\"|\"funny\"|\"funny video\"|\"funny videos\"|\"humor\"|\"celebrity\"|\"celeb\"|\"hollywood\"|\"famous\"|\"James Corden\"|\"Corden\"|\"Comedy\"                                                                                                                                                  62\n",
       "                                                                                                                                                                                                                                                                                                                                                                                                                                                                                                               ... \n",
       "life noggin|\"life noggin youtube\"|\"youtube life noggin\"|\"life noggin channel\"|\"education\"|\"education channel\"|\"life noggin face reveal\"|\"edutainment\"|\"edutainment videos\"|\"blocko\"|\"blocko life noggin\"|\"science\"|\"technology\"|\"educational\"|\"school\"|\"bipolar\"|\"bipolar disorder\"|\"what is bipolar\"|\"bipolar symptoms\"|\"bipolar treatment\"|\"bipolar cure\"|\"depression\"|\"manic-depressive illness\"|\"suicide\"|\"mental illness\"|\"health\"|\"stress\"|\"drugs\"|\"alcohol\"|\"bipolar cause\"|\"emotion\"|\"therapy\"            1\n",
       "martial art|\"push ups\"|\"grandmaster\"|\"hands free\"|\"two hands\"|\"one hand\"|\"totalcombat.net\"|\"totalcombat\"|\"total\"|\"combat\"|\"martial\"|\"art\"                                                                                                                                                                                                                                                                                                                                                                         1\n",
       "The Tonight Show|\"Jimmy Fallon\"|\"Google Translate Songs\"|\"Kelly Clarkson\"|\"NBC\"|\"NBC TV\"|\"Television\"|\"Funny\"|\"Talk Show\"|\"comedic\"|\"humor\"|\"snl\"|\"Fallon Stand-up\"|\"Fallon monologue\"|\"tonight\"|\"show\"|\"jokes\"|\"funny video\"|\"interview\"|\"variety\"|\"comedy sketches\"|\"talent\"|\"celebrities\"|\"video\"|\"clip\"|\"highlight\"|\"music\"|\"musical performance\"|\"the roots\"|\"The Voice\"|\"Stronger\"|\"What Doesn't Kill You\"|\"Too Strong\"|\"You Don't Kill It\"|\"Meaning of Life\"|\"Pop\"|\"Piece by Piece\"|\"Wrapped In Red\"       1\n",
       "Fire Oil|\"Oil\"|\"Fire\"|\"Tanker\"|\"Iran\"|\"Iranians\"|\"China\"|\"Chinese\"|\"South Korea\"|\"world\"|\"environment\"|\"business\"|\"oil spill\"|\"oil tanker collision\"                                                                                                                                                                                                                                                                                                                                                              1\n",
       "this is not the end|\"quiet\"|\"womens march\"|\"milck\"                                                                                                                                                                                                                                                                                                                                                                                                                                                                1\n",
       "Name: tags, Length: 6018, dtype: int64"
      ]
     },
     "execution_count": 57,
     "metadata": {},
     "output_type": "execute_result"
    }
   ],
   "source": [
    "df.tags.value_counts()"
   ]
  },
  {
   "cell_type": "markdown",
   "metadata": {},
   "source": [
    "The tags column seems useless. However, I am curious about if the video has more tags will effecting trending or not. Therefore, I create a new column 'tags_words_count' to count the tags' numbers."
   ]
  },
  {
   "cell_type": "code",
   "execution_count": 58,
   "metadata": {},
   "outputs": [
    {
     "data": {
      "text/plain": [
       "0         1\n",
       "1         4\n",
       "2         1\n",
       "3        27\n",
       "4        14\n",
       "         ..\n",
       "40944    14\n",
       "40945     1\n",
       "40946    24\n",
       "40947    22\n",
       "40948     4\n",
       "Name: tags_words_count, Length: 40949, dtype: int64"
      ]
     },
     "execution_count": 58,
     "metadata": {},
     "output_type": "execute_result"
    }
   ],
   "source": [
    "df['tags_words_count'] = df.tags.apply(lambda x: len(str(x).split('|')))\n",
    "df.tags_words_count"
   ]
  },
  {
   "cell_type": "code",
   "execution_count": 59,
   "metadata": {},
   "outputs": [],
   "source": [
    "df.drop('tags', axis=1, inplace=True)"
   ]
  },
  {
   "cell_type": "markdown",
   "metadata": {},
   "source": [
    "### 8. dislikes"
   ]
  },
  {
   "cell_type": "code",
   "execution_count": 60,
   "metadata": {},
   "outputs": [
    {
     "data": {
      "text/plain": [
       "0.0        363\n",
       "1.0        151\n",
       "4.0        115\n",
       "5.0         92\n",
       "2.0         89\n",
       "          ... \n",
       "64636.0      1\n",
       "8763.0       1\n",
       "11537.0      1\n",
       "4990.0       1\n",
       "32620.0      1\n",
       "Name: dislikes, Length: 8268, dtype: int64"
      ]
     },
     "execution_count": 60,
     "metadata": {},
     "output_type": "execute_result"
    }
   ],
   "source": [
    "df.dislikes.value_counts()"
   ]
  },
  {
   "cell_type": "code",
   "execution_count": 61,
   "metadata": {},
   "outputs": [
    {
     "data": {
      "text/plain": [
       "0"
      ]
     },
     "execution_count": 61,
     "metadata": {},
     "output_type": "execute_result"
    }
   ],
   "source": [
    "# using mean to replace missing values\n",
    "df.dislikes.fillna(df.dislikes.mean(),inplace=True)\n",
    "df.dislikes.isnull().sum().sum()"
   ]
  },
  {
   "cell_type": "markdown",
   "metadata": {},
   "source": [
    "### 9. thumbnail_link\n",
    "Drop the column because it is basically the same as channel_title."
   ]
  },
  {
   "cell_type": "code",
   "execution_count": 62,
   "metadata": {},
   "outputs": [
    {
     "data": {
      "text/plain": [
       "https://i.ytimg.com/vi/NBSAQenU2Bk/default.jpg    29\n",
       "https://i.ytimg.com/vi/t4pRQ0jn23Q/default.jpg    29\n",
       "https://i.ytimg.com/vi/MAjY8mCTXWk/default.jpg    28\n",
       "https://i.ytimg.com/vi/r-3iathMo7o/default.jpg    28\n",
       "https://i.ytimg.com/vi/iILJvqrAQ_w/default.jpg    28\n",
       "                                                  ..\n",
       "https://i.ytimg.com/vi/cJHA4lLp32M/default.jpg     1\n",
       "https://i.ytimg.com/vi/D3uvvA7dyoI/default.jpg     1\n",
       "https://i.ytimg.com/vi/kA66nAvEEII/default.jpg     1\n",
       "https://i.ytimg.com/vi/HBS9783c0BI/default.jpg     1\n",
       "https://i.ytimg.com/vi/Fxwe_i96ye8/default.jpg     1\n",
       "Name: thumbnail_link, Length: 6320, dtype: int64"
      ]
     },
     "execution_count": 62,
     "metadata": {},
     "output_type": "execute_result"
    }
   ],
   "source": [
    "df.thumbnail_link.value_counts()"
   ]
  },
  {
   "cell_type": "code",
   "execution_count": 63,
   "metadata": {},
   "outputs": [],
   "source": [
    "df.drop('thumbnail_link', axis=1, inplace=True)"
   ]
  },
  {
   "cell_type": "markdown",
   "metadata": {},
   "source": [
    "### 10. comments_disabled"
   ]
  },
  {
   "cell_type": "code",
   "execution_count": 64,
   "metadata": {},
   "outputs": [
    {
     "data": {
      "text/plain": [
       "0.0    38339\n",
       "NaN     2018\n",
       "1.0      592\n",
       "Name: comments_disabled, dtype: int64"
      ]
     },
     "execution_count": 64,
     "metadata": {},
     "output_type": "execute_result"
    }
   ],
   "source": [
    "df.comments_disabled.value_counts(dropna=False)"
   ]
  },
  {
   "cell_type": "markdown",
   "metadata": {},
   "source": [
    "Assign majority group '0' into the missing values"
   ]
  },
  {
   "cell_type": "code",
   "execution_count": 65,
   "metadata": {},
   "outputs": [
    {
     "data": {
      "text/plain": [
       "0"
      ]
     },
     "execution_count": 65,
     "metadata": {},
     "output_type": "execute_result"
    }
   ],
   "source": [
    "df.comments_disabled.fillna(0,inplace=True)\n",
    "df.comments_disabled.isnull().sum()"
   ]
  },
  {
   "cell_type": "code",
   "execution_count": 66,
   "metadata": {},
   "outputs": [
    {
     "data": {
      "text/plain": [
       "Index(['dislikes', 'ratings_disabled', 'video_error_or_removed', 'description',\n",
       "       'trending', 'trending_date_00.00.00', 'trending_date_17.01.12',\n",
       "       'trending_date_17.02.12', 'trending_date_17.03.12',\n",
       "       'trending_date_17.04.12',\n",
       "       ...\n",
       "       'publish_time_2017-12', 'publish_time_2018-01', 'publish_time_2018-02',\n",
       "       'publish_time_2018-03', 'publish_time_2018-04', 'publish_time_2018-05',\n",
       "       'publish_time_2018-06', 'tags_words_count', 'comments_disabled_0.0',\n",
       "       'comments_disabled_1.0'],\n",
       "      dtype='object', length=297)"
      ]
     },
     "execution_count": 66,
     "metadata": {},
     "output_type": "execute_result"
    }
   ],
   "source": [
    "# convert to one hot vector\n",
    "ohv=pd.get_dummies(df['comments_disabled'],columns='comments_disabled',prefix='comments_disabled')\n",
    "df=pd.concat([df, ohv], axis=1)\n",
    "df.drop(['comments_disabled'],axis=1,inplace= True)\n",
    "df.columns"
   ]
  },
  {
   "cell_type": "markdown",
   "metadata": {},
   "source": [
    "### 11. ratings_disabled"
   ]
  },
  {
   "cell_type": "code",
   "execution_count": 67,
   "metadata": {},
   "outputs": [
    {
     "data": {
      "text/plain": [
       "0.0    38769\n",
       "NaN     2020\n",
       "1.0      160\n",
       "Name: ratings_disabled, dtype: int64"
      ]
     },
     "execution_count": 67,
     "metadata": {},
     "output_type": "execute_result"
    }
   ],
   "source": [
    "df.ratings_disabled.value_counts(dropna=False)"
   ]
  },
  {
   "cell_type": "markdown",
   "metadata": {},
   "source": [
    "Assign majority group '0' into the missing values"
   ]
  },
  {
   "cell_type": "code",
   "execution_count": 68,
   "metadata": {},
   "outputs": [
    {
     "data": {
      "text/plain": [
       "0"
      ]
     },
     "execution_count": 68,
     "metadata": {},
     "output_type": "execute_result"
    }
   ],
   "source": [
    "df.ratings_disabled.fillna(0,inplace=True)\n",
    "df.ratings_disabled.isnull().sum()"
   ]
  },
  {
   "cell_type": "code",
   "execution_count": 69,
   "metadata": {},
   "outputs": [
    {
     "data": {
      "text/plain": [
       "Index(['dislikes', 'video_error_or_removed', 'description', 'trending',\n",
       "       'trending_date_00.00.00', 'trending_date_17.01.12',\n",
       "       'trending_date_17.02.12', 'trending_date_17.03.12',\n",
       "       'trending_date_17.04.12', 'trending_date_17.05.12',\n",
       "       ...\n",
       "       'publish_time_2018-02', 'publish_time_2018-03', 'publish_time_2018-04',\n",
       "       'publish_time_2018-05', 'publish_time_2018-06', 'tags_words_count',\n",
       "       'comments_disabled_0.0', 'comments_disabled_1.0',\n",
       "       'ratings_disabled_0.0', 'ratings_disabled_1.0'],\n",
       "      dtype='object', length=298)"
      ]
     },
     "execution_count": 69,
     "metadata": {},
     "output_type": "execute_result"
    }
   ],
   "source": [
    "# convert to one hot vector\n",
    "ohv=pd.get_dummies(df['ratings_disabled'],columns='ratings_disabled',prefix='ratings_disabled')\n",
    "df=pd.concat([df, ohv], axis=1)\n",
    "df.drop(['ratings_disabled'],axis=1,inplace= True)\n",
    "df.columns"
   ]
  },
  {
   "cell_type": "markdown",
   "metadata": {},
   "source": [
    "Assign majority group '0' into the missing values"
   ]
  },
  {
   "cell_type": "markdown",
   "metadata": {},
   "source": [
    "### 12. video_error_or_removed"
   ]
  },
  {
   "cell_type": "code",
   "execution_count": 70,
   "metadata": {},
   "outputs": [
    {
     "data": {
      "text/plain": [
       "0.0    38928\n",
       "NaN     2000\n",
       "1.0       21\n",
       "Name: video_error_or_removed, dtype: int64"
      ]
     },
     "execution_count": 70,
     "metadata": {},
     "output_type": "execute_result"
    }
   ],
   "source": [
    "df.video_error_or_removed.value_counts(dropna=False)"
   ]
  },
  {
   "cell_type": "markdown",
   "metadata": {},
   "source": [
    "Assign majority group '0' into the missing values"
   ]
  },
  {
   "cell_type": "code",
   "execution_count": 71,
   "metadata": {},
   "outputs": [
    {
     "data": {
      "text/plain": [
       "0"
      ]
     },
     "execution_count": 71,
     "metadata": {},
     "output_type": "execute_result"
    }
   ],
   "source": [
    "df.video_error_or_removed.fillna(0,inplace=True)\n",
    "df.video_error_or_removed.isnull().sum()"
   ]
  },
  {
   "cell_type": "code",
   "execution_count": 72,
   "metadata": {},
   "outputs": [
    {
     "data": {
      "text/plain": [
       "Index(['dislikes', 'description', 'trending', 'trending_date_00.00.00',\n",
       "       'trending_date_17.01.12', 'trending_date_17.02.12',\n",
       "       'trending_date_17.03.12', 'trending_date_17.04.12',\n",
       "       'trending_date_17.05.12', 'trending_date_17.06.12',\n",
       "       ...\n",
       "       'publish_time_2018-04', 'publish_time_2018-05', 'publish_time_2018-06',\n",
       "       'tags_words_count', 'comments_disabled_0.0', 'comments_disabled_1.0',\n",
       "       'ratings_disabled_0.0', 'ratings_disabled_1.0',\n",
       "       'video_error_or_removed_0.0', 'video_error_or_removed_1.0'],\n",
       "      dtype='object', length=299)"
      ]
     },
     "execution_count": 72,
     "metadata": {},
     "output_type": "execute_result"
    }
   ],
   "source": [
    "# convert to one hot vector\n",
    "ohv=pd.get_dummies(df['video_error_or_removed'],columns='video_error_or_removed',prefix='video_error_or_removed')\n",
    "df=pd.concat([df, ohv], axis=1)\n",
    "df.drop(['video_error_or_removed'],axis=1,inplace= True)\n",
    "df.columns"
   ]
  },
  {
   "cell_type": "markdown",
   "metadata": {},
   "source": [
    "### 13. description"
   ]
  },
  {
   "cell_type": "code",
   "execution_count": 73,
   "metadata": {},
   "outputs": [
    {
     "data": {
      "text/plain": [
       "NaN                                                                                                                                                                                                                                                                                                                                                                                                                                                                                                                                                                                                                                                                                                                                                                                                                                                                                                                                                                                                                                                                                                                                                                                                                                                                                                                                                                                                  2603\n",
       "► Listen LIVE: http://power1051fm.com/\\n► Facebook: https://www.facebook.com/Power1051NY/\\n► Twitter: https://twitter.com/power1051/\\n► Instagram: https://www.instagram.com/power1051/                                                                                                                                                                                                                                                                                                                                                                                                                                                                                                                                                                                                                                                                                                                                                                                                                                                                                                                                                                                                                                                                                                                                                                                                                58\n",
       "Jukin Media Verified (Original) * For licensing / permission to use: Contact - licensing(at)jukinmediadotcom\\nSubmit your videos here: http://bit.ly/2iFnUya                                                                                                                                                                                                                                                                                                                                                                                                                                                                                                                                                                                                                                                                                                                                                                                                                                                                                                                                                                                                                                                                                                                                                                                                                                           40\n",
       "My Twitter: https://twitter.com/prozdkp\\nMy Let's Play channel, Press Buttons n Talk:\\nhttps://www.youtube.com/channel/UCSHsNH4FZXFeSQMJ56AdrBA\\nMy Merch/T-Shirt Store: http://www.theyetee.com/prozd\\nMy Tumblr: http://prozdvoices.tumblr.com/\\nMy Twitch: https://www.twitch.tv/prozd\\nMy Instagram: https://instagram.com/prozd\\nMy Patreon: http://www.patreon.com/prozd\\nUse the link below and the coupon code PROZDSNACKS to get $3 off your first Japan Crate Premium or Original:\\nhttp://japancrate.com/?tap_a=13976-19476b&tap_s=76467-12d24b\\nUse the link below and the coupon code PROZDRAMEN to get $3 off your first Umai Crate:\\nhttp://japancrate.com/umai?tap_a=18655-b8af8b&tap_s=76467-12d24b\\nUse the link below to get a free 14-day trial of Funimation anime streaming:\\nhttps://www.funimation.com/prozd\\nUse the link below and coupon code PROZD10 to get $10 off any Classic Bokksu subscription:\\nhttp://www.bokksu.com?rfsn=498614.9d328&utm_source=refersion&utm_medium=influencers&utm_campaign=498614.9d328\\nUse the link below and the coupon code ProZDCrate to get 10% off any Loot Crate:\\nhttps://lootcrate.com/ProZD                                                                                                                                                                                                                                         37\n",
       "BEST MOM EVER! WANT TO SEE US IN NYC & NJ?!BUY TIX HERE! ➨ http://bit.ly/DobreTour WE POST TUESDAY,THURSDAY, & SUNDAY!TURN OUR POST NOTIFICATIONS ON FOR A SHOUTOUT!SUBSCRIBE TO THE DOBRE VLOG CHANNEL! https://www.youtube.com/channel/UCC3OGYxHwV8pB5yLobw9KdASUBSCRIBE TO THE LUCAS AND MARCUS CHANNEL!https://www.youtube.com/user/TwiNboTzVids Lucas's Social Media  Instagram: https://www.instagram.com/lucas_dobre/Twitter: https://twitter.com/dobrelucasFacebook: https://www.facebook.com/dobrelucas/Snapchat: lucas_dobreMusical.ly: DobreTwins Marcus's Social Media  Instagram: https://www.instagram.com/marcusdobreTwitter: https://twitter.com/dobremarcusFacebook: https://www.facebook.com/marcusdobre/Snapchat: marcusdobre1Musical.ly: DobretwinsFollow the Dobre Brothers: Instagram: https://www.instagram.com/dobrebrothers/BIZ - dobrebrothersmgmt@gmail.com THANKS FOR WATCHING!WE MADE OUR MOM CRY...HER DREAM CAME TRUE!https://www.youtube.com/user/TwiNboTzVids                                                                                                                                                                                                                                                                                                                                                                                                         28\n",
       "                                                                                                                                                                                                                                                                                                                                                                                                                                                                                                                                                                                                                                                                                                                                                                                                                                                                                                                                                                                                                                                                                                                                                                                                                                                                                                                                                                                                     ... \n",
       "Reginae Carter is starring in the second season of “Growing Up Hip Hop: Atlanta” and her take on the Khia/Queens Court beef may shock you.                                                                                                                                                                                                                                                                                                                                                                                                                                                                                                                                                                                                                                                                                                                                                                                                                                                                                                                                                                                                                                                                                                                                                                                                                                                              1\n",
       "In this first look clip from Netflix's My Next Guest Needs No Introduction with David Letterman, streaming Friday, January 12, President Barack Obama describes dancing on stage with Prince and daughter Sasha, and how “staying in the pocket” is the key to keeping his dad moves in check.Watch My Next Guest Needs No Introduction With David Letterman on Netflix: https://www.netflix.com/title/80209096\\n\\nSUBSCRIBE: http://bit.ly/29qBUt7\\n\\nAbout Netflix:\\nNetflix is the world’s leading Internet television network with over 100 million members in over 190 countries enjoying more than 125 million hours of TV shows and movies per day, including original series, documentaries and feature films. Members can watch as much as they want, anytime, anywhere, on nearly any Internet-connected screen. Members can play, pause and resume watching, all without commercials or commitments.\\n\\nConnect with Netflix Online:\\nVisit Netflix WEBSITE: http://nflx.it/29BcWb5\\nLike Netflix Kids on FACEBOOK: http://bit.ly/NetflixFamily\\nLike Netflix on FACEBOOK: http://bit.ly/29kkAtN\\nFollow Netflix on TWITTER: http://bit.ly/29gswqd\\nFollow Netflix on INSTAGRAM: http://bit.ly/29oO4UP\\nFollow Netflix on TUMBLR: http://bit.ly/29kkemT\\n\\nMy Next Guest Needs No Introduction With David Letterman | Clip: Obama Dad Moves [HD] | Netflix\\nhttp://youtube.com/netflix       1\n",
       "Finesse (Remix) Feat. Cardi B Available Now: https://Atlantic.lnk.to/FinesseRemixID\\n\\nDirected by Bruno Mars\\nCo-Directed by Florent Dechard\\nCreative Consultant - Phil Tayag\\n\\nDownload or stream 24k Magic: https://Atlantic.lnk.to/24K_MagicID\\n\\nSee Bruno on the ‘24K Magic World Tour’! Tickets on sale now. Visit http://brunomars.com for dates \\n\\nPick up the 24K Magic World Tour Collection in Bruno’s Official Webstore: https://brunom.rs/brunomarsstore\\n\\nConnect with Bruno:\\nhttp://www.brunomars.com\\nhttp://www.instagram.com/brunomars\\nhttp://www.twitter.com/brunomars\\nhttp://www.facebook.com/brunomars                                                                                                                                                                                                                                                                                                                                                                                                                                                                                                                                                                                                                                                                                                                                                                     1\n",
       "Black Panther's Letitia Wright and The Roots' Black Thought take turns working three random words they've never seen before into a freestyle rap (plus a surprise freestyle from Jimmy).\\n\\nSubscribe NOW to The Tonight Show Starring Jimmy Fallon: http://bit.ly/1nwT1aN\\n\\nWatch The Tonight Show Starring Jimmy Fallon Weeknights 11:35/10:35c\\nGet more Jimmy Fallon: \\nFollow Jimmy: http://Twitter.com/JimmyFallon\\nLike Jimmy: https://Facebook.com/JimmyFallon\\n\\nGet more The Tonight Show Starring Jimmy Fallon: \\nFollow The Tonight Show: http://Twitter.com/FallonTonight\\nLike The Tonight Show: https://Facebook.com/FallonTonight\\nThe Tonight Show Tumblr: http://fallontonight.tumblr.com/\\n\\nGet more NBC: \\nNBC YouTube: http://bit.ly/1dM1qBH\\nLike NBC: http://Facebook.com/NBC\\nFollow NBC: http://Twitter.com/NBC\\nNBC Tumblr: http://nbctv.tumblr.com/\\nNBC Google+: https://plus.google.com/+NBC/posts\\n\\nThe Tonight Show Starring Jimmy Fallon features hilarious highlights from the show including: comedy sketches, music parodies, celebrity interviews, ridiculous games, and, of course, Jimmy's Thank You Notes and hashtags! You'll also find behind the scenes videos and other great web exclusives.\\n\\nWheel of Freestyle with Black Panther's Letitia Wright\\nhttp://www.youtube.com/fallontonight                                                             1\n",
       "Surprise! Another gay\\n\\nNew videos every Wednesday and Saturday starting NOW!  \\n\\nExplaining some things you may be wondering about this past year in my next video. \\n\\nWATCH ME:\\nMain Channel: http://goo.gl/OYjWoJ\\nSecond Channel: http://goo.gl/gdTu2q\\n\\nMERCH: goo.gl/fxeSNR\\n\\nFOLLOW ME:\\nTwitter: http://goo.gl/AZrTi9\\nSnapchat: lowecow\\nInstagram: http://goo.gl/ewmhFh\\nFacebook: http://goo.gl/2rvEcT\\nTumblr: http://goo.gl/yYVPDl\\nVine: Andrew Lowe\\n\\nBUSINESS INQUIRIES ONLY:\\ncontactandrewlowe@gmail.com\\n\\nDon't forget to thumbs up! Let's see if we can get this video to enough likes for me to feel validation of my worth in this cold world. Fingers crossed!                                                                                                                                                                                                                                                                                                                                                                                                                                                                                                                                                                                                                                                                                                           1\n",
       "Name: description, Length: 6844, dtype: int64"
      ]
     },
     "execution_count": 73,
     "metadata": {},
     "output_type": "execute_result"
    }
   ],
   "source": [
    "df.description.value_counts(dropna=False)"
   ]
  },
  {
   "cell_type": "markdown",
   "metadata": {},
   "source": [
    "The description column seems useless. However, I am curious about if a description has much words will it effect trending or not. Therefore, I create a new column 'description_words_count' to count the description words."
   ]
  },
  {
   "cell_type": "code",
   "execution_count": 74,
   "metadata": {},
   "outputs": [],
   "source": [
    "df['description_words_count'] = df.description.str.count(' ') + 1\n",
    "df.drop('description', axis=1, inplace=True)"
   ]
  },
  {
   "cell_type": "code",
   "execution_count": 75,
   "metadata": {},
   "outputs": [
    {
     "data": {
      "text/plain": [
       "0        136.0\n",
       "1         80.0\n",
       "2         74.0\n",
       "3        123.0\n",
       "4         53.0\n",
       "         ...  \n",
       "40944      9.0\n",
       "40945      NaN\n",
       "40946     67.0\n",
       "40947    242.0\n",
       "40948     76.0\n",
       "Name: description_words_count, Length: 40949, dtype: float64"
      ]
     },
     "execution_count": 75,
     "metadata": {},
     "output_type": "execute_result"
    }
   ],
   "source": [
    "df.description_words_count"
   ]
  },
  {
   "cell_type": "markdown",
   "metadata": {},
   "source": [
    "Using mean value of description_words_count to replace missing values."
   ]
  },
  {
   "cell_type": "code",
   "execution_count": 76,
   "metadata": {},
   "outputs": [],
   "source": [
    "df['description_words_count'].fillna((df['description_words_count'].mean()), inplace=True)"
   ]
  },
  {
   "cell_type": "code",
   "execution_count": 77,
   "metadata": {},
   "outputs": [
    {
     "data": {
      "text/plain": [
       "0"
      ]
     },
     "execution_count": 77,
     "metadata": {},
     "output_type": "execute_result"
    }
   ],
   "source": [
    "df.description_words_count.isnull().sum()"
   ]
  },
  {
   "cell_type": "code",
   "execution_count": 78,
   "metadata": {},
   "outputs": [
    {
     "name": "stdout",
     "output_type": "stream",
     "text": [
      "Missing value count of dislikes : 0\n",
      "Missing value count of trending : 0\n",
      "Missing value count of trending_date_00.00.00 : 0\n",
      "Missing value count of trending_date_17.01.12 : 0\n",
      "Missing value count of trending_date_17.02.12 : 0\n",
      "Missing value count of trending_date_17.03.12 : 0\n",
      "Missing value count of trending_date_17.04.12 : 0\n",
      "Missing value count of trending_date_17.05.12 : 0\n",
      "Missing value count of trending_date_17.06.12 : 0\n",
      "Missing value count of trending_date_17.07.12 : 0\n",
      "Missing value count of trending_date_17.08.12 : 0\n",
      "Missing value count of trending_date_17.09.12 : 0\n",
      "Missing value count of trending_date_17.10.12 : 0\n",
      "Missing value count of trending_date_17.11.12 : 0\n",
      "Missing value count of trending_date_17.12.12 : 0\n",
      "Missing value count of trending_date_17.13.12 : 0\n",
      "Missing value count of trending_date_17.14.11 : 0\n",
      "Missing value count of trending_date_17.14.12 : 0\n",
      "Missing value count of trending_date_17.15.11 : 0\n",
      "Missing value count of trending_date_17.15.12 : 0\n",
      "Missing value count of trending_date_17.16.11 : 0\n",
      "Missing value count of trending_date_17.16.12 : 0\n",
      "Missing value count of trending_date_17.17.11 : 0\n",
      "Missing value count of trending_date_17.17.12 : 0\n",
      "Missing value count of trending_date_17.18.11 : 0\n",
      "Missing value count of trending_date_17.18.12 : 0\n",
      "Missing value count of trending_date_17.19.11 : 0\n",
      "Missing value count of trending_date_17.19.12 : 0\n",
      "Missing value count of trending_date_17.20.11 : 0\n",
      "Missing value count of trending_date_17.20.12 : 0\n",
      "Missing value count of trending_date_17.21.11 : 0\n",
      "Missing value count of trending_date_17.21.12 : 0\n",
      "Missing value count of trending_date_17.22.11 : 0\n",
      "Missing value count of trending_date_17.22.12 : 0\n",
      "Missing value count of trending_date_17.23.11 : 0\n",
      "Missing value count of trending_date_17.23.12 : 0\n",
      "Missing value count of trending_date_17.24.11 : 0\n",
      "Missing value count of trending_date_17.24.12 : 0\n",
      "Missing value count of trending_date_17.25.11 : 0\n",
      "Missing value count of trending_date_17.25.12 : 0\n",
      "Missing value count of trending_date_17.26.11 : 0\n",
      "Missing value count of trending_date_17.26.12 : 0\n",
      "Missing value count of trending_date_17.27.11 : 0\n",
      "Missing value count of trending_date_17.27.12 : 0\n",
      "Missing value count of trending_date_17.28.11 : 0\n",
      "Missing value count of trending_date_17.28.12 : 0\n",
      "Missing value count of trending_date_17.29.11 : 0\n",
      "Missing value count of trending_date_17.29.12 : 0\n",
      "Missing value count of trending_date_17.30.11 : 0\n",
      "Missing value count of trending_date_17.30.12 : 0\n",
      "Missing value count of trending_date_17.31.12 : 0\n",
      "Missing value count of trending_date_18.01.01 : 0\n",
      "Missing value count of trending_date_18.01.02 : 0\n",
      "Missing value count of trending_date_18.01.03 : 0\n",
      "Missing value count of trending_date_18.01.04 : 0\n",
      "Missing value count of trending_date_18.01.05 : 0\n",
      "Missing value count of trending_date_18.01.06 : 0\n",
      "Missing value count of trending_date_18.02.01 : 0\n",
      "Missing value count of trending_date_18.02.02 : 0\n",
      "Missing value count of trending_date_18.02.03 : 0\n",
      "Missing value count of trending_date_18.02.04 : 0\n",
      "Missing value count of trending_date_18.02.05 : 0\n",
      "Missing value count of trending_date_18.02.06 : 0\n",
      "Missing value count of trending_date_18.03.01 : 0\n",
      "Missing value count of trending_date_18.03.02 : 0\n",
      "Missing value count of trending_date_18.03.03 : 0\n",
      "Missing value count of trending_date_18.03.04 : 0\n",
      "Missing value count of trending_date_18.03.05 : 0\n",
      "Missing value count of trending_date_18.03.06 : 0\n",
      "Missing value count of trending_date_18.04.01 : 0\n",
      "Missing value count of trending_date_18.04.02 : 0\n",
      "Missing value count of trending_date_18.04.03 : 0\n",
      "Missing value count of trending_date_18.04.04 : 0\n",
      "Missing value count of trending_date_18.04.05 : 0\n",
      "Missing value count of trending_date_18.04.06 : 0\n",
      "Missing value count of trending_date_18.05.01 : 0\n",
      "Missing value count of trending_date_18.05.02 : 0\n",
      "Missing value count of trending_date_18.05.03 : 0\n",
      "Missing value count of trending_date_18.05.04 : 0\n",
      "Missing value count of trending_date_18.05.05 : 0\n",
      "Missing value count of trending_date_18.05.06 : 0\n",
      "Missing value count of trending_date_18.06.01 : 0\n",
      "Missing value count of trending_date_18.06.02 : 0\n",
      "Missing value count of trending_date_18.06.03 : 0\n",
      "Missing value count of trending_date_18.06.04 : 0\n",
      "Missing value count of trending_date_18.06.05 : 0\n",
      "Missing value count of trending_date_18.06.06 : 0\n",
      "Missing value count of trending_date_18.07.01 : 0\n",
      "Missing value count of trending_date_18.07.02 : 0\n",
      "Missing value count of trending_date_18.07.03 : 0\n",
      "Missing value count of trending_date_18.07.04 : 0\n",
      "Missing value count of trending_date_18.07.05 : 0\n",
      "Missing value count of trending_date_18.07.06 : 0\n",
      "Missing value count of trending_date_18.08.01 : 0\n",
      "Missing value count of trending_date_18.08.02 : 0\n",
      "Missing value count of trending_date_18.08.03 : 0\n",
      "Missing value count of trending_date_18.08.05 : 0\n",
      "Missing value count of trending_date_18.08.06 : 0\n",
      "Missing value count of trending_date_18.09.01 : 0\n",
      "Missing value count of trending_date_18.09.02 : 0\n",
      "Missing value count of trending_date_18.09.03 : 0\n",
      "Missing value count of trending_date_18.09.05 : 0\n",
      "Missing value count of trending_date_18.09.06 : 0\n",
      "Missing value count of trending_date_18.10.02 : 0\n",
      "Missing value count of trending_date_18.10.03 : 0\n",
      "Missing value count of trending_date_18.10.05 : 0\n",
      "Missing value count of trending_date_18.10.06 : 0\n",
      "Missing value count of trending_date_18.11.02 : 0\n",
      "Missing value count of trending_date_18.11.03 : 0\n",
      "Missing value count of trending_date_18.11.05 : 0\n",
      "Missing value count of trending_date_18.11.06 : 0\n",
      "Missing value count of trending_date_18.12.01 : 0\n",
      "Missing value count of trending_date_18.12.02 : 0\n",
      "Missing value count of trending_date_18.12.03 : 0\n",
      "Missing value count of trending_date_18.12.05 : 0\n",
      "Missing value count of trending_date_18.12.06 : 0\n",
      "Missing value count of trending_date_18.13.01 : 0\n",
      "Missing value count of trending_date_18.13.02 : 0\n",
      "Missing value count of trending_date_18.13.03 : 0\n",
      "Missing value count of trending_date_18.13.05 : 0\n",
      "Missing value count of trending_date_18.13.06 : 0\n",
      "Missing value count of trending_date_18.14.01 : 0\n",
      "Missing value count of trending_date_18.14.02 : 0\n",
      "Missing value count of trending_date_18.14.03 : 0\n",
      "Missing value count of trending_date_18.14.04 : 0\n",
      "Missing value count of trending_date_18.14.05 : 0\n",
      "Missing value count of trending_date_18.14.06 : 0\n",
      "Missing value count of trending_date_18.15.01 : 0\n",
      "Missing value count of trending_date_18.15.02 : 0\n",
      "Missing value count of trending_date_18.15.03 : 0\n",
      "Missing value count of trending_date_18.15.04 : 0\n",
      "Missing value count of trending_date_18.15.05 : 0\n",
      "Missing value count of trending_date_18.16.01 : 0\n",
      "Missing value count of trending_date_18.16.02 : 0\n",
      "Missing value count of trending_date_18.16.03 : 0\n",
      "Missing value count of trending_date_18.16.04 : 0\n",
      "Missing value count of trending_date_18.16.05 : 0\n",
      "Missing value count of trending_date_18.17.01 : 0\n",
      "Missing value count of trending_date_18.17.02 : 0\n",
      "Missing value count of trending_date_18.17.03 : 0\n",
      "Missing value count of trending_date_18.17.04 : 0\n",
      "Missing value count of trending_date_18.17.05 : 0\n",
      "Missing value count of trending_date_18.18.01 : 0\n",
      "Missing value count of trending_date_18.18.02 : 0\n",
      "Missing value count of trending_date_18.18.03 : 0\n",
      "Missing value count of trending_date_18.18.04 : 0\n",
      "Missing value count of trending_date_18.18.05 : 0\n",
      "Missing value count of trending_date_18.19.01 : 0\n",
      "Missing value count of trending_date_18.19.02 : 0\n",
      "Missing value count of trending_date_18.19.03 : 0\n",
      "Missing value count of trending_date_18.19.04 : 0\n",
      "Missing value count of trending_date_18.19.05 : 0\n",
      "Missing value count of trending_date_18.20.01 : 0\n",
      "Missing value count of trending_date_18.20.02 : 0\n",
      "Missing value count of trending_date_18.20.03 : 0\n",
      "Missing value count of trending_date_18.20.04 : 0\n",
      "Missing value count of trending_date_18.20.05 : 0\n",
      "Missing value count of trending_date_18.21.01 : 0\n",
      "Missing value count of trending_date_18.21.02 : 0\n",
      "Missing value count of trending_date_18.21.03 : 0\n",
      "Missing value count of trending_date_18.21.04 : 0\n",
      "Missing value count of trending_date_18.21.05 : 0\n",
      "Missing value count of trending_date_18.22.01 : 0\n",
      "Missing value count of trending_date_18.22.02 : 0\n",
      "Missing value count of trending_date_18.22.03 : 0\n",
      "Missing value count of trending_date_18.22.04 : 0\n",
      "Missing value count of trending_date_18.22.05 : 0\n",
      "Missing value count of trending_date_18.23.01 : 0\n",
      "Missing value count of trending_date_18.23.02 : 0\n",
      "Missing value count of trending_date_18.23.03 : 0\n",
      "Missing value count of trending_date_18.23.04 : 0\n",
      "Missing value count of trending_date_18.23.05 : 0\n",
      "Missing value count of trending_date_18.24.01 : 0\n",
      "Missing value count of trending_date_18.24.02 : 0\n",
      "Missing value count of trending_date_18.24.03 : 0\n",
      "Missing value count of trending_date_18.24.04 : 0\n",
      "Missing value count of trending_date_18.24.05 : 0\n",
      "Missing value count of trending_date_18.25.01 : 0\n",
      "Missing value count of trending_date_18.25.02 : 0\n",
      "Missing value count of trending_date_18.25.03 : 0\n",
      "Missing value count of trending_date_18.25.04 : 0\n",
      "Missing value count of trending_date_18.25.05 : 0\n",
      "Missing value count of trending_date_18.26.01 : 0\n",
      "Missing value count of trending_date_18.26.02 : 0\n",
      "Missing value count of trending_date_18.26.03 : 0\n",
      "Missing value count of trending_date_18.26.04 : 0\n",
      "Missing value count of trending_date_18.26.05 : 0\n",
      "Missing value count of trending_date_18.27.01 : 0\n",
      "Missing value count of trending_date_18.27.02 : 0\n",
      "Missing value count of trending_date_18.27.03 : 0\n",
      "Missing value count of trending_date_18.27.04 : 0\n",
      "Missing value count of trending_date_18.27.05 : 0\n",
      "Missing value count of trending_date_18.28.01 : 0\n",
      "Missing value count of trending_date_18.28.02 : 0\n",
      "Missing value count of trending_date_18.28.03 : 0\n",
      "Missing value count of trending_date_18.28.04 : 0\n",
      "Missing value count of trending_date_18.28.05 : 0\n",
      "Missing value count of trending_date_18.29.01 : 0\n",
      "Missing value count of trending_date_18.29.03 : 0\n",
      "Missing value count of trending_date_18.29.04 : 0\n",
      "Missing value count of trending_date_18.29.05 : 0\n",
      "Missing value count of trending_date_18.30.01 : 0\n",
      "Missing value count of trending_date_18.30.03 : 0\n",
      "Missing value count of trending_date_18.30.04 : 0\n",
      "Missing value count of trending_date_18.30.05 : 0\n",
      "Missing value count of trending_date_18.31.01 : 0\n",
      "Missing value count of trending_date_18.31.03 : 0\n",
      "Missing value count of trending_date_18.31.05 : 0\n",
      "Missing value count of title_count : 0\n",
      "Missing value count of channel_title_counts : 0\n",
      "Missing value count of category_id_Autos & Vehicles : 0\n",
      "Missing value count of category_id_Comedy : 0\n",
      "Missing value count of category_id_Education : 0\n",
      "Missing value count of category_id_Entertainment : 0\n",
      "Missing value count of category_id_Film & Animation : 0\n",
      "Missing value count of category_id_Gaming : 0\n",
      "Missing value count of category_id_Howto & Style : 0\n",
      "Missing value count of category_id_Music : 0\n",
      "Missing value count of category_id_News & Politics : 0\n",
      "Missing value count of category_id_Nonprofits & Activism : 0\n",
      "Missing value count of category_id_People & Blogs : 0\n",
      "Missing value count of category_id_Pets & Animals : 0\n",
      "Missing value count of category_id_Science & Technology : 0\n",
      "Missing value count of category_id_Shows : 0\n",
      "Missing value count of category_id_Sports : 0\n",
      "Missing value count of category_id_Travel & Events : 0\n",
      "Missing value count of category_id_UNKNOWN : 0\n",
      "Missing value count of publish_time_0000-00 : 0\n",
      "Missing value count of publish_time_2006-07 : 0\n",
      "Missing value count of publish_time_2008-04 : 0\n",
      "Missing value count of publish_time_2008-06 : 0\n",
      "Missing value count of publish_time_2008-08 : 0\n",
      "Missing value count of publish_time_2009-03 : 0\n",
      "Missing value count of publish_time_2009-06 : 0\n",
      "Missing value count of publish_time_2009-09 : 0\n",
      "Missing value count of publish_time_2009-12 : 0\n",
      "Missing value count of publish_time_2010-01 : 0\n",
      "Missing value count of publish_time_2010-04 : 0\n",
      "Missing value count of publish_time_2010-05 : 0\n",
      "Missing value count of publish_time_2010-09 : 0\n",
      "Missing value count of publish_time_2011-03 : 0\n",
      "Missing value count of publish_time_2011-05 : 0\n",
      "Missing value count of publish_time_2011-08 : 0\n",
      "Missing value count of publish_time_2011-11 : 0\n",
      "Missing value count of publish_time_2012-01 : 0\n",
      "Missing value count of publish_time_2012-02 : 0\n",
      "Missing value count of publish_time_2012-03 : 0\n",
      "Missing value count of publish_time_2012-06 : 0\n",
      "Missing value count of publish_time_2012-09 : 0\n",
      "Missing value count of publish_time_2012-12 : 0\n",
      "Missing value count of publish_time_2013-03 : 0\n",
      "Missing value count of publish_time_2013-05 : 0\n",
      "Missing value count of publish_time_2013-07 : 0\n",
      "Missing value count of publish_time_2013-09 : 0\n",
      "Missing value count of publish_time_2013-10 : 0\n",
      "Missing value count of publish_time_2013-11 : 0\n",
      "Missing value count of publish_time_2014-01 : 0\n",
      "Missing value count of publish_time_2014-02 : 0\n",
      "Missing value count of publish_time_2014-03 : 0\n",
      "Missing value count of publish_time_2014-06 : 0\n",
      "Missing value count of publish_time_2014-08 : 0\n",
      "Missing value count of publish_time_2014-12 : 0\n",
      "Missing value count of publish_time_2015-01 : 0\n",
      "Missing value count of publish_time_2015-03 : 0\n",
      "Missing value count of publish_time_2015-04 : 0\n",
      "Missing value count of publish_time_2015-05 : 0\n",
      "Missing value count of publish_time_2015-06 : 0\n",
      "Missing value count of publish_time_2015-07 : 0\n",
      "Missing value count of publish_time_2015-09 : 0\n",
      "Missing value count of publish_time_2015-10 : 0\n",
      "Missing value count of publish_time_2016-05 : 0\n",
      "Missing value count of publish_time_2016-06 : 0\n",
      "Missing value count of publish_time_2016-10 : 0\n",
      "Missing value count of publish_time_2016-11 : 0\n",
      "Missing value count of publish_time_2016-12 : 0\n",
      "Missing value count of publish_time_2017-02 : 0\n",
      "Missing value count of publish_time_2017-03 : 0\n",
      "Missing value count of publish_time_2017-04 : 0\n",
      "Missing value count of publish_time_2017-05 : 0\n",
      "Missing value count of publish_time_2017-06 : 0\n",
      "Missing value count of publish_time_2017-08 : 0\n",
      "Missing value count of publish_time_2017-09 : 0\n",
      "Missing value count of publish_time_2017-10 : 0\n",
      "Missing value count of publish_time_2017-11 : 0\n",
      "Missing value count of publish_time_2017-12 : 0\n",
      "Missing value count of publish_time_2018-01 : 0\n",
      "Missing value count of publish_time_2018-02 : 0\n",
      "Missing value count of publish_time_2018-03 : 0\n",
      "Missing value count of publish_time_2018-04 : 0\n",
      "Missing value count of publish_time_2018-05 : 0\n",
      "Missing value count of publish_time_2018-06 : 0\n",
      "Missing value count of tags_words_count : 0\n",
      "Missing value count of comments_disabled_0.0 : 0\n",
      "Missing value count of comments_disabled_1.0 : 0\n",
      "Missing value count of ratings_disabled_0.0 : 0\n",
      "Missing value count of ratings_disabled_1.0 : 0\n",
      "Missing value count of video_error_or_removed_0.0 : 0\n",
      "Missing value count of video_error_or_removed_1.0 : 0\n",
      "Missing value count of description_words_count : 0\n"
     ]
    }
   ],
   "source": [
    "for colname in df.columns:\n",
    "    print('Missing value count of {} : {}'.format(colname, df[colname].isnull().sum()))"
   ]
  },
  {
   "cell_type": "code",
   "execution_count": 79,
   "metadata": {},
   "outputs": [
    {
     "data": {
      "text/plain": [
       "0"
      ]
     },
     "execution_count": 79,
     "metadata": {},
     "output_type": "execute_result"
    }
   ],
   "source": [
    "df.isnull().sum().sum()"
   ]
  },
  {
   "cell_type": "code",
   "execution_count": 80,
   "metadata": {},
   "outputs": [
    {
     "name": "stdout",
     "output_type": "stream",
     "text": [
      "<class 'pandas.core.frame.DataFrame'>\n",
      "RangeIndex: 40949 entries, 0 to 40948\n",
      "Data columns (total 299 columns):\n",
      " #   Column                             Dtype  \n",
      "---  ------                             -----  \n",
      " 0   dislikes                           float64\n",
      " 1   trending                           int64  \n",
      " 2   trending_date_00.00.00             uint8  \n",
      " 3   trending_date_17.01.12             uint8  \n",
      " 4   trending_date_17.02.12             uint8  \n",
      " 5   trending_date_17.03.12             uint8  \n",
      " 6   trending_date_17.04.12             uint8  \n",
      " 7   trending_date_17.05.12             uint8  \n",
      " 8   trending_date_17.06.12             uint8  \n",
      " 9   trending_date_17.07.12             uint8  \n",
      " 10  trending_date_17.08.12             uint8  \n",
      " 11  trending_date_17.09.12             uint8  \n",
      " 12  trending_date_17.10.12             uint8  \n",
      " 13  trending_date_17.11.12             uint8  \n",
      " 14  trending_date_17.12.12             uint8  \n",
      " 15  trending_date_17.13.12             uint8  \n",
      " 16  trending_date_17.14.11             uint8  \n",
      " 17  trending_date_17.14.12             uint8  \n",
      " 18  trending_date_17.15.11             uint8  \n",
      " 19  trending_date_17.15.12             uint8  \n",
      " 20  trending_date_17.16.11             uint8  \n",
      " 21  trending_date_17.16.12             uint8  \n",
      " 22  trending_date_17.17.11             uint8  \n",
      " 23  trending_date_17.17.12             uint8  \n",
      " 24  trending_date_17.18.11             uint8  \n",
      " 25  trending_date_17.18.12             uint8  \n",
      " 26  trending_date_17.19.11             uint8  \n",
      " 27  trending_date_17.19.12             uint8  \n",
      " 28  trending_date_17.20.11             uint8  \n",
      " 29  trending_date_17.20.12             uint8  \n",
      " 30  trending_date_17.21.11             uint8  \n",
      " 31  trending_date_17.21.12             uint8  \n",
      " 32  trending_date_17.22.11             uint8  \n",
      " 33  trending_date_17.22.12             uint8  \n",
      " 34  trending_date_17.23.11             uint8  \n",
      " 35  trending_date_17.23.12             uint8  \n",
      " 36  trending_date_17.24.11             uint8  \n",
      " 37  trending_date_17.24.12             uint8  \n",
      " 38  trending_date_17.25.11             uint8  \n",
      " 39  trending_date_17.25.12             uint8  \n",
      " 40  trending_date_17.26.11             uint8  \n",
      " 41  trending_date_17.26.12             uint8  \n",
      " 42  trending_date_17.27.11             uint8  \n",
      " 43  trending_date_17.27.12             uint8  \n",
      " 44  trending_date_17.28.11             uint8  \n",
      " 45  trending_date_17.28.12             uint8  \n",
      " 46  trending_date_17.29.11             uint8  \n",
      " 47  trending_date_17.29.12             uint8  \n",
      " 48  trending_date_17.30.11             uint8  \n",
      " 49  trending_date_17.30.12             uint8  \n",
      " 50  trending_date_17.31.12             uint8  \n",
      " 51  trending_date_18.01.01             uint8  \n",
      " 52  trending_date_18.01.02             uint8  \n",
      " 53  trending_date_18.01.03             uint8  \n",
      " 54  trending_date_18.01.04             uint8  \n",
      " 55  trending_date_18.01.05             uint8  \n",
      " 56  trending_date_18.01.06             uint8  \n",
      " 57  trending_date_18.02.01             uint8  \n",
      " 58  trending_date_18.02.02             uint8  \n",
      " 59  trending_date_18.02.03             uint8  \n",
      " 60  trending_date_18.02.04             uint8  \n",
      " 61  trending_date_18.02.05             uint8  \n",
      " 62  trending_date_18.02.06             uint8  \n",
      " 63  trending_date_18.03.01             uint8  \n",
      " 64  trending_date_18.03.02             uint8  \n",
      " 65  trending_date_18.03.03             uint8  \n",
      " 66  trending_date_18.03.04             uint8  \n",
      " 67  trending_date_18.03.05             uint8  \n",
      " 68  trending_date_18.03.06             uint8  \n",
      " 69  trending_date_18.04.01             uint8  \n",
      " 70  trending_date_18.04.02             uint8  \n",
      " 71  trending_date_18.04.03             uint8  \n",
      " 72  trending_date_18.04.04             uint8  \n",
      " 73  trending_date_18.04.05             uint8  \n",
      " 74  trending_date_18.04.06             uint8  \n",
      " 75  trending_date_18.05.01             uint8  \n",
      " 76  trending_date_18.05.02             uint8  \n",
      " 77  trending_date_18.05.03             uint8  \n",
      " 78  trending_date_18.05.04             uint8  \n",
      " 79  trending_date_18.05.05             uint8  \n",
      " 80  trending_date_18.05.06             uint8  \n",
      " 81  trending_date_18.06.01             uint8  \n",
      " 82  trending_date_18.06.02             uint8  \n",
      " 83  trending_date_18.06.03             uint8  \n",
      " 84  trending_date_18.06.04             uint8  \n",
      " 85  trending_date_18.06.05             uint8  \n",
      " 86  trending_date_18.06.06             uint8  \n",
      " 87  trending_date_18.07.01             uint8  \n",
      " 88  trending_date_18.07.02             uint8  \n",
      " 89  trending_date_18.07.03             uint8  \n",
      " 90  trending_date_18.07.04             uint8  \n",
      " 91  trending_date_18.07.05             uint8  \n",
      " 92  trending_date_18.07.06             uint8  \n",
      " 93  trending_date_18.08.01             uint8  \n",
      " 94  trending_date_18.08.02             uint8  \n",
      " 95  trending_date_18.08.03             uint8  \n",
      " 96  trending_date_18.08.05             uint8  \n",
      " 97  trending_date_18.08.06             uint8  \n",
      " 98  trending_date_18.09.01             uint8  \n",
      " 99  trending_date_18.09.02             uint8  \n",
      " 100 trending_date_18.09.03             uint8  \n",
      " 101 trending_date_18.09.05             uint8  \n",
      " 102 trending_date_18.09.06             uint8  \n",
      " 103 trending_date_18.10.02             uint8  \n",
      " 104 trending_date_18.10.03             uint8  \n",
      " 105 trending_date_18.10.05             uint8  \n",
      " 106 trending_date_18.10.06             uint8  \n",
      " 107 trending_date_18.11.02             uint8  \n",
      " 108 trending_date_18.11.03             uint8  \n",
      " 109 trending_date_18.11.05             uint8  \n",
      " 110 trending_date_18.11.06             uint8  \n",
      " 111 trending_date_18.12.01             uint8  \n",
      " 112 trending_date_18.12.02             uint8  \n",
      " 113 trending_date_18.12.03             uint8  \n",
      " 114 trending_date_18.12.05             uint8  \n",
      " 115 trending_date_18.12.06             uint8  \n",
      " 116 trending_date_18.13.01             uint8  \n",
      " 117 trending_date_18.13.02             uint8  \n",
      " 118 trending_date_18.13.03             uint8  \n",
      " 119 trending_date_18.13.05             uint8  \n",
      " 120 trending_date_18.13.06             uint8  \n",
      " 121 trending_date_18.14.01             uint8  \n",
      " 122 trending_date_18.14.02             uint8  \n",
      " 123 trending_date_18.14.03             uint8  \n",
      " 124 trending_date_18.14.04             uint8  \n",
      " 125 trending_date_18.14.05             uint8  \n",
      " 126 trending_date_18.14.06             uint8  \n",
      " 127 trending_date_18.15.01             uint8  \n",
      " 128 trending_date_18.15.02             uint8  \n",
      " 129 trending_date_18.15.03             uint8  \n",
      " 130 trending_date_18.15.04             uint8  \n",
      " 131 trending_date_18.15.05             uint8  \n",
      " 132 trending_date_18.16.01             uint8  \n",
      " 133 trending_date_18.16.02             uint8  \n",
      " 134 trending_date_18.16.03             uint8  \n",
      " 135 trending_date_18.16.04             uint8  \n",
      " 136 trending_date_18.16.05             uint8  \n",
      " 137 trending_date_18.17.01             uint8  \n",
      " 138 trending_date_18.17.02             uint8  \n",
      " 139 trending_date_18.17.03             uint8  \n",
      " 140 trending_date_18.17.04             uint8  \n",
      " 141 trending_date_18.17.05             uint8  \n",
      " 142 trending_date_18.18.01             uint8  \n",
      " 143 trending_date_18.18.02             uint8  \n",
      " 144 trending_date_18.18.03             uint8  \n",
      " 145 trending_date_18.18.04             uint8  \n",
      " 146 trending_date_18.18.05             uint8  \n",
      " 147 trending_date_18.19.01             uint8  \n",
      " 148 trending_date_18.19.02             uint8  \n",
      " 149 trending_date_18.19.03             uint8  \n",
      " 150 trending_date_18.19.04             uint8  \n",
      " 151 trending_date_18.19.05             uint8  \n",
      " 152 trending_date_18.20.01             uint8  \n",
      " 153 trending_date_18.20.02             uint8  \n",
      " 154 trending_date_18.20.03             uint8  \n",
      " 155 trending_date_18.20.04             uint8  \n",
      " 156 trending_date_18.20.05             uint8  \n",
      " 157 trending_date_18.21.01             uint8  \n",
      " 158 trending_date_18.21.02             uint8  \n",
      " 159 trending_date_18.21.03             uint8  \n",
      " 160 trending_date_18.21.04             uint8  \n",
      " 161 trending_date_18.21.05             uint8  \n",
      " 162 trending_date_18.22.01             uint8  \n",
      " 163 trending_date_18.22.02             uint8  \n",
      " 164 trending_date_18.22.03             uint8  \n",
      " 165 trending_date_18.22.04             uint8  \n",
      " 166 trending_date_18.22.05             uint8  \n",
      " 167 trending_date_18.23.01             uint8  \n",
      " 168 trending_date_18.23.02             uint8  \n",
      " 169 trending_date_18.23.03             uint8  \n",
      " 170 trending_date_18.23.04             uint8  \n",
      " 171 trending_date_18.23.05             uint8  \n",
      " 172 trending_date_18.24.01             uint8  \n",
      " 173 trending_date_18.24.02             uint8  \n",
      " 174 trending_date_18.24.03             uint8  \n",
      " 175 trending_date_18.24.04             uint8  \n",
      " 176 trending_date_18.24.05             uint8  \n",
      " 177 trending_date_18.25.01             uint8  \n",
      " 178 trending_date_18.25.02             uint8  \n",
      " 179 trending_date_18.25.03             uint8  \n",
      " 180 trending_date_18.25.04             uint8  \n",
      " 181 trending_date_18.25.05             uint8  \n",
      " 182 trending_date_18.26.01             uint8  \n",
      " 183 trending_date_18.26.02             uint8  \n",
      " 184 trending_date_18.26.03             uint8  \n",
      " 185 trending_date_18.26.04             uint8  \n",
      " 186 trending_date_18.26.05             uint8  \n",
      " 187 trending_date_18.27.01             uint8  \n",
      " 188 trending_date_18.27.02             uint8  \n",
      " 189 trending_date_18.27.03             uint8  \n",
      " 190 trending_date_18.27.04             uint8  \n",
      " 191 trending_date_18.27.05             uint8  \n",
      " 192 trending_date_18.28.01             uint8  \n",
      " 193 trending_date_18.28.02             uint8  \n",
      " 194 trending_date_18.28.03             uint8  \n",
      " 195 trending_date_18.28.04             uint8  \n",
      " 196 trending_date_18.28.05             uint8  \n",
      " 197 trending_date_18.29.01             uint8  \n",
      " 198 trending_date_18.29.03             uint8  \n",
      " 199 trending_date_18.29.04             uint8  \n",
      " 200 trending_date_18.29.05             uint8  \n",
      " 201 trending_date_18.30.01             uint8  \n",
      " 202 trending_date_18.30.03             uint8  \n",
      " 203 trending_date_18.30.04             uint8  \n",
      " 204 trending_date_18.30.05             uint8  \n",
      " 205 trending_date_18.31.01             uint8  \n",
      " 206 trending_date_18.31.03             uint8  \n",
      " 207 trending_date_18.31.05             uint8  \n",
      " 208 title_count                        int64  \n",
      " 209 channel_title_counts               int64  \n",
      " 210 category_id_Autos & Vehicles       uint8  \n",
      " 211 category_id_Comedy                 uint8  \n",
      " 212 category_id_Education              uint8  \n",
      " 213 category_id_Entertainment          uint8  \n",
      " 214 category_id_Film & Animation       uint8  \n",
      " 215 category_id_Gaming                 uint8  \n",
      " 216 category_id_Howto & Style          uint8  \n",
      " 217 category_id_Music                  uint8  \n",
      " 218 category_id_News & Politics        uint8  \n",
      " 219 category_id_Nonprofits & Activism  uint8  \n",
      " 220 category_id_People & Blogs         uint8  \n",
      " 221 category_id_Pets & Animals         uint8  \n",
      " 222 category_id_Science & Technology   uint8  \n",
      " 223 category_id_Shows                  uint8  \n",
      " 224 category_id_Sports                 uint8  \n",
      " 225 category_id_Travel & Events        uint8  \n",
      " 226 category_id_UNKNOWN                uint8  \n",
      " 227 publish_time_0000-00               uint8  \n",
      " 228 publish_time_2006-07               uint8  \n",
      " 229 publish_time_2008-04               uint8  \n",
      " 230 publish_time_2008-06               uint8  \n",
      " 231 publish_time_2008-08               uint8  \n",
      " 232 publish_time_2009-03               uint8  \n",
      " 233 publish_time_2009-06               uint8  \n",
      " 234 publish_time_2009-09               uint8  \n",
      " 235 publish_time_2009-12               uint8  \n",
      " 236 publish_time_2010-01               uint8  \n",
      " 237 publish_time_2010-04               uint8  \n",
      " 238 publish_time_2010-05               uint8  \n",
      " 239 publish_time_2010-09               uint8  \n",
      " 240 publish_time_2011-03               uint8  \n",
      " 241 publish_time_2011-05               uint8  \n",
      " 242 publish_time_2011-08               uint8  \n",
      " 243 publish_time_2011-11               uint8  \n",
      " 244 publish_time_2012-01               uint8  \n",
      " 245 publish_time_2012-02               uint8  \n",
      " 246 publish_time_2012-03               uint8  \n",
      " 247 publish_time_2012-06               uint8  \n",
      " 248 publish_time_2012-09               uint8  \n",
      " 249 publish_time_2012-12               uint8  \n",
      " 250 publish_time_2013-03               uint8  \n",
      " 251 publish_time_2013-05               uint8  \n",
      " 252 publish_time_2013-07               uint8  \n",
      " 253 publish_time_2013-09               uint8  \n",
      " 254 publish_time_2013-10               uint8  \n",
      " 255 publish_time_2013-11               uint8  \n",
      " 256 publish_time_2014-01               uint8  \n",
      " 257 publish_time_2014-02               uint8  \n",
      " 258 publish_time_2014-03               uint8  \n",
      " 259 publish_time_2014-06               uint8  \n",
      " 260 publish_time_2014-08               uint8  \n",
      " 261 publish_time_2014-12               uint8  \n",
      " 262 publish_time_2015-01               uint8  \n",
      " 263 publish_time_2015-03               uint8  \n",
      " 264 publish_time_2015-04               uint8  \n",
      " 265 publish_time_2015-05               uint8  \n",
      " 266 publish_time_2015-06               uint8  \n",
      " 267 publish_time_2015-07               uint8  \n",
      " 268 publish_time_2015-09               uint8  \n",
      " 269 publish_time_2015-10               uint8  \n",
      " 270 publish_time_2016-05               uint8  \n",
      " 271 publish_time_2016-06               uint8  \n",
      " 272 publish_time_2016-10               uint8  \n",
      " 273 publish_time_2016-11               uint8  \n",
      " 274 publish_time_2016-12               uint8  \n",
      " 275 publish_time_2017-02               uint8  \n",
      " 276 publish_time_2017-03               uint8  \n",
      " 277 publish_time_2017-04               uint8  \n",
      " 278 publish_time_2017-05               uint8  \n",
      " 279 publish_time_2017-06               uint8  \n",
      " 280 publish_time_2017-08               uint8  \n",
      " 281 publish_time_2017-09               uint8  \n",
      " 282 publish_time_2017-10               uint8  \n",
      " 283 publish_time_2017-11               uint8  \n",
      " 284 publish_time_2017-12               uint8  \n",
      " 285 publish_time_2018-01               uint8  \n",
      " 286 publish_time_2018-02               uint8  \n",
      " 287 publish_time_2018-03               uint8  \n",
      " 288 publish_time_2018-04               uint8  \n",
      " 289 publish_time_2018-05               uint8  \n",
      " 290 publish_time_2018-06               uint8  \n",
      " 291 tags_words_count                   int64  \n",
      " 292 comments_disabled_0.0              uint8  \n",
      " 293 comments_disabled_1.0              uint8  \n",
      " 294 ratings_disabled_0.0               uint8  \n",
      " 295 ratings_disabled_1.0               uint8  \n",
      " 296 video_error_or_removed_0.0         uint8  \n",
      " 297 video_error_or_removed_1.0         uint8  \n",
      " 298 description_words_count            float64\n",
      "dtypes: float64(2), int64(4), uint8(293)\n",
      "memory usage: 13.3 MB\n"
     ]
    }
   ],
   "source": [
    "df.info(verbose=True)"
   ]
  },
  {
   "cell_type": "code",
   "execution_count": 81,
   "metadata": {},
   "outputs": [
    {
     "data": {
      "text/plain": [
       "(40949, 299)"
      ]
     },
     "execution_count": 81,
     "metadata": {},
     "output_type": "execute_result"
    }
   ],
   "source": [
    "df.shape"
   ]
  },
  {
   "cell_type": "code",
   "execution_count": 82,
   "metadata": {},
   "outputs": [],
   "source": [
    "#!! Due to the dataset is too huge, my computer can't compute it. I will only use partial of this dataset for modeling\n",
    "df_impute_org = df.copy()\n",
    "df = df.sample(frac=0.1, random_state = 0)"
   ]
  },
  {
   "cell_type": "code",
   "execution_count": 83,
   "metadata": {},
   "outputs": [
    {
     "data": {
      "text/plain": [
       "(4095, 299)"
      ]
     },
     "execution_count": 83,
     "metadata": {},
     "output_type": "execute_result"
    }
   ],
   "source": [
    "df.shape"
   ]
  },
  {
   "cell_type": "markdown",
   "metadata": {},
   "source": [
    "Now, I finished handling missing values. There are 8855 columns in my dataframe.\n",
    "Next step, spliting and scaling dataframe!"
   ]
  },
  {
   "cell_type": "markdown",
   "metadata": {},
   "source": [
    "## Spliting dataframe"
   ]
  },
  {
   "cell_type": "markdown",
   "metadata": {},
   "source": [
    "dataframe shape: (40949, 299)\\\n",
    "X's number : 298\\\n",
    "y's number : 1 (trending)"
   ]
  },
  {
   "cell_type": "code",
   "execution_count": 84,
   "metadata": {},
   "outputs": [],
   "source": [
    "X = df.drop('trending', axis = 1) \n",
    "y = df.trending"
   ]
  },
  {
   "cell_type": "code",
   "execution_count": 85,
   "metadata": {},
   "outputs": [],
   "source": [
    "from sklearn.model_selection import train_test_split\n",
    "\n",
    "X_train_org, X_test_org, y_train, y_test = train_test_split(X,y, test_size=0.2)"
   ]
  },
  {
   "cell_type": "markdown",
   "metadata": {},
   "source": [
    "## Scaling dataframe"
   ]
  },
  {
   "cell_type": "markdown",
   "metadata": {},
   "source": [
    "Scaling method -> StandardScaler( )\\\n",
    "Because I want to decrease the influence of outliers."
   ]
  },
  {
   "cell_type": "code",
   "execution_count": 86,
   "metadata": {},
   "outputs": [],
   "source": [
    "from sklearn.preprocessing import StandardScaler\n",
    "\n",
    "# scale the dataset\n",
    "# 1. instantiate the scalar\n",
    "# 2. fit the scalar\n",
    "# 3. transform\n",
    "scaler = StandardScaler()\n",
    "scaler.fit(X_train_org)\n",
    "X_train = scaler.transform(X_train_org)\n",
    "X_test = scaler.transform(X_test_org)"
   ]
  },
  {
   "cell_type": "markdown",
   "metadata": {},
   "source": [
    "### Creat dataframe for train_x and test_x. (easy to read)"
   ]
  },
  {
   "cell_type": "code",
   "execution_count": 87,
   "metadata": {},
   "outputs": [
    {
     "data": {
      "text/html": [
       "<div>\n",
       "<style scoped>\n",
       "    .dataframe tbody tr th:only-of-type {\n",
       "        vertical-align: middle;\n",
       "    }\n",
       "\n",
       "    .dataframe tbody tr th {\n",
       "        vertical-align: top;\n",
       "    }\n",
       "\n",
       "    .dataframe thead th {\n",
       "        text-align: right;\n",
       "    }\n",
       "</style>\n",
       "<table border=\"1\" class=\"dataframe\">\n",
       "  <thead>\n",
       "    <tr style=\"text-align: right;\">\n",
       "      <th></th>\n",
       "      <th>dislikes</th>\n",
       "      <th>trending_date_00.00.00</th>\n",
       "      <th>trending_date_17.01.12</th>\n",
       "      <th>trending_date_17.02.12</th>\n",
       "      <th>trending_date_17.03.12</th>\n",
       "      <th>trending_date_17.04.12</th>\n",
       "      <th>trending_date_17.05.12</th>\n",
       "      <th>trending_date_17.06.12</th>\n",
       "      <th>trending_date_17.07.12</th>\n",
       "      <th>trending_date_17.08.12</th>\n",
       "      <th>...</th>\n",
       "      <th>publish_time_2018-05</th>\n",
       "      <th>publish_time_2018-06</th>\n",
       "      <th>tags_words_count</th>\n",
       "      <th>comments_disabled_0.0</th>\n",
       "      <th>comments_disabled_1.0</th>\n",
       "      <th>ratings_disabled_0.0</th>\n",
       "      <th>ratings_disabled_1.0</th>\n",
       "      <th>video_error_or_removed_0.0</th>\n",
       "      <th>video_error_or_removed_1.0</th>\n",
       "      <th>description_words_count</th>\n",
       "    </tr>\n",
       "  </thead>\n",
       "  <tbody>\n",
       "    <tr>\n",
       "      <th>0</th>\n",
       "      <td>-0.160420</td>\n",
       "      <td>-0.203279</td>\n",
       "      <td>-0.063119</td>\n",
       "      <td>-0.060634</td>\n",
       "      <td>-0.046274</td>\n",
       "      <td>-0.087692</td>\n",
       "      <td>-0.076378</td>\n",
       "      <td>-0.063119</td>\n",
       "      <td>-0.058044</td>\n",
       "      <td>-0.058044</td>\n",
       "      <td>...</td>\n",
       "      <td>-0.442783</td>\n",
       "      <td>-0.130673</td>\n",
       "      <td>-1.202792</td>\n",
       "      <td>0.11118</td>\n",
       "      <td>-0.11118</td>\n",
       "      <td>0.055334</td>\n",
       "      <td>-0.055334</td>\n",
       "      <td>0.024716</td>\n",
       "      <td>-0.024716</td>\n",
       "      <td>-0.002181</td>\n",
       "    </tr>\n",
       "    <tr>\n",
       "      <th>1</th>\n",
       "      <td>-0.206286</td>\n",
       "      <td>-0.203279</td>\n",
       "      <td>-0.063119</td>\n",
       "      <td>-0.060634</td>\n",
       "      <td>-0.046274</td>\n",
       "      <td>-0.087692</td>\n",
       "      <td>-0.076378</td>\n",
       "      <td>-0.063119</td>\n",
       "      <td>-0.058044</td>\n",
       "      <td>-0.058044</td>\n",
       "      <td>...</td>\n",
       "      <td>2.258442</td>\n",
       "      <td>-0.130673</td>\n",
       "      <td>0.903826</td>\n",
       "      <td>0.11118</td>\n",
       "      <td>-0.11118</td>\n",
       "      <td>0.055334</td>\n",
       "      <td>-0.055334</td>\n",
       "      <td>0.024716</td>\n",
       "      <td>-0.024716</td>\n",
       "      <td>-0.002181</td>\n",
       "    </tr>\n",
       "    <tr>\n",
       "      <th>2</th>\n",
       "      <td>-0.221976</td>\n",
       "      <td>-0.203279</td>\n",
       "      <td>-0.063119</td>\n",
       "      <td>-0.060634</td>\n",
       "      <td>-0.046274</td>\n",
       "      <td>-0.087692</td>\n",
       "      <td>-0.076378</td>\n",
       "      <td>-0.063119</td>\n",
       "      <td>-0.058044</td>\n",
       "      <td>-0.058044</td>\n",
       "      <td>...</td>\n",
       "      <td>-0.442783</td>\n",
       "      <td>-0.130673</td>\n",
       "      <td>1.227921</td>\n",
       "      <td>0.11118</td>\n",
       "      <td>-0.11118</td>\n",
       "      <td>0.055334</td>\n",
       "      <td>-0.055334</td>\n",
       "      <td>0.024716</td>\n",
       "      <td>-0.024716</td>\n",
       "      <td>0.152311</td>\n",
       "    </tr>\n",
       "    <tr>\n",
       "      <th>3</th>\n",
       "      <td>-0.195281</td>\n",
       "      <td>-0.203279</td>\n",
       "      <td>-0.063119</td>\n",
       "      <td>-0.060634</td>\n",
       "      <td>-0.046274</td>\n",
       "      <td>-0.087692</td>\n",
       "      <td>-0.076378</td>\n",
       "      <td>-0.063119</td>\n",
       "      <td>-0.058044</td>\n",
       "      <td>-0.058044</td>\n",
       "      <td>...</td>\n",
       "      <td>-0.442783</td>\n",
       "      <td>-0.130673</td>\n",
       "      <td>-1.445864</td>\n",
       "      <td>0.11118</td>\n",
       "      <td>-0.11118</td>\n",
       "      <td>0.055334</td>\n",
       "      <td>-0.055334</td>\n",
       "      <td>0.024716</td>\n",
       "      <td>-0.024716</td>\n",
       "      <td>-1.137406</td>\n",
       "    </tr>\n",
       "    <tr>\n",
       "      <th>4</th>\n",
       "      <td>-0.239584</td>\n",
       "      <td>-0.203279</td>\n",
       "      <td>-0.063119</td>\n",
       "      <td>-0.060634</td>\n",
       "      <td>-0.046274</td>\n",
       "      <td>-0.087692</td>\n",
       "      <td>-0.076378</td>\n",
       "      <td>-0.063119</td>\n",
       "      <td>-0.058044</td>\n",
       "      <td>-0.058044</td>\n",
       "      <td>...</td>\n",
       "      <td>-0.442783</td>\n",
       "      <td>-0.130673</td>\n",
       "      <td>0.012564</td>\n",
       "      <td>0.11118</td>\n",
       "      <td>-0.11118</td>\n",
       "      <td>0.055334</td>\n",
       "      <td>-0.055334</td>\n",
       "      <td>0.024716</td>\n",
       "      <td>-0.024716</td>\n",
       "      <td>-0.002181</td>\n",
       "    </tr>\n",
       "  </tbody>\n",
       "</table>\n",
       "<p>5 rows × 298 columns</p>\n",
       "</div>"
      ],
      "text/plain": [
       "   dislikes  trending_date_00.00.00  trending_date_17.01.12  \\\n",
       "0 -0.160420               -0.203279               -0.063119   \n",
       "1 -0.206286               -0.203279               -0.063119   \n",
       "2 -0.221976               -0.203279               -0.063119   \n",
       "3 -0.195281               -0.203279               -0.063119   \n",
       "4 -0.239584               -0.203279               -0.063119   \n",
       "\n",
       "   trending_date_17.02.12  trending_date_17.03.12  trending_date_17.04.12  \\\n",
       "0               -0.060634               -0.046274               -0.087692   \n",
       "1               -0.060634               -0.046274               -0.087692   \n",
       "2               -0.060634               -0.046274               -0.087692   \n",
       "3               -0.060634               -0.046274               -0.087692   \n",
       "4               -0.060634               -0.046274               -0.087692   \n",
       "\n",
       "   trending_date_17.05.12  trending_date_17.06.12  trending_date_17.07.12  \\\n",
       "0               -0.076378               -0.063119               -0.058044   \n",
       "1               -0.076378               -0.063119               -0.058044   \n",
       "2               -0.076378               -0.063119               -0.058044   \n",
       "3               -0.076378               -0.063119               -0.058044   \n",
       "4               -0.076378               -0.063119               -0.058044   \n",
       "\n",
       "   trending_date_17.08.12  ...  publish_time_2018-05  publish_time_2018-06  \\\n",
       "0               -0.058044  ...             -0.442783             -0.130673   \n",
       "1               -0.058044  ...              2.258442             -0.130673   \n",
       "2               -0.058044  ...             -0.442783             -0.130673   \n",
       "3               -0.058044  ...             -0.442783             -0.130673   \n",
       "4               -0.058044  ...             -0.442783             -0.130673   \n",
       "\n",
       "   tags_words_count  comments_disabled_0.0  comments_disabled_1.0  \\\n",
       "0         -1.202792                0.11118               -0.11118   \n",
       "1          0.903826                0.11118               -0.11118   \n",
       "2          1.227921                0.11118               -0.11118   \n",
       "3         -1.445864                0.11118               -0.11118   \n",
       "4          0.012564                0.11118               -0.11118   \n",
       "\n",
       "   ratings_disabled_0.0  ratings_disabled_1.0  video_error_or_removed_0.0  \\\n",
       "0              0.055334             -0.055334                    0.024716   \n",
       "1              0.055334             -0.055334                    0.024716   \n",
       "2              0.055334             -0.055334                    0.024716   \n",
       "3              0.055334             -0.055334                    0.024716   \n",
       "4              0.055334             -0.055334                    0.024716   \n",
       "\n",
       "   video_error_or_removed_1.0  description_words_count  \n",
       "0                   -0.024716                -0.002181  \n",
       "1                   -0.024716                -0.002181  \n",
       "2                   -0.024716                 0.152311  \n",
       "3                   -0.024716                -1.137406  \n",
       "4                   -0.024716                -0.002181  \n",
       "\n",
       "[5 rows x 298 columns]"
      ]
     },
     "execution_count": 87,
     "metadata": {},
     "output_type": "execute_result"
    }
   ],
   "source": [
    "X_train_df = pd.DataFrame(X_train, columns = X.columns) #data type array -> dataframe\n",
    "X_train_df.head()"
   ]
  },
  {
   "cell_type": "code",
   "execution_count": 88,
   "metadata": {},
   "outputs": [
    {
     "data": {
      "text/html": [
       "<div>\n",
       "<style scoped>\n",
       "    .dataframe tbody tr th:only-of-type {\n",
       "        vertical-align: middle;\n",
       "    }\n",
       "\n",
       "    .dataframe tbody tr th {\n",
       "        vertical-align: top;\n",
       "    }\n",
       "\n",
       "    .dataframe thead th {\n",
       "        text-align: right;\n",
       "    }\n",
       "</style>\n",
       "<table border=\"1\" class=\"dataframe\">\n",
       "  <thead>\n",
       "    <tr style=\"text-align: right;\">\n",
       "      <th></th>\n",
       "      <th>dislikes</th>\n",
       "      <th>trending_date_00.00.00</th>\n",
       "      <th>trending_date_17.01.12</th>\n",
       "      <th>trending_date_17.02.12</th>\n",
       "      <th>trending_date_17.03.12</th>\n",
       "      <th>trending_date_17.04.12</th>\n",
       "      <th>trending_date_17.05.12</th>\n",
       "      <th>trending_date_17.06.12</th>\n",
       "      <th>trending_date_17.07.12</th>\n",
       "      <th>trending_date_17.08.12</th>\n",
       "      <th>...</th>\n",
       "      <th>publish_time_2018-05</th>\n",
       "      <th>publish_time_2018-06</th>\n",
       "      <th>tags_words_count</th>\n",
       "      <th>comments_disabled_0.0</th>\n",
       "      <th>comments_disabled_1.0</th>\n",
       "      <th>ratings_disabled_0.0</th>\n",
       "      <th>ratings_disabled_1.0</th>\n",
       "      <th>video_error_or_removed_0.0</th>\n",
       "      <th>video_error_or_removed_1.0</th>\n",
       "      <th>description_words_count</th>\n",
       "    </tr>\n",
       "  </thead>\n",
       "  <tbody>\n",
       "    <tr>\n",
       "      <th>0</th>\n",
       "      <td>-0.223467</td>\n",
       "      <td>-0.203279</td>\n",
       "      <td>-0.063119</td>\n",
       "      <td>-0.060634</td>\n",
       "      <td>-0.046274</td>\n",
       "      <td>-0.087692</td>\n",
       "      <td>-0.076378</td>\n",
       "      <td>-0.063119</td>\n",
       "      <td>-0.058044</td>\n",
       "      <td>-0.058044</td>\n",
       "      <td>...</td>\n",
       "      <td>-0.442783</td>\n",
       "      <td>-0.130673</td>\n",
       "      <td>-0.716650</td>\n",
       "      <td>0.11118</td>\n",
       "      <td>-0.11118</td>\n",
       "      <td>0.055334</td>\n",
       "      <td>-0.055334</td>\n",
       "      <td>0.024716</td>\n",
       "      <td>-0.024716</td>\n",
       "      <td>-0.303454</td>\n",
       "    </tr>\n",
       "    <tr>\n",
       "      <th>1</th>\n",
       "      <td>-0.231490</td>\n",
       "      <td>-0.203279</td>\n",
       "      <td>-0.063119</td>\n",
       "      <td>-0.060634</td>\n",
       "      <td>-0.046274</td>\n",
       "      <td>-0.087692</td>\n",
       "      <td>-0.076378</td>\n",
       "      <td>-0.063119</td>\n",
       "      <td>-0.058044</td>\n",
       "      <td>-0.058044</td>\n",
       "      <td>...</td>\n",
       "      <td>-0.442783</td>\n",
       "      <td>-0.130673</td>\n",
       "      <td>0.822802</td>\n",
       "      <td>0.11118</td>\n",
       "      <td>-0.11118</td>\n",
       "      <td>0.055334</td>\n",
       "      <td>-0.055334</td>\n",
       "      <td>0.024716</td>\n",
       "      <td>-0.024716</td>\n",
       "      <td>-0.497396</td>\n",
       "    </tr>\n",
       "    <tr>\n",
       "      <th>2</th>\n",
       "      <td>-0.062299</td>\n",
       "      <td>-0.203279</td>\n",
       "      <td>-0.063119</td>\n",
       "      <td>-0.060634</td>\n",
       "      <td>-0.046274</td>\n",
       "      <td>-0.087692</td>\n",
       "      <td>-0.076378</td>\n",
       "      <td>-0.063119</td>\n",
       "      <td>-0.058044</td>\n",
       "      <td>-0.058044</td>\n",
       "      <td>...</td>\n",
       "      <td>-0.442783</td>\n",
       "      <td>-0.130673</td>\n",
       "      <td>1.227921</td>\n",
       "      <td>0.11118</td>\n",
       "      <td>-0.11118</td>\n",
       "      <td>0.055334</td>\n",
       "      <td>-0.055334</td>\n",
       "      <td>0.024716</td>\n",
       "      <td>-0.024716</td>\n",
       "      <td>1.296572</td>\n",
       "    </tr>\n",
       "    <tr>\n",
       "      <th>3</th>\n",
       "      <td>-0.159852</td>\n",
       "      <td>-0.203279</td>\n",
       "      <td>-0.063119</td>\n",
       "      <td>-0.060634</td>\n",
       "      <td>-0.046274</td>\n",
       "      <td>-0.087692</td>\n",
       "      <td>-0.076378</td>\n",
       "      <td>-0.063119</td>\n",
       "      <td>-0.058044</td>\n",
       "      <td>-0.058044</td>\n",
       "      <td>...</td>\n",
       "      <td>-0.442783</td>\n",
       "      <td>-0.130673</td>\n",
       "      <td>2.605325</td>\n",
       "      <td>0.11118</td>\n",
       "      <td>-0.11118</td>\n",
       "      <td>0.055334</td>\n",
       "      <td>-0.055334</td>\n",
       "      <td>0.024716</td>\n",
       "      <td>-0.024716</td>\n",
       "      <td>-0.749521</td>\n",
       "    </tr>\n",
       "    <tr>\n",
       "      <th>4</th>\n",
       "      <td>-0.228863</td>\n",
       "      <td>-0.203279</td>\n",
       "      <td>-0.063119</td>\n",
       "      <td>-0.060634</td>\n",
       "      <td>-0.046274</td>\n",
       "      <td>-0.087692</td>\n",
       "      <td>-0.076378</td>\n",
       "      <td>-0.063119</td>\n",
       "      <td>-0.058044</td>\n",
       "      <td>-0.058044</td>\n",
       "      <td>...</td>\n",
       "      <td>-0.442783</td>\n",
       "      <td>-0.130673</td>\n",
       "      <td>0.984849</td>\n",
       "      <td>0.11118</td>\n",
       "      <td>-0.11118</td>\n",
       "      <td>0.055334</td>\n",
       "      <td>-0.055334</td>\n",
       "      <td>0.024716</td>\n",
       "      <td>-0.024716</td>\n",
       "      <td>-0.002181</td>\n",
       "    </tr>\n",
       "  </tbody>\n",
       "</table>\n",
       "<p>5 rows × 298 columns</p>\n",
       "</div>"
      ],
      "text/plain": [
       "   dislikes  trending_date_00.00.00  trending_date_17.01.12  \\\n",
       "0 -0.223467               -0.203279               -0.063119   \n",
       "1 -0.231490               -0.203279               -0.063119   \n",
       "2 -0.062299               -0.203279               -0.063119   \n",
       "3 -0.159852               -0.203279               -0.063119   \n",
       "4 -0.228863               -0.203279               -0.063119   \n",
       "\n",
       "   trending_date_17.02.12  trending_date_17.03.12  trending_date_17.04.12  \\\n",
       "0               -0.060634               -0.046274               -0.087692   \n",
       "1               -0.060634               -0.046274               -0.087692   \n",
       "2               -0.060634               -0.046274               -0.087692   \n",
       "3               -0.060634               -0.046274               -0.087692   \n",
       "4               -0.060634               -0.046274               -0.087692   \n",
       "\n",
       "   trending_date_17.05.12  trending_date_17.06.12  trending_date_17.07.12  \\\n",
       "0               -0.076378               -0.063119               -0.058044   \n",
       "1               -0.076378               -0.063119               -0.058044   \n",
       "2               -0.076378               -0.063119               -0.058044   \n",
       "3               -0.076378               -0.063119               -0.058044   \n",
       "4               -0.076378               -0.063119               -0.058044   \n",
       "\n",
       "   trending_date_17.08.12  ...  publish_time_2018-05  publish_time_2018-06  \\\n",
       "0               -0.058044  ...             -0.442783             -0.130673   \n",
       "1               -0.058044  ...             -0.442783             -0.130673   \n",
       "2               -0.058044  ...             -0.442783             -0.130673   \n",
       "3               -0.058044  ...             -0.442783             -0.130673   \n",
       "4               -0.058044  ...             -0.442783             -0.130673   \n",
       "\n",
       "   tags_words_count  comments_disabled_0.0  comments_disabled_1.0  \\\n",
       "0         -0.716650                0.11118               -0.11118   \n",
       "1          0.822802                0.11118               -0.11118   \n",
       "2          1.227921                0.11118               -0.11118   \n",
       "3          2.605325                0.11118               -0.11118   \n",
       "4          0.984849                0.11118               -0.11118   \n",
       "\n",
       "   ratings_disabled_0.0  ratings_disabled_1.0  video_error_or_removed_0.0  \\\n",
       "0              0.055334             -0.055334                    0.024716   \n",
       "1              0.055334             -0.055334                    0.024716   \n",
       "2              0.055334             -0.055334                    0.024716   \n",
       "3              0.055334             -0.055334                    0.024716   \n",
       "4              0.055334             -0.055334                    0.024716   \n",
       "\n",
       "   video_error_or_removed_1.0  description_words_count  \n",
       "0                   -0.024716                -0.303454  \n",
       "1                   -0.024716                -0.497396  \n",
       "2                   -0.024716                 1.296572  \n",
       "3                   -0.024716                -0.749521  \n",
       "4                   -0.024716                -0.002181  \n",
       "\n",
       "[5 rows x 298 columns]"
      ]
     },
     "execution_count": 88,
     "metadata": {},
     "output_type": "execute_result"
    }
   ],
   "source": [
    "X_test_df = pd.DataFrame(X_test, columns = X.columns) #data type array -> dataframe\n",
    "X_test_df.head()"
   ]
  },
  {
   "cell_type": "markdown",
   "metadata": {},
   "source": [
    "After we finished the tough part, let's dive into the fun part - Modeling!"
   ]
  },
  {
   "cell_type": "markdown",
   "metadata": {},
   "source": [
    "# Modeling - Regression\n",
    "In this project, I will run\n",
    "1. KNN Repressor\n",
    "2. Linear Regression\n",
    "3. Ridge\n",
    "4. Lasso\n",
    "5. Polynomial Regression\n",
    "6. SVM both simple and with kernels (rbf, poly, linear)\n",
    "\n",
    "and find out which model is the best fit for this dataset. (criteria: processing time and accuracy)"
   ]
  },
  {
   "cell_type": "markdown",
   "metadata": {},
   "source": [
    "## 1. KNN Repressor"
   ]
  },
  {
   "cell_type": "code",
   "execution_count": 89,
   "metadata": {},
   "outputs": [],
   "source": [
    "from sklearn.neighbors import KNeighborsRegressor\n",
    "# Grid Search & Cross Validation\n",
    "from sklearn.model_selection import GridSearchCV\n",
    "from sklearn.metrics import mean_squared_error, r2_score\n",
    "from sklearn import metrics"
   ]
  },
  {
   "cell_type": "code",
   "execution_count": 90,
   "metadata": {},
   "outputs": [
    {
     "name": "stdout",
     "output_type": "stream",
     "text": [
      "Best parameters:  {'n_neighbors': 50}\n",
      "Best score: 0.1019\n",
      "MSE for test data set: 27267249065990.82\n"
     ]
    }
   ],
   "source": [
    "knn_param_grid = {'n_neighbors':[1, 5, 10, 50]}\n",
    "\n",
    "knn_grid_search = GridSearchCV(KNeighborsRegressor(), knn_param_grid, cv =5 , return_train_score= True, iid = False)\n",
    "knn_grid_search.fit(X_train, y_train)\n",
    "print(\"Best parameters: \", knn_grid_search.best_params_)\n",
    "print(\"Best score: {:.4f}\".format(knn_grid_search.best_score_))\n",
    "\n",
    "y_true, y_pred = y_test, knn_grid_search.predict(X_test)\n",
    "print(\"MSE for test data set: %.2f\"\n",
    "              % (mean_squared_error(y_pred, y_true)))\n",
    "\n",
    "knn_result = pd.DataFrame(knn_grid_search.cv_results_)"
   ]
  },
  {
   "cell_type": "code",
   "execution_count": 91,
   "metadata": {},
   "outputs": [
    {
     "data": {
      "text/html": [
       "<div>\n",
       "<style scoped>\n",
       "    .dataframe tbody tr th:only-of-type {\n",
       "        vertical-align: middle;\n",
       "    }\n",
       "\n",
       "    .dataframe tbody tr th {\n",
       "        vertical-align: top;\n",
       "    }\n",
       "\n",
       "    .dataframe thead th {\n",
       "        text-align: right;\n",
       "    }\n",
       "</style>\n",
       "<table border=\"1\" class=\"dataframe\">\n",
       "  <thead>\n",
       "    <tr style=\"text-align: right;\">\n",
       "      <th></th>\n",
       "      <th>mean_fit_time</th>\n",
       "      <th>std_fit_time</th>\n",
       "      <th>mean_score_time</th>\n",
       "      <th>std_score_time</th>\n",
       "      <th>param_n_neighbors</th>\n",
       "      <th>params</th>\n",
       "      <th>split0_test_score</th>\n",
       "      <th>split1_test_score</th>\n",
       "      <th>split2_test_score</th>\n",
       "      <th>split3_test_score</th>\n",
       "      <th>...</th>\n",
       "      <th>mean_test_score</th>\n",
       "      <th>std_test_score</th>\n",
       "      <th>rank_test_score</th>\n",
       "      <th>split0_train_score</th>\n",
       "      <th>split1_train_score</th>\n",
       "      <th>split2_train_score</th>\n",
       "      <th>split3_train_score</th>\n",
       "      <th>split4_train_score</th>\n",
       "      <th>mean_train_score</th>\n",
       "      <th>std_train_score</th>\n",
       "    </tr>\n",
       "  </thead>\n",
       "  <tbody>\n",
       "    <tr>\n",
       "      <th>0</th>\n",
       "      <td>0.024893</td>\n",
       "      <td>0.003151</td>\n",
       "      <td>0.204792</td>\n",
       "      <td>0.012845</td>\n",
       "      <td>1</td>\n",
       "      <td>{'n_neighbors': 1}</td>\n",
       "      <td>-0.141750</td>\n",
       "      <td>0.316565</td>\n",
       "      <td>0.101927</td>\n",
       "      <td>-0.081513</td>\n",
       "      <td>...</td>\n",
       "      <td>-0.026373</td>\n",
       "      <td>0.219478</td>\n",
       "      <td>4</td>\n",
       "      <td>1.000000</td>\n",
       "      <td>1.000000</td>\n",
       "      <td>1.000000</td>\n",
       "      <td>1.000000</td>\n",
       "      <td>1.000000</td>\n",
       "      <td>1.000000</td>\n",
       "      <td>0.000000</td>\n",
       "    </tr>\n",
       "    <tr>\n",
       "      <th>1</th>\n",
       "      <td>0.023324</td>\n",
       "      <td>0.000992</td>\n",
       "      <td>0.393259</td>\n",
       "      <td>0.004988</td>\n",
       "      <td>5</td>\n",
       "      <td>{'n_neighbors': 5}</td>\n",
       "      <td>0.025694</td>\n",
       "      <td>0.098233</td>\n",
       "      <td>0.038675</td>\n",
       "      <td>0.003740</td>\n",
       "      <td>...</td>\n",
       "      <td>0.023335</td>\n",
       "      <td>0.048092</td>\n",
       "      <td>3</td>\n",
       "      <td>0.396850</td>\n",
       "      <td>0.337680</td>\n",
       "      <td>0.329206</td>\n",
       "      <td>0.381247</td>\n",
       "      <td>0.374208</td>\n",
       "      <td>0.363838</td>\n",
       "      <td>0.026015</td>\n",
       "    </tr>\n",
       "    <tr>\n",
       "      <th>2</th>\n",
       "      <td>0.023565</td>\n",
       "      <td>0.001090</td>\n",
       "      <td>0.628459</td>\n",
       "      <td>0.042336</td>\n",
       "      <td>10</td>\n",
       "      <td>{'n_neighbors': 10}</td>\n",
       "      <td>-0.000778</td>\n",
       "      <td>0.054993</td>\n",
       "      <td>0.234169</td>\n",
       "      <td>0.066107</td>\n",
       "      <td>...</td>\n",
       "      <td>0.072225</td>\n",
       "      <td>0.085078</td>\n",
       "      <td>2</td>\n",
       "      <td>0.220956</td>\n",
       "      <td>0.265024</td>\n",
       "      <td>0.179325</td>\n",
       "      <td>0.235198</td>\n",
       "      <td>0.251731</td>\n",
       "      <td>0.230447</td>\n",
       "      <td>0.029580</td>\n",
       "    </tr>\n",
       "    <tr>\n",
       "      <th>3</th>\n",
       "      <td>0.024704</td>\n",
       "      <td>0.002373</td>\n",
       "      <td>0.787777</td>\n",
       "      <td>0.073951</td>\n",
       "      <td>50</td>\n",
       "      <td>{'n_neighbors': 50}</td>\n",
       "      <td>0.204135</td>\n",
       "      <td>0.021917</td>\n",
       "      <td>0.150439</td>\n",
       "      <td>0.099964</td>\n",
       "      <td>...</td>\n",
       "      <td>0.101912</td>\n",
       "      <td>0.069198</td>\n",
       "      <td>1</td>\n",
       "      <td>0.136196</td>\n",
       "      <td>0.133110</td>\n",
       "      <td>0.119698</td>\n",
       "      <td>0.150662</td>\n",
       "      <td>0.168293</td>\n",
       "      <td>0.141592</td>\n",
       "      <td>0.016587</td>\n",
       "    </tr>\n",
       "  </tbody>\n",
       "</table>\n",
       "<p>4 rows × 21 columns</p>\n",
       "</div>"
      ],
      "text/plain": [
       "   mean_fit_time  std_fit_time  mean_score_time  std_score_time  \\\n",
       "0       0.024893      0.003151         0.204792        0.012845   \n",
       "1       0.023324      0.000992         0.393259        0.004988   \n",
       "2       0.023565      0.001090         0.628459        0.042336   \n",
       "3       0.024704      0.002373         0.787777        0.073951   \n",
       "\n",
       "  param_n_neighbors               params  split0_test_score  \\\n",
       "0                 1   {'n_neighbors': 1}          -0.141750   \n",
       "1                 5   {'n_neighbors': 5}           0.025694   \n",
       "2                10  {'n_neighbors': 10}          -0.000778   \n",
       "3                50  {'n_neighbors': 50}           0.204135   \n",
       "\n",
       "   split1_test_score  split2_test_score  split3_test_score  ...  \\\n",
       "0           0.316565           0.101927          -0.081513  ...   \n",
       "1           0.098233           0.038675           0.003740  ...   \n",
       "2           0.054993           0.234169           0.066107  ...   \n",
       "3           0.021917           0.150439           0.099964  ...   \n",
       "\n",
       "   mean_test_score  std_test_score  rank_test_score  split0_train_score  \\\n",
       "0        -0.026373        0.219478                4            1.000000   \n",
       "1         0.023335        0.048092                3            0.396850   \n",
       "2         0.072225        0.085078                2            0.220956   \n",
       "3         0.101912        0.069198                1            0.136196   \n",
       "\n",
       "   split1_train_score  split2_train_score  split3_train_score  \\\n",
       "0            1.000000            1.000000            1.000000   \n",
       "1            0.337680            0.329206            0.381247   \n",
       "2            0.265024            0.179325            0.235198   \n",
       "3            0.133110            0.119698            0.150662   \n",
       "\n",
       "   split4_train_score  mean_train_score  std_train_score  \n",
       "0            1.000000          1.000000         0.000000  \n",
       "1            0.374208          0.363838         0.026015  \n",
       "2            0.251731          0.230447         0.029580  \n",
       "3            0.168293          0.141592         0.016587  \n",
       "\n",
       "[4 rows x 21 columns]"
      ]
     },
     "execution_count": 91,
     "metadata": {},
     "output_type": "execute_result"
    }
   ],
   "source": [
    "knn_result"
   ]
  },
  {
   "cell_type": "code",
   "execution_count": 92,
   "metadata": {},
   "outputs": [
    {
     "data": {
      "image/png": "[encoded data removed]",
      "text/plain": [
       "<Figure size 1440x360 with 1 Axes>"
      ]
     },
     "metadata": {
      "needs_background": "light"
     },
     "output_type": "display_data"
    }
   ],
   "source": [
    "%matplotlib inline\n",
    "\n",
    "plt.subplots(figsize = (20,5))\n",
    "plt.plot(range(knn_result['params'].shape[0]), knn_result['mean_train_score'], label = 'mean train score')\n",
    "plt.plot(range(knn_result['params'].shape[0]), knn_result['mean_test_score'], label = 'mean test score')\n",
    "plt.xticks(range(knn_result['params'].shape[0]), knn_result['params'], rotation = 90)\n",
    "plt.plot([knn_grid_search.best_index_], knn_result['mean_train_score'][knn_grid_search.best_index_], 'o', markersize = 15, fillstyle = 'none')\n",
    "plt.plot([knn_grid_search.best_index_], knn_result['mean_test_score'][knn_grid_search.best_index_], 'o', markersize = 15, fillstyle = 'none')\n",
    "plt.legend()\n",
    "plt.grid()"
   ]
  },
  {
   "cell_type": "markdown",
   "metadata": {},
   "source": [
    "Based on the plot above, when n_neighbors equal 50, the model have the best result. Therefore, I will use this parameter to predict the test dataset and see the result."
   ]
  },
  {
   "cell_type": "code",
   "execution_count": 132,
   "metadata": {},
   "outputs": [
    {
     "name": "stdout",
     "output_type": "stream",
     "text": [
      "2496759.711794872\n",
      "0.06925005879638924\n",
      "CPU times: user 2.45 s, sys: 77 ms, total: 2.53 s\n",
      "Wall time: 2.77 s\n"
     ]
    }
   ],
   "source": [
    "%%time\n",
    "best_grid_knn = KNeighborsRegressor(n_neighbors=50)\n",
    "best_grid_knn.fit(X_train, y_train)\n",
    "print(best_grid_knn.predict(X_test).mean())\n",
    "knn_pred = knn_grid_search.predict(X_test)\n",
    "print(metrics.r2_score(y_test, knn_pred))"
   ]
  },
  {
   "cell_type": "code",
   "execution_count": 94,
   "metadata": {},
   "outputs": [
    {
     "data": {
      "text/html": [
       "<div>\n",
       "<style scoped>\n",
       "    .dataframe tbody tr th:only-of-type {\n",
       "        vertical-align: middle;\n",
       "    }\n",
       "\n",
       "    .dataframe tbody tr th {\n",
       "        vertical-align: top;\n",
       "    }\n",
       "\n",
       "    .dataframe thead th {\n",
       "        text-align: right;\n",
       "    }\n",
       "</style>\n",
       "<table border=\"1\" class=\"dataframe\">\n",
       "  <thead>\n",
       "    <tr style=\"text-align: right;\">\n",
       "      <th></th>\n",
       "      <th>mean_fit_time</th>\n",
       "      <th>std_fit_time</th>\n",
       "      <th>mean_score_time</th>\n",
       "      <th>std_score_time</th>\n",
       "      <th>param_n_neighbors</th>\n",
       "      <th>params</th>\n",
       "      <th>split0_test_score</th>\n",
       "      <th>split1_test_score</th>\n",
       "      <th>split2_test_score</th>\n",
       "      <th>split3_test_score</th>\n",
       "      <th>...</th>\n",
       "      <th>mean_test_score</th>\n",
       "      <th>std_test_score</th>\n",
       "      <th>rank_test_score</th>\n",
       "      <th>split0_train_score</th>\n",
       "      <th>split1_train_score</th>\n",
       "      <th>split2_train_score</th>\n",
       "      <th>split3_train_score</th>\n",
       "      <th>split4_train_score</th>\n",
       "      <th>mean_train_score</th>\n",
       "      <th>std_train_score</th>\n",
       "    </tr>\n",
       "  </thead>\n",
       "  <tbody>\n",
       "    <tr>\n",
       "      <th>0</th>\n",
       "      <td>0.024893</td>\n",
       "      <td>0.003151</td>\n",
       "      <td>0.204792</td>\n",
       "      <td>0.012845</td>\n",
       "      <td>1</td>\n",
       "      <td>{'n_neighbors': 1}</td>\n",
       "      <td>-0.141750</td>\n",
       "      <td>0.316565</td>\n",
       "      <td>0.101927</td>\n",
       "      <td>-0.081513</td>\n",
       "      <td>...</td>\n",
       "      <td>-0.026373</td>\n",
       "      <td>0.219478</td>\n",
       "      <td>4</td>\n",
       "      <td>1.000000</td>\n",
       "      <td>1.000000</td>\n",
       "      <td>1.000000</td>\n",
       "      <td>1.000000</td>\n",
       "      <td>1.000000</td>\n",
       "      <td>1.000000</td>\n",
       "      <td>0.000000</td>\n",
       "    </tr>\n",
       "    <tr>\n",
       "      <th>1</th>\n",
       "      <td>0.023324</td>\n",
       "      <td>0.000992</td>\n",
       "      <td>0.393259</td>\n",
       "      <td>0.004988</td>\n",
       "      <td>5</td>\n",
       "      <td>{'n_neighbors': 5}</td>\n",
       "      <td>0.025694</td>\n",
       "      <td>0.098233</td>\n",
       "      <td>0.038675</td>\n",
       "      <td>0.003740</td>\n",
       "      <td>...</td>\n",
       "      <td>0.023335</td>\n",
       "      <td>0.048092</td>\n",
       "      <td>3</td>\n",
       "      <td>0.396850</td>\n",
       "      <td>0.337680</td>\n",
       "      <td>0.329206</td>\n",
       "      <td>0.381247</td>\n",
       "      <td>0.374208</td>\n",
       "      <td>0.363838</td>\n",
       "      <td>0.026015</td>\n",
       "    </tr>\n",
       "    <tr>\n",
       "      <th>2</th>\n",
       "      <td>0.023565</td>\n",
       "      <td>0.001090</td>\n",
       "      <td>0.628459</td>\n",
       "      <td>0.042336</td>\n",
       "      <td>10</td>\n",
       "      <td>{'n_neighbors': 10}</td>\n",
       "      <td>-0.000778</td>\n",
       "      <td>0.054993</td>\n",
       "      <td>0.234169</td>\n",
       "      <td>0.066107</td>\n",
       "      <td>...</td>\n",
       "      <td>0.072225</td>\n",
       "      <td>0.085078</td>\n",
       "      <td>2</td>\n",
       "      <td>0.220956</td>\n",
       "      <td>0.265024</td>\n",
       "      <td>0.179325</td>\n",
       "      <td>0.235198</td>\n",
       "      <td>0.251731</td>\n",
       "      <td>0.230447</td>\n",
       "      <td>0.029580</td>\n",
       "    </tr>\n",
       "    <tr>\n",
       "      <th>3</th>\n",
       "      <td>0.024704</td>\n",
       "      <td>0.002373</td>\n",
       "      <td>0.787777</td>\n",
       "      <td>0.073951</td>\n",
       "      <td>50</td>\n",
       "      <td>{'n_neighbors': 50}</td>\n",
       "      <td>0.204135</td>\n",
       "      <td>0.021917</td>\n",
       "      <td>0.150439</td>\n",
       "      <td>0.099964</td>\n",
       "      <td>...</td>\n",
       "      <td>0.101912</td>\n",
       "      <td>0.069198</td>\n",
       "      <td>1</td>\n",
       "      <td>0.136196</td>\n",
       "      <td>0.133110</td>\n",
       "      <td>0.119698</td>\n",
       "      <td>0.150662</td>\n",
       "      <td>0.168293</td>\n",
       "      <td>0.141592</td>\n",
       "      <td>0.016587</td>\n",
       "    </tr>\n",
       "  </tbody>\n",
       "</table>\n",
       "<p>4 rows × 21 columns</p>\n",
       "</div>"
      ],
      "text/plain": [
       "   mean_fit_time  std_fit_time  mean_score_time  std_score_time  \\\n",
       "0       0.024893      0.003151         0.204792        0.012845   \n",
       "1       0.023324      0.000992         0.393259        0.004988   \n",
       "2       0.023565      0.001090         0.628459        0.042336   \n",
       "3       0.024704      0.002373         0.787777        0.073951   \n",
       "\n",
       "  param_n_neighbors               params  split0_test_score  \\\n",
       "0                 1   {'n_neighbors': 1}          -0.141750   \n",
       "1                 5   {'n_neighbors': 5}           0.025694   \n",
       "2                10  {'n_neighbors': 10}          -0.000778   \n",
       "3                50  {'n_neighbors': 50}           0.204135   \n",
       "\n",
       "   split1_test_score  split2_test_score  split3_test_score  ...  \\\n",
       "0           0.316565           0.101927          -0.081513  ...   \n",
       "1           0.098233           0.038675           0.003740  ...   \n",
       "2           0.054993           0.234169           0.066107  ...   \n",
       "3           0.021917           0.150439           0.099964  ...   \n",
       "\n",
       "   mean_test_score  std_test_score  rank_test_score  split0_train_score  \\\n",
       "0        -0.026373        0.219478                4            1.000000   \n",
       "1         0.023335        0.048092                3            0.396850   \n",
       "2         0.072225        0.085078                2            0.220956   \n",
       "3         0.101912        0.069198                1            0.136196   \n",
       "\n",
       "   split1_train_score  split2_train_score  split3_train_score  \\\n",
       "0            1.000000            1.000000            1.000000   \n",
       "1            0.337680            0.329206            0.381247   \n",
       "2            0.265024            0.179325            0.235198   \n",
       "3            0.133110            0.119698            0.150662   \n",
       "\n",
       "   split4_train_score  mean_train_score  std_train_score  \n",
       "0            1.000000          1.000000         0.000000  \n",
       "1            0.374208          0.363838         0.026015  \n",
       "2            0.251731          0.230447         0.029580  \n",
       "3            0.168293          0.141592         0.016587  \n",
       "\n",
       "[4 rows x 21 columns]"
      ]
     },
     "execution_count": 94,
     "metadata": {},
     "output_type": "execute_result"
    }
   ],
   "source": [
    "knn_result"
   ]
  },
  {
   "cell_type": "markdown",
   "metadata": {},
   "source": [
    "## 2. Linear Regression"
   ]
  },
  {
   "cell_type": "code",
   "execution_count": 95,
   "metadata": {},
   "outputs": [],
   "source": [
    "from sklearn.model_selection import cross_val_score, cross_val_predict\n",
    "from sklearn.metrics import mean_squared_error, r2_score\n",
    "from sklearn.linear_model import LinearRegression\n",
    "from sklearn import metrics"
   ]
  },
  {
   "cell_type": "markdown",
   "metadata": {},
   "source": [
    "### Cross Validation"
   ]
  },
  {
   "cell_type": "code",
   "execution_count": 96,
   "metadata": {},
   "outputs": [
    {
     "name": "stdout",
     "output_type": "stream",
     "text": [
      "[-1.30614628e+27 -7.54876294e+25 -3.63441241e+24  6.16152336e-01\n",
      " -3.93214920e+25] -2.8491796337093514e+26 5.113481503852398e+26\n"
     ]
    },
    {
     "data": {
      "text/plain": [
       "-4.3911246262884674e+26"
      ]
     },
     "execution_count": 96,
     "metadata": {},
     "output_type": "execute_result"
    }
   ],
   "source": [
    "lr = LinearRegression()\n",
    "#cv is the number of folds, scores will give an array of scores    \n",
    "lr_scores = cross_val_score(lr, X_train, y_train, cv = 5) \n",
    "print(lr_scores, np.mean(lr_scores), np.std(lr_scores))\n",
    "\n",
    "#y_test is to get scores for each fold of cv\n",
    "lr_predict = cross_val_predict(lr, X_test, y_test, cv = 5)    \n",
    "accuracy = metrics.r2_score(y_test, lr_predict)\n",
    "accuracy.mean()\n",
    "#print(metrics.r2_score(y_test, lr_predict))"
   ]
  },
  {
   "cell_type": "code",
   "execution_count": 137,
   "metadata": {},
   "outputs": [
    {
     "name": "stdout",
     "output_type": "stream",
     "text": [
      "Train   score: 0.6809\n",
      "Test    score: -85366843836520265154560.0000\n",
      "Predict score: 110518965516407936.0000\n"
     ]
    }
   ],
   "source": [
    "lr.fit(X_train, y_train)\n",
    "\n",
    "lr_estimate = lr.predict(X_test)  \n",
    "\n",
    "# present model performance\n",
    "print(\"Train   score: {:.4f}\".format(lr.score(X_train, y_train)))\n",
    "print(\"Test    score: {:.4f}\".format(lr.score(X_test, y_test)))\n",
    "print(\"Predict score: {:.4f}\".format(lr.predict(X_test).mean()))"
   ]
  },
  {
   "cell_type": "markdown",
   "metadata": {},
   "source": [
    "## 3. Ridge"
   ]
  },
  {
   "cell_type": "code",
   "execution_count": 98,
   "metadata": {},
   "outputs": [],
   "source": [
    "from sklearn.linear_model import Ridge"
   ]
  },
  {
   "cell_type": "code",
   "execution_count": 99,
   "metadata": {},
   "outputs": [
    {
     "name": "stdout",
     "output_type": "stream",
     "text": [
      "Best parameters: {'alpha': 1000.0}\n",
      "Best cross-validation score: 0.5350\n"
     ]
    }
   ],
   "source": [
    "alphas = np.array([0.01, 0.1, 1, 10, 100, 1000, 10000])\n",
    "# create and fit a ridge regression model, testing each alpha\n",
    "model = Ridge()\n",
    "ridge_grid_search = GridSearchCV(estimator=model, param_grid=dict(alpha=alphas), return_train_score= True, iid = False, cv=5)\n",
    "ridge_grid_search.fit(X_train, y_train)\n",
    "\n",
    "print(\"Best parameters: {}\".format(ridge_grid_search.best_params_))\n",
    "print(\"Best cross-validation score: {:.4f}\".format(ridge_grid_search.best_score_))\n",
    "\n",
    "ridge_result = pd.DataFrame(ridge_grid_search.cv_results_)"
   ]
  },
  {
   "cell_type": "code",
   "execution_count": 100,
   "metadata": {},
   "outputs": [
    {
     "data": {
      "image/png": "[encoded data removed]",
      "text/plain": [
       "<Figure size 1440x360 with 1 Axes>"
      ]
     },
     "metadata": {
      "needs_background": "light"
     },
     "output_type": "display_data"
    }
   ],
   "source": [
    "%matplotlib inline\n",
    "\n",
    "plt.subplots(figsize = (20,5))\n",
    "plt.plot(range(ridge_result['params'].shape[0]), ridge_result['mean_train_score'], label = 'mean train score')\n",
    "plt.plot(range(ridge_result['params'].shape[0]), ridge_result['mean_test_score'], label = 'mean test score')\n",
    "plt.xticks(range(ridge_result['params'].shape[0]), ridge_result['params'], rotation = 90)\n",
    "plt.plot([ridge_grid_search.best_index_], ridge_result['mean_train_score'][ridge_grid_search.best_index_], 'o', markersize = 15, fillstyle = 'none')\n",
    "plt.plot([ridge_grid_search.best_index_], ridge_result['mean_test_score'][ridge_grid_search.best_index_], 'o', markersize = 15, fillstyle = 'none')\n",
    "plt.xlabel(r'$\\alpha$')\n",
    "plt.legend()\n",
    "plt.grid()"
   ]
  },
  {
   "cell_type": "markdown",
   "metadata": {},
   "source": [
    "Based on the plot above, when alpha equal 1000, the model have the best result. Therefore, I will use this parameter to predict the test dataset and see the result."
   ]
  },
  {
   "cell_type": "code",
   "execution_count": 138,
   "metadata": {},
   "outputs": [
    {
     "name": "stdout",
     "output_type": "stream",
     "text": [
      "0.3779080709548588\n",
      "Train score: 0.6423\n",
      "Test  score: 0.3779\n",
      "Predict score: 2448445.0797\n",
      "CPU times: user 47 ms, sys: 19.7 ms, total: 66.7 ms\n",
      "Wall time: 47.5 ms\n"
     ]
    }
   ],
   "source": [
    "%%time\n",
    "ridge_pred = ridge_grid_search.predict(X_test)\n",
    "ridge_pred\n",
    "print(metrics.r2_score(y_test, ridge_pred, multioutput='uniform_average'))\n",
    "\n",
    "best_ridge = Ridge(alpha = 1000)\n",
    "best_ridge.fit(X_train,y_train)\n",
    "print('Train score: {:.4f}'.format(best_ridge.score(X_train,y_train)))\n",
    "print('Test  score: {:.4f}'.format(best_ridge.score(X_test, y_test)))\n",
    "print(\"Predict score: {:.4f}\".format(best_ridge.predict(X_test).mean()))"
   ]
  },
  {
   "cell_type": "markdown",
   "metadata": {},
   "source": [
    "## 4. Lasso"
   ]
  },
  {
   "cell_type": "code",
   "execution_count": 102,
   "metadata": {},
   "outputs": [],
   "source": [
    "from sklearn.linear_model import Lasso"
   ]
  },
  {
   "cell_type": "code",
   "execution_count": 103,
   "metadata": {},
   "outputs": [
    {
     "name": "stderr",
     "output_type": "stream",
     "text": [
      "/Users/shih-tien/Library/Python/3.7/lib/python/site-packages/sklearn/linear_model/coordinate_descent.py:475: ConvergenceWarning: Objective did not converge. You might want to increase the number of iterations. Duality gap: 1.5634609818796544e+16, tolerance: 21225151292517.406\n",
      "  positive)\n",
      "/Users/shih-tien/Library/Python/3.7/lib/python/site-packages/sklearn/linear_model/coordinate_descent.py:475: ConvergenceWarning: Objective did not converge. You might want to increase the number of iterations. Duality gap: 3382279042642272.0, tolerance: 23479822380490.55\n",
      "  positive)\n",
      "/Users/shih-tien/Library/Python/3.7/lib/python/site-packages/sklearn/linear_model/coordinate_descent.py:475: ConvergenceWarning: Objective did not converge. You might want to increase the number of iterations. Duality gap: 1.1964519522163652e+16, tolerance: 20558195582142.633\n",
      "  positive)\n",
      "/Users/shih-tien/Library/Python/3.7/lib/python/site-packages/sklearn/linear_model/coordinate_descent.py:475: ConvergenceWarning: Objective did not converge. You might want to increase the number of iterations. Duality gap: 1.2950408100546732e+16, tolerance: 22704699619894.562\n",
      "  positive)\n",
      "/Users/shih-tien/Library/Python/3.7/lib/python/site-packages/sklearn/linear_model/coordinate_descent.py:475: ConvergenceWarning: Objective did not converge. You might want to increase the number of iterations. Duality gap: 1.729935726092694e+16, tolerance: 23726166433391.688\n",
      "  positive)\n",
      "/Users/shih-tien/Library/Python/3.7/lib/python/site-packages/sklearn/linear_model/coordinate_descent.py:475: ConvergenceWarning: Objective did not converge. You might want to increase the number of iterations. Duality gap: 1.563461482625048e+16, tolerance: 21225151292517.406\n",
      "  positive)\n",
      "/Users/shih-tien/Library/Python/3.7/lib/python/site-packages/sklearn/linear_model/coordinate_descent.py:475: ConvergenceWarning: Objective did not converge. You might want to increase the number of iterations. Duality gap: 3382281481538620.0, tolerance: 23479822380490.55\n",
      "  positive)\n",
      "/Users/shih-tien/Library/Python/3.7/lib/python/site-packages/sklearn/linear_model/coordinate_descent.py:475: ConvergenceWarning: Objective did not converge. You might want to increase the number of iterations. Duality gap: 1.1964523718645236e+16, tolerance: 20558195582142.633\n",
      "  positive)\n",
      "/Users/shih-tien/Library/Python/3.7/lib/python/site-packages/sklearn/linear_model/coordinate_descent.py:475: ConvergenceWarning: Objective did not converge. You might want to increase the number of iterations. Duality gap: 1.2950412582107672e+16, tolerance: 22704699619894.562\n",
      "  positive)\n",
      "/Users/shih-tien/Library/Python/3.7/lib/python/site-packages/sklearn/linear_model/coordinate_descent.py:475: ConvergenceWarning: Objective did not converge. You might want to increase the number of iterations. Duality gap: 1.7040209068664568e+16, tolerance: 23726166433391.688\n",
      "  positive)\n",
      "/Users/shih-tien/Library/Python/3.7/lib/python/site-packages/sklearn/linear_model/coordinate_descent.py:475: ConvergenceWarning: Objective did not converge. You might want to increase the number of iterations. Duality gap: 1.5293719640516396e+16, tolerance: 21225151292517.406\n",
      "  positive)\n",
      "/Users/shih-tien/Library/Python/3.7/lib/python/site-packages/sklearn/linear_model/coordinate_descent.py:475: ConvergenceWarning: Objective did not converge. You might want to increase the number of iterations. Duality gap: 3382305878948808.0, tolerance: 23479822380490.55\n",
      "  positive)\n",
      "/Users/shih-tien/Library/Python/3.7/lib/python/site-packages/sklearn/linear_model/coordinate_descent.py:475: ConvergenceWarning: Objective did not converge. You might want to increase the number of iterations. Duality gap: 1.1964567255314556e+16, tolerance: 20558195582142.633\n",
      "  positive)\n",
      "/Users/shih-tien/Library/Python/3.7/lib/python/site-packages/sklearn/linear_model/coordinate_descent.py:475: ConvergenceWarning: Objective did not converge. You might want to increase the number of iterations. Duality gap: 1.2542715588266208e+16, tolerance: 22704699619894.562\n",
      "  positive)\n",
      "/Users/shih-tien/Library/Python/3.7/lib/python/site-packages/sklearn/linear_model/coordinate_descent.py:475: ConvergenceWarning: Objective did not converge. You might want to increase the number of iterations. Duality gap: 1.7040261708675408e+16, tolerance: 23726166433391.688\n",
      "  positive)\n",
      "/Users/shih-tien/Library/Python/3.7/lib/python/site-packages/sklearn/linear_model/coordinate_descent.py:475: ConvergenceWarning: Objective did not converge. You might want to increase the number of iterations. Duality gap: 1.3445236231627828e+16, tolerance: 21225151292517.406\n",
      "  positive)\n",
      "/Users/shih-tien/Library/Python/3.7/lib/python/site-packages/sklearn/linear_model/coordinate_descent.py:475: ConvergenceWarning: Objective did not converge. You might want to increase the number of iterations. Duality gap: 2703156494471908.0, tolerance: 23479822380490.55\n",
      "  positive)\n",
      "/Users/shih-tien/Library/Python/3.7/lib/python/site-packages/sklearn/linear_model/coordinate_descent.py:475: ConvergenceWarning: Objective did not converge. You might want to increase the number of iterations. Duality gap: 1.075128550472798e+16, tolerance: 20558195582142.633\n",
      "  positive)\n",
      "/Users/shih-tien/Library/Python/3.7/lib/python/site-packages/sklearn/linear_model/coordinate_descent.py:475: ConvergenceWarning: Objective did not converge. You might want to increase the number of iterations. Duality gap: 9669956427067500.0, tolerance: 22704699619894.562\n",
      "  positive)\n",
      "/Users/shih-tien/Library/Python/3.7/lib/python/site-packages/sklearn/linear_model/coordinate_descent.py:475: ConvergenceWarning: Objective did not converge. You might want to increase the number of iterations. Duality gap: 1.6085296362971748e+16, tolerance: 23726166433391.688\n",
      "  positive)\n",
      "/Users/shih-tien/Library/Python/3.7/lib/python/site-packages/sklearn/linear_model/coordinate_descent.py:475: ConvergenceWarning: Objective did not converge. You might want to increase the number of iterations. Duality gap: 3121101074890712.0, tolerance: 21225151292517.406\n",
      "  positive)\n",
      "/Users/shih-tien/Library/Python/3.7/lib/python/site-packages/sklearn/linear_model/coordinate_descent.py:475: ConvergenceWarning: Objective did not converge. You might want to increase the number of iterations. Duality gap: 1512920648189432.0, tolerance: 23479822380490.55\n",
      "  positive)\n",
      "/Users/shih-tien/Library/Python/3.7/lib/python/site-packages/sklearn/linear_model/coordinate_descent.py:475: ConvergenceWarning: Objective did not converge. You might want to increase the number of iterations. Duality gap: 2809138170328200.0, tolerance: 20558195582142.633\n",
      "  positive)\n",
      "/Users/shih-tien/Library/Python/3.7/lib/python/site-packages/sklearn/linear_model/coordinate_descent.py:475: ConvergenceWarning: Objective did not converge. You might want to increase the number of iterations. Duality gap: 1577113700966512.0, tolerance: 22704699619894.562\n",
      "  positive)\n",
      "/Users/shih-tien/Library/Python/3.7/lib/python/site-packages/sklearn/linear_model/coordinate_descent.py:475: ConvergenceWarning: Objective did not converge. You might want to increase the number of iterations. Duality gap: 1923282045879712.0, tolerance: 23726166433391.688\n",
      "  positive)\n"
     ]
    },
    {
     "name": "stdout",
     "output_type": "stream",
     "text": [
      "Best parameters: {'alpha': 10000.0}\n",
      "Best cross-validation score: 0.5159\n"
     ]
    }
   ],
   "source": [
    "alphas = np.array([0.01, 0.1, 1, 10, 100, 1000, 10000])\n",
    "# create and fit a lasso regression model, testing each alpha\n",
    "model = Lasso()\n",
    "lasso_grid_search = GridSearchCV(estimator=model, param_grid=dict(alpha=alphas), return_train_score= True, iid = False, cv=5)\n",
    "lasso_grid_search.fit(X_train, y_train)\n",
    "\n",
    "print(\"Best parameters: {}\".format(lasso_grid_search.best_params_))\n",
    "print(\"Best cross-validation score: {:.4f}\".format(lasso_grid_search.best_score_))\n",
    "\n",
    "lasso_result = pd.DataFrame(ridge_grid_search.cv_results_)"
   ]
  },
  {
   "cell_type": "code",
   "execution_count": 104,
   "metadata": {},
   "outputs": [
    {
     "data": {
      "image/png": "[encoded data removed]",
      "text/plain": [
       "<Figure size 1440x360 with 1 Axes>"
      ]
     },
     "metadata": {
      "needs_background": "light"
     },
     "output_type": "display_data"
    }
   ],
   "source": [
    "%matplotlib inline\n",
    "\n",
    "plt.subplots(figsize = (20,5))\n",
    "plt.plot(range(lasso_result['params'].shape[0]), lasso_result['mean_train_score'], label = 'mean train score')\n",
    "plt.plot(range(lasso_result['params'].shape[0]), lasso_result['mean_test_score'], label = 'mean test score')\n",
    "plt.xticks(range(lasso_result['params'].shape[0]), lasso_result['params'], rotation = 90)\n",
    "plt.plot([lasso_grid_search.best_index_], lasso_result['mean_train_score'][lasso_grid_search.best_index_], 'o', markersize = 15, fillstyle = 'none')\n",
    "plt.plot([lasso_grid_search.best_index_], lasso_result['mean_test_score'][lasso_grid_search.best_index_], 'o', markersize = 15, fillstyle = 'none')\n",
    "plt.xlabel(r'$\\alpha$')\n",
    "plt.legend()\n",
    "plt.grid()"
   ]
  },
  {
   "cell_type": "code",
   "execution_count": 139,
   "metadata": {},
   "outputs": [
    {
     "name": "stdout",
     "output_type": "stream",
     "text": [
      "0.25925699207808683\n",
      "Train score: 0.6806\n",
      "Test  score: 0.2593\n",
      "Predict score: 2336867.3671\n",
      "CPU times: user 42.2 ms, sys: 24.9 ms, total: 67.2 ms\n",
      "Wall time: 83.2 ms\n"
     ]
    }
   ],
   "source": [
    "%%time\n",
    "lasso_pred = lasso_grid_search.predict(X_test)\n",
    "lasso_pred\n",
    "print(metrics.r2_score(y_test, lasso_pred, multioutput='uniform_average'))\n",
    "\n",
    "best_lasso = Lasso(alpha = 10000.0)\n",
    "best_lasso.fit(X_train,y_train)\n",
    "print('Train score: {:.4f}'.format(best_lasso.score(X_train,y_train)))\n",
    "print('Test  score: {:.4f}'.format(best_lasso.score(X_test, y_test)))\n",
    "print(\"Predict score: {:.4f}\".format(best_lasso.predict(X_test).mean()))"
   ]
  },
  {
   "cell_type": "markdown",
   "metadata": {},
   "source": [
    "## 5. Polynomial Regression"
   ]
  },
  {
   "cell_type": "code",
   "execution_count": 106,
   "metadata": {},
   "outputs": [],
   "source": [
    "from sklearn.preprocessing import PolynomialFeatures\n",
    "from sklearn.model_selection import GridSearchCV\n",
    "from sklearn.metrics import mean_squared_error"
   ]
  },
  {
   "cell_type": "code",
   "execution_count": 107,
   "metadata": {},
   "outputs": [],
   "source": [
    "poly_col = ['Degree', 'Train Score', 'Test Score']\n",
    "poly_grid_search_result = pd.DataFrame(columns = poly_col)"
   ]
  },
  {
   "cell_type": "code",
   "execution_count": 108,
   "metadata": {},
   "outputs": [],
   "source": [
    "lreg = LinearRegression()\n",
    "poly_train_score_list = []\n",
    "poly_test_score_list  = []"
   ]
  },
  {
   "cell_type": "code",
   "execution_count": 109,
   "metadata": {},
   "outputs": [],
   "source": [
    "# Degree = 1\n",
    "poly = PolynomialFeatures(1)\n",
    "X_train_poly = poly.fit_transform(X_train)\n",
    "X_test_poly = poly.transform(X_test)\n",
    "lreg.fit(X_train_poly, y_train)\n",
    "to_append = [1, lreg.score(X_train_poly, y_train), lreg.score(X_test_poly, y_test)]\n",
    "df_length = len(poly_grid_search_result)\n",
    "poly_grid_search_result.loc[df_length] = to_append\n",
    "poly_train_score_list.append(lreg.score(X_train_poly, y_train))\n",
    "poly_test_score_list.append(lreg.score(X_test_poly, y_test))"
   ]
  },
  {
   "cell_type": "code",
   "execution_count": 110,
   "metadata": {},
   "outputs": [],
   "source": [
    "# Degree = 2\n",
    "poly = PolynomialFeatures(2)\n",
    "X_train_poly = poly.fit_transform(X_train)\n",
    "X_test_poly = poly.transform(X_test)\n",
    "lreg.fit(X_train_poly, y_train)\n",
    "to_append = [2, lreg.score(X_train_poly, y_train), lreg.score(X_test_poly, y_test)]\n",
    "df_length = len(poly_grid_search_result)\n",
    "poly_grid_search_result.loc[df_length] = to_append\n",
    "poly_train_score_list.append(lreg.score(X_train_poly, y_train))\n",
    "poly_test_score_list.append(lreg.score(X_test_poly, y_test))"
   ]
  },
  {
   "cell_type": "code",
   "execution_count": 111,
   "metadata": {},
   "outputs": [],
   "source": [
    "# Degree = 3\n",
    "# poly = PolynomialFeatures(3)\n",
    "# X_train_poly = poly.fit_transform(X_train)\n",
    "# X_test_poly = poly.transform(X_test)\n",
    "# lreg.fit(X_train_poly, y_train)\n",
    "# to_append = [3, lreg.score(X_train_poly, y_train), lreg.score(X_test_poly, y_test)]\n",
    "# df_length = len(poly_grid_search_result)\n",
    "# poly_grid_search_result.loc[df_length] = to_append\n",
    "# poly_train_score_list.append(lreg.score(X_train_poly, y_train))\n",
    "# poly_test_score_list.append(lreg.score(X_test_poly, y_test))"
   ]
  },
  {
   "cell_type": "code",
   "execution_count": 112,
   "metadata": {},
   "outputs": [
    {
     "data": {
      "text/html": [
       "<div>\n",
       "<style scoped>\n",
       "    .dataframe tbody tr th:only-of-type {\n",
       "        vertical-align: middle;\n",
       "    }\n",
       "\n",
       "    .dataframe tbody tr th {\n",
       "        vertical-align: top;\n",
       "    }\n",
       "\n",
       "    .dataframe thead th {\n",
       "        text-align: right;\n",
       "    }\n",
       "</style>\n",
       "<table border=\"1\" class=\"dataframe\">\n",
       "  <thead>\n",
       "    <tr style=\"text-align: right;\">\n",
       "      <th></th>\n",
       "      <th>Degree</th>\n",
       "      <th>Train Score</th>\n",
       "      <th>Test Score</th>\n",
       "    </tr>\n",
       "  </thead>\n",
       "  <tbody>\n",
       "    <tr>\n",
       "      <th>0</th>\n",
       "      <td>1.0</td>\n",
       "      <td>0.679499</td>\n",
       "      <td>-8.744299e+22</td>\n",
       "    </tr>\n",
       "    <tr>\n",
       "      <th>1</th>\n",
       "      <td>2.0</td>\n",
       "      <td>0.982240</td>\n",
       "      <td>-2.366285e+23</td>\n",
       "    </tr>\n",
       "  </tbody>\n",
       "</table>\n",
       "</div>"
      ],
      "text/plain": [
       "   Degree  Train Score    Test Score\n",
       "0     1.0     0.679499 -8.744299e+22\n",
       "1     2.0     0.982240 -2.366285e+23"
      ]
     },
     "execution_count": 112,
     "metadata": {},
     "output_type": "execute_result"
    }
   ],
   "source": [
    "poly_grid_search_result.head()"
   ]
  },
  {
   "cell_type": "markdown",
   "metadata": {},
   "source": [
    "## Degree 2 have better result!"
   ]
  },
  {
   "cell_type": "code",
   "execution_count": 146,
   "metadata": {},
   "outputs": [
    {
     "name": "stdout",
     "output_type": "stream",
     "text": [
      "Average cross-validation train score: -4364087585721162240.0000\n",
      "Average cross-validation test score: -0.0383\n",
      "Predict score: -101591799075579072.0000\n"
     ]
    }
   ],
   "source": [
    "poly = PolynomialFeatures(degree=2)\n",
    "# Instantiate\n",
    "lg = LinearRegression()\n",
    "# Fit LinearRegression\n",
    "poly = lg.fit(X_train_poly, y_train)\n",
    "# coefficients\n",
    "lg.coef_\n",
    "\n",
    "scores_1 = cross_val_score(poly, X_train_poly, y_train, cv=5)\n",
    "scores_2 = cross_val_score(poly, X_test_poly, y_test, cv=5)\n",
    "\n",
    "print(\"Average cross-validation train score: {:.4f}\".format(scores_1.mean()))\n",
    "print(\"Average cross-validation test score: {:.4f}\".format(scores_2.mean()))\n",
    "print(\"Predict score: {:.4f}\".format(lg.predict(X_test_poly).mean()))"
   ]
  },
  {
   "cell_type": "markdown",
   "metadata": {},
   "source": [
    "## 6. SVM both simple and with kernels (rbf, poly, linear)"
   ]
  },
  {
   "cell_type": "markdown",
   "metadata": {},
   "source": [
    "### 1. rbf"
   ]
  },
  {
   "cell_type": "code",
   "execution_count": 114,
   "metadata": {},
   "outputs": [
    {
     "name": "stderr",
     "output_type": "stream",
     "text": [
      "/Users/shih-tien/Library/Python/3.7/lib/python/site-packages/sklearn/svm/base.py:193: FutureWarning: The default value of gamma will change from 'auto' to 'scale' in version 0.22 to account better for unscaled features. Set gamma explicitly to 'auto' or 'scale' to avoid this warning.\n",
      "  \"avoid this warning.\", FutureWarning)\n"
     ]
    },
    {
     "data": {
      "text/plain": [
       "SVR(C=1.0, cache_size=200, coef0=0.0, degree=3, epsilon=0.1,\n",
       "    gamma='auto_deprecated', kernel='rbf', max_iter=-1, shrinking=True,\n",
       "    tol=0.001, verbose=False)"
      ]
     },
     "execution_count": 114,
     "metadata": {},
     "output_type": "execute_result"
    }
   ],
   "source": [
    "from sklearn.svm import SVR\n",
    "from sklearn import svm\n",
    "\n",
    "svr_rbf = SVR(kernel='rbf')\n",
    "svr_rbf.fit(X_train,y_train)"
   ]
  },
  {
   "cell_type": "code",
   "execution_count": 115,
   "metadata": {},
   "outputs": [
    {
     "name": "stdout",
     "output_type": "stream",
     "text": [
      "Training set score: -0.0451\n",
      "Test set score: -0.0658\n"
     ]
    }
   ],
   "source": [
    "print(\"Training set score: {:.4f}\".format(svr_rbf.score(X_train, y_train))) \n",
    "print(\"Test set score: {:.4f}\".format(svr_rbf.score(X_test, y_test))) "
   ]
  },
  {
   "cell_type": "markdown",
   "metadata": {},
   "source": [
    "### Grid Search"
   ]
  },
  {
   "cell_type": "code",
   "execution_count": 116,
   "metadata": {},
   "outputs": [
    {
     "name": "stderr",
     "output_type": "stream",
     "text": [
      "/Users/shih-tien/Library/Python/3.7/lib/python/site-packages/sklearn/model_selection/_split.py:1978: FutureWarning: The default value of cv will change from 3 to 5 in version 0.22. Specify it explicitly to silence this warning.\n",
      "  warnings.warn(CV_WARNING, FutureWarning)\n"
     ]
    },
    {
     "name": "stdout",
     "output_type": "stream",
     "text": [
      "Best Estimator: SVR(C=1000, cache_size=200, coef0=0.0, degree=3, epsilon=0.01, gamma=0.003,\n",
      "    kernel='rbf', max_iter=-1, shrinking=True, tol=0.001, verbose=False)\n",
      "Type: <class 'sklearn.svm.classes.SVR'>\n",
      "Best score: -0.04493281646479441\n"
     ]
    }
   ],
   "source": [
    "regr_rbf = SVR(kernel=\"rbf\")\n",
    "C = [1000, 10, 1]\n",
    "gamma = [0.005, 0.004, 0.003, 0.002, 0.001]\n",
    "epsilon = [0.1, 0.01]\n",
    "parameters = {\"C\":C, \"gamma\":gamma, \"epsilon\":epsilon}\n",
    "\n",
    "gs = GridSearchCV(regr_rbf, parameters, scoring=\"r2\")\n",
    "gs.fit(X_train, y_train)\n",
    "\n",
    "print(\"Best Estimator: {}\".format(gs.best_estimator_))\n",
    "print(\"Type: %r\" % (type(gs.best_estimator_)))\n",
    "print(\"Best score: {}\".format(gs.best_score_))"
   ]
  },
  {
   "cell_type": "markdown",
   "metadata": {},
   "source": [
    "### Cross Validation"
   ]
  },
  {
   "cell_type": "code",
   "execution_count": 117,
   "metadata": {},
   "outputs": [
    {
     "name": "stderr",
     "output_type": "stream",
     "text": [
      "/Users/shih-tien/Library/Python/3.7/lib/python/site-packages/sklearn/model_selection/_split.py:1978: FutureWarning: The default value of cv will change from 3 to 5 in version 0.22. Specify it explicitly to silence this warning.\n",
      "  warnings.warn(CV_WARNING, FutureWarning)\n",
      "/Users/shih-tien/Library/Python/3.7/lib/python/site-packages/sklearn/svm/base.py:193: FutureWarning: The default value of gamma will change from 'auto' to 'scale' in version 0.22 to account better for unscaled features. Set gamma explicitly to 'auto' or 'scale' to avoid this warning.\n",
      "  \"avoid this warning.\", FutureWarning)\n",
      "/Users/shih-tien/Library/Python/3.7/lib/python/site-packages/sklearn/svm/base.py:193: FutureWarning: The default value of gamma will change from 'auto' to 'scale' in version 0.22 to account better for unscaled features. Set gamma explicitly to 'auto' or 'scale' to avoid this warning.\n",
      "  \"avoid this warning.\", FutureWarning)\n",
      "/Users/shih-tien/Library/Python/3.7/lib/python/site-packages/sklearn/svm/base.py:193: FutureWarning: The default value of gamma will change from 'auto' to 'scale' in version 0.22 to account better for unscaled features. Set gamma explicitly to 'auto' or 'scale' to avoid this warning.\n",
      "  \"avoid this warning.\", FutureWarning)\n",
      "/Users/shih-tien/Library/Python/3.7/lib/python/site-packages/sklearn/model_selection/_split.py:1978: FutureWarning: The default value of cv will change from 3 to 5 in version 0.22. Specify it explicitly to silence this warning.\n",
      "  warnings.warn(CV_WARNING, FutureWarning)\n",
      "/Users/shih-tien/Library/Python/3.7/lib/python/site-packages/sklearn/svm/base.py:193: FutureWarning: The default value of gamma will change from 'auto' to 'scale' in version 0.22 to account better for unscaled features. Set gamma explicitly to 'auto' or 'scale' to avoid this warning.\n",
      "  \"avoid this warning.\", FutureWarning)\n",
      "/Users/shih-tien/Library/Python/3.7/lib/python/site-packages/sklearn/svm/base.py:193: FutureWarning: The default value of gamma will change from 'auto' to 'scale' in version 0.22 to account better for unscaled features. Set gamma explicitly to 'auto' or 'scale' to avoid this warning.\n",
      "  \"avoid this warning.\", FutureWarning)\n"
     ]
    },
    {
     "name": "stdout",
     "output_type": "stream",
     "text": [
      "SVR rbf Regression Cross-validation train scores: [-0.04872749 -0.04937383 -0.03715261]\n",
      "SVR rbf Regression Cross-validation train scores: [-0.09704467 -0.04857258 -0.08394281]\n"
     ]
    },
    {
     "name": "stderr",
     "output_type": "stream",
     "text": [
      "/Users/shih-tien/Library/Python/3.7/lib/python/site-packages/sklearn/svm/base.py:193: FutureWarning: The default value of gamma will change from 'auto' to 'scale' in version 0.22 to account better for unscaled features. Set gamma explicitly to 'auto' or 'scale' to avoid this warning.\n",
      "  \"avoid this warning.\", FutureWarning)\n"
     ]
    }
   ],
   "source": [
    "svr_rbf_scores_1 = cross_val_score(svr_rbf, X_train, y_train)\n",
    "svr_rbf_scores_2 = cross_val_score(svr_rbf, X_test, y_test)\n",
    "\n",
    "print(\"SVR rbf Regression Cross-validation train scores: {}\".format(svr_rbf_scores_1))\n",
    "print(\"SVR rbf Regression Cross-validation train scores: {}\".format(svr_rbf_scores_2))"
   ]
  },
  {
   "cell_type": "markdown",
   "metadata": {},
   "source": [
    "#### Using 5 folds"
   ]
  },
  {
   "cell_type": "code",
   "execution_count": 118,
   "metadata": {},
   "outputs": [
    {
     "name": "stderr",
     "output_type": "stream",
     "text": [
      "/Users/shih-tien/Library/Python/3.7/lib/python/site-packages/sklearn/svm/base.py:193: FutureWarning: The default value of gamma will change from 'auto' to 'scale' in version 0.22 to account better for unscaled features. Set gamma explicitly to 'auto' or 'scale' to avoid this warning.\n",
      "  \"avoid this warning.\", FutureWarning)\n",
      "/Users/shih-tien/Library/Python/3.7/lib/python/site-packages/sklearn/svm/base.py:193: FutureWarning: The default value of gamma will change from 'auto' to 'scale' in version 0.22 to account better for unscaled features. Set gamma explicitly to 'auto' or 'scale' to avoid this warning.\n",
      "  \"avoid this warning.\", FutureWarning)\n",
      "/Users/shih-tien/Library/Python/3.7/lib/python/site-packages/sklearn/svm/base.py:193: FutureWarning: The default value of gamma will change from 'auto' to 'scale' in version 0.22 to account better for unscaled features. Set gamma explicitly to 'auto' or 'scale' to avoid this warning.\n",
      "  \"avoid this warning.\", FutureWarning)\n",
      "/Users/shih-tien/Library/Python/3.7/lib/python/site-packages/sklearn/svm/base.py:193: FutureWarning: The default value of gamma will change from 'auto' to 'scale' in version 0.22 to account better for unscaled features. Set gamma explicitly to 'auto' or 'scale' to avoid this warning.\n",
      "  \"avoid this warning.\", FutureWarning)\n",
      "/Users/shih-tien/Library/Python/3.7/lib/python/site-packages/sklearn/svm/base.py:193: FutureWarning: The default value of gamma will change from 'auto' to 'scale' in version 0.22 to account better for unscaled features. Set gamma explicitly to 'auto' or 'scale' to avoid this warning.\n",
      "  \"avoid this warning.\", FutureWarning)\n",
      "/Users/shih-tien/Library/Python/3.7/lib/python/site-packages/sklearn/svm/base.py:193: FutureWarning: The default value of gamma will change from 'auto' to 'scale' in version 0.22 to account better for unscaled features. Set gamma explicitly to 'auto' or 'scale' to avoid this warning.\n",
      "  \"avoid this warning.\", FutureWarning)\n",
      "/Users/shih-tien/Library/Python/3.7/lib/python/site-packages/sklearn/svm/base.py:193: FutureWarning: The default value of gamma will change from 'auto' to 'scale' in version 0.22 to account better for unscaled features. Set gamma explicitly to 'auto' or 'scale' to avoid this warning.\n",
      "  \"avoid this warning.\", FutureWarning)\n",
      "/Users/shih-tien/Library/Python/3.7/lib/python/site-packages/sklearn/svm/base.py:193: FutureWarning: The default value of gamma will change from 'auto' to 'scale' in version 0.22 to account better for unscaled features. Set gamma explicitly to 'auto' or 'scale' to avoid this warning.\n",
      "  \"avoid this warning.\", FutureWarning)\n",
      "/Users/shih-tien/Library/Python/3.7/lib/python/site-packages/sklearn/svm/base.py:193: FutureWarning: The default value of gamma will change from 'auto' to 'scale' in version 0.22 to account better for unscaled features. Set gamma explicitly to 'auto' or 'scale' to avoid this warning.\n",
      "  \"avoid this warning.\", FutureWarning)\n",
      "/Users/shih-tien/Library/Python/3.7/lib/python/site-packages/sklearn/svm/base.py:193: FutureWarning: The default value of gamma will change from 'auto' to 'scale' in version 0.22 to account better for unscaled features. Set gamma explicitly to 'auto' or 'scale' to avoid this warning.\n",
      "  \"avoid this warning.\", FutureWarning)\n"
     ]
    },
    {
     "name": "stdout",
     "output_type": "stream",
     "text": [
      "Average cross-validation train score: -0.046\n",
      "Average cross-validation test score: -0.079\n"
     ]
    }
   ],
   "source": [
    "scores_1 = cross_val_score(svr_rbf, X_train, y_train, cv=5)\n",
    "scores_2 = cross_val_score(svr_rbf, X_test, y_test, cv=5)\n",
    "\n",
    "print(\"Average cross-validation train score: {:.3f}\".format(scores_1.mean()))\n",
    "print(\"Average cross-validation test score: {:.3f}\".format(scores_2.mean()))"
   ]
  },
  {
   "cell_type": "markdown",
   "metadata": {},
   "source": [
    "### 2. poly"
   ]
  },
  {
   "cell_type": "code",
   "execution_count": 119,
   "metadata": {},
   "outputs": [
    {
     "name": "stderr",
     "output_type": "stream",
     "text": [
      "/Users/shih-tien/Library/Python/3.7/lib/python/site-packages/sklearn/svm/base.py:193: FutureWarning: The default value of gamma will change from 'auto' to 'scale' in version 0.22 to account better for unscaled features. Set gamma explicitly to 'auto' or 'scale' to avoid this warning.\n",
      "  \"avoid this warning.\", FutureWarning)\n"
     ]
    },
    {
     "name": "stdout",
     "output_type": "stream",
     "text": [
      "Training set score: -0.0451\n",
      "Test set score: -0.0658\n"
     ]
    }
   ],
   "source": [
    "svr_poly = SVR(kernel='poly')\n",
    "svr_poly.fit(X_train,y_train)\n",
    "print(\"Training set score: {:.4f}\".format(svr_poly.score(X_train, y_train))) \n",
    "print(\"Test set score: {:.4f}\".format(svr_poly.score(X_test, y_test))) "
   ]
  },
  {
   "cell_type": "markdown",
   "metadata": {},
   "source": [
    "### Grid Search"
   ]
  },
  {
   "cell_type": "code",
   "execution_count": 120,
   "metadata": {},
   "outputs": [
    {
     "name": "stderr",
     "output_type": "stream",
     "text": [
      "/Users/shih-tien/Library/Python/3.7/lib/python/site-packages/sklearn/model_selection/_split.py:1978: FutureWarning: The default value of cv will change from 3 to 5 in version 0.22. Specify it explicitly to silence this warning.\n",
      "  warnings.warn(CV_WARNING, FutureWarning)\n"
     ]
    },
    {
     "name": "stdout",
     "output_type": "stream",
     "text": [
      "Best Estimator: SVR(C=1000, cache_size=200, coef0=0.0, degree=3, epsilon=0.01, gamma=0.005,\n",
      "    kernel='poly', max_iter=-1, shrinking=True, tol=0.001, verbose=False)\n",
      "Type: <class 'sklearn.svm.classes.SVR'>\n",
      "Best score: -0.04452550704644735\n"
     ]
    }
   ],
   "source": [
    "regr_poly = SVR(kernel=\"poly\")\n",
    "C = [1000, 10, 1]\n",
    "gamma = [0.005, 0.004, 0.003, 0.002, 0.001]\n",
    "epsilon = [0.1, 0.01]\n",
    "parameters = {\"C\":C, \"gamma\":gamma, \"epsilon\":epsilon}\n",
    "\n",
    "gs1 = GridSearchCV(regr_poly, parameters, scoring=\"r2\")\n",
    "gs1.fit(X_train, y_train)\n",
    "\n",
    "print(\"Best Estimator: {}\".format(gs1.best_estimator_))\n",
    "print(\"Type: %r\" % (type(gs1.best_estimator_)))\n",
    "\n",
    "print(\"Best score: {}\".format(gs1.best_score_))"
   ]
  },
  {
   "cell_type": "markdown",
   "metadata": {},
   "source": [
    "### Cross Validation"
   ]
  },
  {
   "cell_type": "code",
   "execution_count": 121,
   "metadata": {},
   "outputs": [
    {
     "name": "stderr",
     "output_type": "stream",
     "text": [
      "/Users/shih-tien/Library/Python/3.7/lib/python/site-packages/sklearn/model_selection/_split.py:1978: FutureWarning: The default value of cv will change from 3 to 5 in version 0.22. Specify it explicitly to silence this warning.\n",
      "  warnings.warn(CV_WARNING, FutureWarning)\n",
      "/Users/shih-tien/Library/Python/3.7/lib/python/site-packages/sklearn/svm/base.py:193: FutureWarning: The default value of gamma will change from 'auto' to 'scale' in version 0.22 to account better for unscaled features. Set gamma explicitly to 'auto' or 'scale' to avoid this warning.\n",
      "  \"avoid this warning.\", FutureWarning)\n",
      "/Users/shih-tien/Library/Python/3.7/lib/python/site-packages/sklearn/svm/base.py:193: FutureWarning: The default value of gamma will change from 'auto' to 'scale' in version 0.22 to account better for unscaled features. Set gamma explicitly to 'auto' or 'scale' to avoid this warning.\n",
      "  \"avoid this warning.\", FutureWarning)\n",
      "/Users/shih-tien/Library/Python/3.7/lib/python/site-packages/sklearn/svm/base.py:193: FutureWarning: The default value of gamma will change from 'auto' to 'scale' in version 0.22 to account better for unscaled features. Set gamma explicitly to 'auto' or 'scale' to avoid this warning.\n",
      "  \"avoid this warning.\", FutureWarning)\n",
      "/Users/shih-tien/Library/Python/3.7/lib/python/site-packages/sklearn/model_selection/_split.py:1978: FutureWarning: The default value of cv will change from 3 to 5 in version 0.22. Specify it explicitly to silence this warning.\n",
      "  warnings.warn(CV_WARNING, FutureWarning)\n",
      "/Users/shih-tien/Library/Python/3.7/lib/python/site-packages/sklearn/svm/base.py:193: FutureWarning: The default value of gamma will change from 'auto' to 'scale' in version 0.22 to account better for unscaled features. Set gamma explicitly to 'auto' or 'scale' to avoid this warning.\n",
      "  \"avoid this warning.\", FutureWarning)\n",
      "/Users/shih-tien/Library/Python/3.7/lib/python/site-packages/sklearn/svm/base.py:193: FutureWarning: The default value of gamma will change from 'auto' to 'scale' in version 0.22 to account better for unscaled features. Set gamma explicitly to 'auto' or 'scale' to avoid this warning.\n",
      "  \"avoid this warning.\", FutureWarning)\n"
     ]
    },
    {
     "name": "stdout",
     "output_type": "stream",
     "text": [
      "SVR Linear Regression Cross-validation train scores: [-0.04872771 -0.04937377 -0.03715257]\n",
      "SVR Linear Regression Cross-validation test scores: [-0.09704523 -0.04857258 -0.08394295]\n"
     ]
    },
    {
     "name": "stderr",
     "output_type": "stream",
     "text": [
      "/Users/shih-tien/Library/Python/3.7/lib/python/site-packages/sklearn/svm/base.py:193: FutureWarning: The default value of gamma will change from 'auto' to 'scale' in version 0.22 to account better for unscaled features. Set gamma explicitly to 'auto' or 'scale' to avoid this warning.\n",
      "  \"avoid this warning.\", FutureWarning)\n"
     ]
    }
   ],
   "source": [
    "svr_poly_scores_1 = cross_val_score(svr_poly, X_train, y_train)\n",
    "svr_poly_scores_2 = cross_val_score(svr_poly, X_test, y_test)\n",
    "\n",
    "print(\"SVR Linear Regression Cross-validation train scores: {}\".format(svr_poly_scores_1))\n",
    "print(\"SVR Linear Regression Cross-validation test scores: {}\".format(svr_poly_scores_2))"
   ]
  },
  {
   "cell_type": "code",
   "execution_count": 122,
   "metadata": {},
   "outputs": [
    {
     "name": "stderr",
     "output_type": "stream",
     "text": [
      "/Users/shih-tien/Library/Python/3.7/lib/python/site-packages/sklearn/svm/base.py:193: FutureWarning: The default value of gamma will change from 'auto' to 'scale' in version 0.22 to account better for unscaled features. Set gamma explicitly to 'auto' or 'scale' to avoid this warning.\n",
      "  \"avoid this warning.\", FutureWarning)\n",
      "/Users/shih-tien/Library/Python/3.7/lib/python/site-packages/sklearn/svm/base.py:193: FutureWarning: The default value of gamma will change from 'auto' to 'scale' in version 0.22 to account better for unscaled features. Set gamma explicitly to 'auto' or 'scale' to avoid this warning.\n",
      "  \"avoid this warning.\", FutureWarning)\n",
      "/Users/shih-tien/Library/Python/3.7/lib/python/site-packages/sklearn/svm/base.py:193: FutureWarning: The default value of gamma will change from 'auto' to 'scale' in version 0.22 to account better for unscaled features. Set gamma explicitly to 'auto' or 'scale' to avoid this warning.\n",
      "  \"avoid this warning.\", FutureWarning)\n",
      "/Users/shih-tien/Library/Python/3.7/lib/python/site-packages/sklearn/svm/base.py:193: FutureWarning: The default value of gamma will change from 'auto' to 'scale' in version 0.22 to account better for unscaled features. Set gamma explicitly to 'auto' or 'scale' to avoid this warning.\n",
      "  \"avoid this warning.\", FutureWarning)\n",
      "/Users/shih-tien/Library/Python/3.7/lib/python/site-packages/sklearn/svm/base.py:193: FutureWarning: The default value of gamma will change from 'auto' to 'scale' in version 0.22 to account better for unscaled features. Set gamma explicitly to 'auto' or 'scale' to avoid this warning.\n",
      "  \"avoid this warning.\", FutureWarning)\n",
      "/Users/shih-tien/Library/Python/3.7/lib/python/site-packages/sklearn/svm/base.py:193: FutureWarning: The default value of gamma will change from 'auto' to 'scale' in version 0.22 to account better for unscaled features. Set gamma explicitly to 'auto' or 'scale' to avoid this warning.\n",
      "  \"avoid this warning.\", FutureWarning)\n",
      "/Users/shih-tien/Library/Python/3.7/lib/python/site-packages/sklearn/svm/base.py:193: FutureWarning: The default value of gamma will change from 'auto' to 'scale' in version 0.22 to account better for unscaled features. Set gamma explicitly to 'auto' or 'scale' to avoid this warning.\n",
      "  \"avoid this warning.\", FutureWarning)\n",
      "/Users/shih-tien/Library/Python/3.7/lib/python/site-packages/sklearn/svm/base.py:193: FutureWarning: The default value of gamma will change from 'auto' to 'scale' in version 0.22 to account better for unscaled features. Set gamma explicitly to 'auto' or 'scale' to avoid this warning.\n",
      "  \"avoid this warning.\", FutureWarning)\n",
      "/Users/shih-tien/Library/Python/3.7/lib/python/site-packages/sklearn/svm/base.py:193: FutureWarning: The default value of gamma will change from 'auto' to 'scale' in version 0.22 to account better for unscaled features. Set gamma explicitly to 'auto' or 'scale' to avoid this warning.\n",
      "  \"avoid this warning.\", FutureWarning)\n"
     ]
    },
    {
     "name": "stdout",
     "output_type": "stream",
     "text": [
      "Average cross-validation train score: -0.046\n",
      "Average cross-validation test score: -0.079\n"
     ]
    },
    {
     "name": "stderr",
     "output_type": "stream",
     "text": [
      "/Users/shih-tien/Library/Python/3.7/lib/python/site-packages/sklearn/svm/base.py:193: FutureWarning: The default value of gamma will change from 'auto' to 'scale' in version 0.22 to account better for unscaled features. Set gamma explicitly to 'auto' or 'scale' to avoid this warning.\n",
      "  \"avoid this warning.\", FutureWarning)\n"
     ]
    }
   ],
   "source": [
    "scores_1 = cross_val_score(svr_poly, X_train, y_train, cv=5)\n",
    "scores_2 = cross_val_score(svr_poly, X_test, y_test, cv=5)\n",
    "\n",
    "print(\"Average cross-validation train score: {:.3f}\".format(scores_1.mean()))\n",
    "print(\"Average cross-validation test score: {:.3f}\".format(scores_2.mean()))"
   ]
  },
  {
   "cell_type": "markdown",
   "metadata": {},
   "source": [
    "### 3. linear"
   ]
  },
  {
   "cell_type": "code",
   "execution_count": 123,
   "metadata": {},
   "outputs": [
    {
     "name": "stdout",
     "output_type": "stream",
     "text": [
      "Training set score: -0.0449\n",
      "Test set score: -0.0655\n"
     ]
    }
   ],
   "source": [
    "svr_linear = SVR(kernel='linear')\n",
    "svr_linear.fit(X_train,y_train)\n",
    "print(\"Training set score: {:.4f}\".format(svr_linear.score(X_train, y_train))) \n",
    "print(\"Test set score: {:.4f}\".format(svr_linear.score(X_test, y_test))) "
   ]
  },
  {
   "cell_type": "markdown",
   "metadata": {},
   "source": [
    "### Cross Validation"
   ]
  },
  {
   "cell_type": "code",
   "execution_count": 124,
   "metadata": {},
   "outputs": [
    {
     "name": "stderr",
     "output_type": "stream",
     "text": [
      "/Users/shih-tien/Library/Python/3.7/lib/python/site-packages/sklearn/model_selection/_split.py:1978: FutureWarning: The default value of cv will change from 3 to 5 in version 0.22. Specify it explicitly to silence this warning.\n",
      "  warnings.warn(CV_WARNING, FutureWarning)\n",
      "/Users/shih-tien/Library/Python/3.7/lib/python/site-packages/sklearn/model_selection/_split.py:1978: FutureWarning: The default value of cv will change from 3 to 5 in version 0.22. Specify it explicitly to silence this warning.\n",
      "  warnings.warn(CV_WARNING, FutureWarning)\n"
     ]
    },
    {
     "name": "stdout",
     "output_type": "stream",
     "text": [
      "SVR Linear Regression Cross-validation train scores: [-0.04854081 -0.0491917  -0.03704059]\n",
      "SVR Linear Regression Cross-validation test scores: [-0.09700681 -0.04854632 -0.08384959]\n"
     ]
    }
   ],
   "source": [
    "svr_linear_scores_1 = cross_val_score(svr_linear, X_train, y_train)\n",
    "svr_linear_scores_2 = cross_val_score(svr_linear, X_test, y_test)\n",
    "\n",
    "print(\"SVR Linear Regression Cross-validation train scores: {}\".format(svr_linear_scores_1))\n",
    "print(\"SVR Linear Regression Cross-validation test scores: {}\".format(svr_linear_scores_2))"
   ]
  },
  {
   "cell_type": "code",
   "execution_count": 125,
   "metadata": {},
   "outputs": [
    {
     "name": "stdout",
     "output_type": "stream",
     "text": [
      "Average cross-validation train score: -0.046\n",
      "Average cross-validation test score: -0.079\n"
     ]
    }
   ],
   "source": [
    "scores_1 = cross_val_score(svr_linear, X_train, y_train, cv=5)\n",
    "scores_2 = cross_val_score(svr_linear, X_test, y_test, cv=5)\n",
    "\n",
    "print(\"Average cross-validation train score: {:.3f}\".format(scores_1.mean()))\n",
    "print(\"Average cross-validation test score: {:.3f}\".format(scores_2.mean()))"
   ]
  },
  {
   "cell_type": "markdown",
   "metadata": {},
   "source": [
    "## Find the best model among different Kernel method (linear, rbf, poly)"
   ]
  },
  {
   "cell_type": "code",
   "execution_count": 126,
   "metadata": {},
   "outputs": [
    {
     "name": "stderr",
     "output_type": "stream",
     "text": [
      "/Users/shih-tien/Library/Python/3.7/lib/python/site-packages/sklearn/model_selection/_split.py:1978: FutureWarning: The default value of cv will change from 3 to 5 in version 0.22. Specify it explicitly to silence this warning.\n",
      "  warnings.warn(CV_WARNING, FutureWarning)\n"
     ]
    },
    {
     "data": {
      "text/plain": [
       "{'C': 10, 'epsilon': 0.1, 'gamma': 1e-07, 'kernel': 'linear'}"
      ]
     },
     "execution_count": 126,
     "metadata": {},
     "output_type": "execute_result"
    }
   ],
   "source": [
    "parameters = {'kernel': ('linear', 'rbf','poly'), 'C':[1.5, 10],'gamma': [1e-7, 1e-4],'epsilon':[0.1,0.2,0.5,0.3]}\n",
    "svr = SVR()\n",
    "clf = GridSearchCV(svr, parameters)\n",
    "clf.fit(X_train, y_train)\n",
    "clf.best_params_"
   ]
  },
  {
   "cell_type": "code",
   "execution_count": 127,
   "metadata": {},
   "outputs": [
    {
     "name": "stdout",
     "output_type": "stream",
     "text": [
      "Best score: -0.043500795735727404\n"
     ]
    }
   ],
   "source": [
    "print(\"Best score: {}\".format(clf.best_score_))"
   ]
  },
  {
   "cell_type": "code",
   "execution_count": 128,
   "metadata": {},
   "outputs": [
    {
     "name": "stdout",
     "output_type": "stream",
     "text": [
      "Predict score: 733603.454311644\n"
     ]
    }
   ],
   "source": [
    "print(\"Predict score: {}\".format(clf.predict(X_test).mean()))"
   ]
  },
  {
   "cell_type": "markdown",
   "metadata": {},
   "source": [
    "## Conclusion"
   ]
  },
  {
   "cell_type": "code",
   "execution_count": 149,
   "metadata": {},
   "outputs": [
    {
     "data": {
      "text/html": [
       "<div>\n",
       "<style scoped>\n",
       "    .dataframe tbody tr th:only-of-type {\n",
       "        vertical-align: middle;\n",
       "    }\n",
       "\n",
       "    .dataframe tbody tr th {\n",
       "        vertical-align: top;\n",
       "    }\n",
       "\n",
       "    .dataframe thead th {\n",
       "        text-align: right;\n",
       "    }\n",
       "</style>\n",
       "<table border=\"1\" class=\"dataframe\">\n",
       "  <thead>\n",
       "    <tr style=\"text-align: right;\">\n",
       "      <th></th>\n",
       "      <th>Model</th>\n",
       "      <th>Grid Search &amp; Cross Validation - Test Score</th>\n",
       "      <th>Predict Score</th>\n",
       "    </tr>\n",
       "  </thead>\n",
       "  <tbody>\n",
       "    <tr>\n",
       "      <th>0</th>\n",
       "      <td>KNN Regression</td>\n",
       "      <td>1.019000e-01</td>\n",
       "      <td>2.496760e+06</td>\n",
       "    </tr>\n",
       "    <tr>\n",
       "      <th>1</th>\n",
       "      <td>Linear Regression</td>\n",
       "      <td>-8.536684e+22</td>\n",
       "      <td>1.105190e+17</td>\n",
       "    </tr>\n",
       "    <tr>\n",
       "      <th>2</th>\n",
       "      <td>Ridge</td>\n",
       "      <td>3.779000e-01</td>\n",
       "      <td>2.448445e+06</td>\n",
       "    </tr>\n",
       "    <tr>\n",
       "      <th>3</th>\n",
       "      <td>Lasso</td>\n",
       "      <td>2.593000e-01</td>\n",
       "      <td>2.336867e+06</td>\n",
       "    </tr>\n",
       "    <tr>\n",
       "      <th>4</th>\n",
       "      <td>polynomial regression</td>\n",
       "      <td>-3.830000e-02</td>\n",
       "      <td>-1.015918e+17</td>\n",
       "    </tr>\n",
       "    <tr>\n",
       "      <th>5</th>\n",
       "      <td>SVR-linear</td>\n",
       "      <td>-4.350080e-02</td>\n",
       "      <td>7.336035e+05</td>\n",
       "    </tr>\n",
       "  </tbody>\n",
       "</table>\n",
       "</div>"
      ],
      "text/plain": [
       "                   Model  Grid Search & Cross Validation - Test Score  \\\n",
       "0         KNN Regression                                 1.019000e-01   \n",
       "1      Linear Regression                                -8.536684e+22   \n",
       "2                  Ridge                                 3.779000e-01   \n",
       "3                  Lasso                                 2.593000e-01   \n",
       "4  polynomial regression                                -3.830000e-02   \n",
       "5             SVR-linear                                -4.350080e-02   \n",
       "\n",
       "   Predict Score  \n",
       "0   2.496760e+06  \n",
       "1   1.105190e+17  \n",
       "2   2.448445e+06  \n",
       "3   2.336867e+06  \n",
       "4  -1.015918e+17  \n",
       "5   7.336035e+05  "
      ]
     },
     "execution_count": 149,
     "metadata": {},
     "output_type": "execute_result"
    }
   ],
   "source": [
    "model_performance_metrics = pd.DataFrame(\n",
    "    {\"Model\": ['KNN Regression', 'Linear Regression', 'Ridge', 'Lasso', 'polynomial regression','SVR-linear'],\n",
    "     \"Grid Search & Cross Validation - Test Score\": [0.1019, -85366843836520265154560.0000,\n",
    "                                                     0.3779, 0.2593, -0.0383, -0.0435007957357274],\n",
    "     \"Predict Score\": [2496759.71179487, 110518965516407936.0000, 2448445.0797, 2336867.3671, -101591799075579072, 733603.454311644]                                          \n",
    "    })\n",
    "model_performance_metrics"
   ]
  },
  {
   "cell_type": "markdown",
   "metadata": {},
   "source": [
    "The result is quite weird since linear, poly and SVR are having a negative score.\\\n",
    "According to my observation, the possible reason is there are too many irrelevant X variables in the models. Therefore, when I use ridge and lasso to penalize the regression, I can get a reasonable result.\\\n",
    "Based on the model performance metrics above, the best model is Ridge regression.\n",
    "* The score is 0.3779.\n",
    "* The best parameters is alpha = 1000\n",
    "* The predict values is 2448445.0797"
   ]
  },
  {
   "cell_type": "code",
   "execution_count": null,
   "metadata": {},
   "outputs": [],
   "source": []
  },
  {
   "cell_type": "code",
   "execution_count": null,
   "metadata": {},
   "outputs": [],
   "source": []
  }
 ],
 "metadata": {
  "kernelspec": {
   "display_name": "Python 3",
   "language": "python",
   "name": "python3"
  },
  "language_info": {
   "codemirror_mode": {
    "name": "ipython",
    "version": 3
   },
   "file_extension": ".py",
   "mimetype": "text/x-python",
   "name": "python",
   "nbconvert_exporter": "python",
   "pygments_lexer": "ipython3",
   "version": "3.7.6"
  }
 },
 "nbformat": 4,
 "nbformat_minor": 2
}
